{
  "nbformat": 4,
  "nbformat_minor": 0,
  "metadata": {
    "colab": {
      "name": "Assignment 4.ipynb",
      "provenance": [],
      "collapsed_sections": [],
      "authorship_tag": "ABX9TyOji1Sli6uA1zjey5TgegRb",
      "include_colab_link": true
    },
    "kernelspec": {
      "name": "python3",
      "display_name": "Python 3"
    },
    "language_info": {
      "name": "python"
    },
    "accelerator": "GPU"
  },
  "cells": [
    {
      "cell_type": "markdown",
      "metadata": {
        "id": "view-in-github",
        "colab_type": "text"
      },
      "source": [
        "<a href=\"https://colab.research.google.com/github/saffarizadeh/BUAN4061/blob/main/Assignment_4.ipynb\" target=\"_parent\"><img src=\"https://colab.research.google.com/assets/colab-badge.svg\" alt=\"Open In Colab\"/></a>"
      ]
    },
    {
      "cell_type": "markdown",
      "source": [
        "<img src=\"http://saffarizadeh.com/Logo.png\" width=\"300px\"/>\n",
        "\n",
        "# *BUAN 4061: Advanced Business Analytics*\n",
        "\n",
        "# **Assignment 4: Predicting Stock Price**\n",
        "\n",
        "Instructor: Dr. Kambiz Saffarizadeh\n",
        "\n",
        "---\n",
        "Disclaimer: The predictions provided by this Notebook are only for educational purposes. I don't take responsibility for any trading decision that may be made based on these predictions.\n",
        "---"
      ],
      "metadata": {
        "id": "u8srfbKGbZvw"
      }
    },
    {
      "cell_type": "markdown",
      "source": [
        "# Assingment description\n",
        "\n",
        "*   Go through this Notebook and add explanations to each piece of code such that a person who is not familiar with Python and TensorFlow can understand what is going on.\n",
        "*   Create and train `model3` and then plot a figure inidcating predictions from `model1`, `model2`, and `model3`.\n",
        "*   Save this Notebook and submit the .ipynb file."
      ],
      "metadata": {
        "id": "CF87yuSfclJu"
      }
    },
    {
      "cell_type": "markdown",
      "source": [
        "# Yahoo Finance"
      ],
      "metadata": {
        "id": "7ZPtn_FKcFxK"
      }
    },
    {
      "cell_type": "code",
      "source": [
        "!pip install yfinance"
      ],
      "metadata": {
        "id": "HKOuwhtXrN0-"
      },
      "execution_count": null,
      "outputs": []
    },
    {
      "cell_type": "code",
      "execution_count": 3,
      "metadata": {
        "id": "1T2_7CqGrCM_"
      },
      "outputs": [],
      "source": [
        "import pandas as pd\n",
        "import numpy as np\n",
        "import matplotlib.pyplot as plt\n",
        "from pandas_datareader.data import DataReader\n",
        "import yfinance as yf\n",
        "from datetime import datetime\n",
        "import tensorflow as tf"
      ]
    },
    {
      "cell_type": "code",
      "source": [
        "plt.style.use(\"fivethirtyeight\")"
      ],
      "metadata": {
        "id": "bV17LyK9ClDa"
      },
      "execution_count": 4,
      "outputs": []
    },
    {
      "cell_type": "markdown",
      "source": [
        "# Download the dataset"
      ],
      "metadata": {
        "id": "krX58zW7yAEm"
      }
    },
    {
      "cell_type": "code",
      "source": [
        "end = datetime.now()\n",
        "start = datetime(end.year - 10, end.month, end.day)"
      ],
      "metadata": {
        "id": "gOQEtMRprsGB"
      },
      "execution_count": 5,
      "outputs": []
    },
    {
      "cell_type": "code",
      "source": [
        "company_data = yf.download('AAPL', start, end)"
      ],
      "metadata": {
        "colab": {
          "base_uri": "https://localhost:8080/"
        },
        "id": "oKJ8a9xhruMp",
        "outputId": "35de012b-f978-4013-8890-55cf0e379179"
      },
      "execution_count": 6,
      "outputs": [
        {
          "output_type": "stream",
          "name": "stdout",
          "text": [
            "\r[*********************100%***********************]  1 of 1 completed\n"
          ]
        }
      ]
    },
    {
      "cell_type": "code",
      "source": [
        "company_data['company_name'] = 'AAPL'"
      ],
      "metadata": {
        "id": "h9Q64qyfr3Qr"
      },
      "execution_count": 7,
      "outputs": []
    },
    {
      "cell_type": "markdown",
      "source": [
        "# Explore the dataset"
      ],
      "metadata": {
        "id": "0A1UUoLkyGc1"
      }
    },
    {
      "cell_type": "code",
      "source": [
        "company_data.head()"
      ],
      "metadata": {
        "colab": {
          "base_uri": "https://localhost:8080/",
          "height": 238
        },
        "id": "RmDCuIAvsoTs",
        "outputId": "27d7b148-8abe-4dfe-f930-a46bb6251e70"
      },
      "execution_count": 8,
      "outputs": [
        {
          "output_type": "execute_result",
          "data": {
            "text/plain": [
              "                 Open       High        Low      Close  Adj Close      Volume  \\\n",
              "Date                                                                            \n",
              "2012-04-24  20.093214  20.274643  19.821428  20.010000  17.134048  1076149200   \n",
              "2012-04-25  21.987143  22.071428  21.642857  21.785713  18.654545   905777600   \n",
              "2012-04-26  21.938213  21.953215  21.504642  21.703571  18.584206   536068400   \n",
              "2012-04-27  21.609644  21.649286  21.446428  21.535713  18.440475   406722400   \n",
              "2012-04-30  21.350000  21.371429  20.821428  20.856428  17.858820   506144800   \n",
              "\n",
              "           company_name  \n",
              "Date                     \n",
              "2012-04-24         AAPL  \n",
              "2012-04-25         AAPL  \n",
              "2012-04-26         AAPL  \n",
              "2012-04-27         AAPL  \n",
              "2012-04-30         AAPL  "
            ],
            "text/html": [
              "\n",
              "  <div id=\"df-91837604-7f62-4fee-ba14-3e4263c9d502\">\n",
              "    <div class=\"colab-df-container\">\n",
              "      <div>\n",
              "<style scoped>\n",
              "    .dataframe tbody tr th:only-of-type {\n",
              "        vertical-align: middle;\n",
              "    }\n",
              "\n",
              "    .dataframe tbody tr th {\n",
              "        vertical-align: top;\n",
              "    }\n",
              "\n",
              "    .dataframe thead th {\n",
              "        text-align: right;\n",
              "    }\n",
              "</style>\n",
              "<table border=\"1\" class=\"dataframe\">\n",
              "  <thead>\n",
              "    <tr style=\"text-align: right;\">\n",
              "      <th></th>\n",
              "      <th>Open</th>\n",
              "      <th>High</th>\n",
              "      <th>Low</th>\n",
              "      <th>Close</th>\n",
              "      <th>Adj Close</th>\n",
              "      <th>Volume</th>\n",
              "      <th>company_name</th>\n",
              "    </tr>\n",
              "    <tr>\n",
              "      <th>Date</th>\n",
              "      <th></th>\n",
              "      <th></th>\n",
              "      <th></th>\n",
              "      <th></th>\n",
              "      <th></th>\n",
              "      <th></th>\n",
              "      <th></th>\n",
              "    </tr>\n",
              "  </thead>\n",
              "  <tbody>\n",
              "    <tr>\n",
              "      <th>2012-04-24</th>\n",
              "      <td>20.093214</td>\n",
              "      <td>20.274643</td>\n",
              "      <td>19.821428</td>\n",
              "      <td>20.010000</td>\n",
              "      <td>17.134048</td>\n",
              "      <td>1076149200</td>\n",
              "      <td>AAPL</td>\n",
              "    </tr>\n",
              "    <tr>\n",
              "      <th>2012-04-25</th>\n",
              "      <td>21.987143</td>\n",
              "      <td>22.071428</td>\n",
              "      <td>21.642857</td>\n",
              "      <td>21.785713</td>\n",
              "      <td>18.654545</td>\n",
              "      <td>905777600</td>\n",
              "      <td>AAPL</td>\n",
              "    </tr>\n",
              "    <tr>\n",
              "      <th>2012-04-26</th>\n",
              "      <td>21.938213</td>\n",
              "      <td>21.953215</td>\n",
              "      <td>21.504642</td>\n",
              "      <td>21.703571</td>\n",
              "      <td>18.584206</td>\n",
              "      <td>536068400</td>\n",
              "      <td>AAPL</td>\n",
              "    </tr>\n",
              "    <tr>\n",
              "      <th>2012-04-27</th>\n",
              "      <td>21.609644</td>\n",
              "      <td>21.649286</td>\n",
              "      <td>21.446428</td>\n",
              "      <td>21.535713</td>\n",
              "      <td>18.440475</td>\n",
              "      <td>406722400</td>\n",
              "      <td>AAPL</td>\n",
              "    </tr>\n",
              "    <tr>\n",
              "      <th>2012-04-30</th>\n",
              "      <td>21.350000</td>\n",
              "      <td>21.371429</td>\n",
              "      <td>20.821428</td>\n",
              "      <td>20.856428</td>\n",
              "      <td>17.858820</td>\n",
              "      <td>506144800</td>\n",
              "      <td>AAPL</td>\n",
              "    </tr>\n",
              "  </tbody>\n",
              "</table>\n",
              "</div>\n",
              "      <button class=\"colab-df-convert\" onclick=\"convertToInteractive('df-91837604-7f62-4fee-ba14-3e4263c9d502')\"\n",
              "              title=\"Convert this dataframe to an interactive table.\"\n",
              "              style=\"display:none;\">\n",
              "        \n",
              "  <svg xmlns=\"http://www.w3.org/2000/svg\" height=\"24px\"viewBox=\"0 0 24 24\"\n",
              "       width=\"24px\">\n",
              "    <path d=\"M0 0h24v24H0V0z\" fill=\"none\"/>\n",
              "    <path d=\"M18.56 5.44l.94 2.06.94-2.06 2.06-.94-2.06-.94-.94-2.06-.94 2.06-2.06.94zm-11 1L8.5 8.5l.94-2.06 2.06-.94-2.06-.94L8.5 2.5l-.94 2.06-2.06.94zm10 10l.94 2.06.94-2.06 2.06-.94-2.06-.94-.94-2.06-.94 2.06-2.06.94z\"/><path d=\"M17.41 7.96l-1.37-1.37c-.4-.4-.92-.59-1.43-.59-.52 0-1.04.2-1.43.59L10.3 9.45l-7.72 7.72c-.78.78-.78 2.05 0 2.83L4 21.41c.39.39.9.59 1.41.59.51 0 1.02-.2 1.41-.59l7.78-7.78 2.81-2.81c.8-.78.8-2.07 0-2.86zM5.41 20L4 18.59l7.72-7.72 1.47 1.35L5.41 20z\"/>\n",
              "  </svg>\n",
              "      </button>\n",
              "      \n",
              "  <style>\n",
              "    .colab-df-container {\n",
              "      display:flex;\n",
              "      flex-wrap:wrap;\n",
              "      gap: 12px;\n",
              "    }\n",
              "\n",
              "    .colab-df-convert {\n",
              "      background-color: #E8F0FE;\n",
              "      border: none;\n",
              "      border-radius: 50%;\n",
              "      cursor: pointer;\n",
              "      display: none;\n",
              "      fill: #1967D2;\n",
              "      height: 32px;\n",
              "      padding: 0 0 0 0;\n",
              "      width: 32px;\n",
              "    }\n",
              "\n",
              "    .colab-df-convert:hover {\n",
              "      background-color: #E2EBFA;\n",
              "      box-shadow: 0px 1px 2px rgba(60, 64, 67, 0.3), 0px 1px 3px 1px rgba(60, 64, 67, 0.15);\n",
              "      fill: #174EA6;\n",
              "    }\n",
              "\n",
              "    [theme=dark] .colab-df-convert {\n",
              "      background-color: #3B4455;\n",
              "      fill: #D2E3FC;\n",
              "    }\n",
              "\n",
              "    [theme=dark] .colab-df-convert:hover {\n",
              "      background-color: #434B5C;\n",
              "      box-shadow: 0px 1px 3px 1px rgba(0, 0, 0, 0.15);\n",
              "      filter: drop-shadow(0px 1px 2px rgba(0, 0, 0, 0.3));\n",
              "      fill: #FFFFFF;\n",
              "    }\n",
              "  </style>\n",
              "\n",
              "      <script>\n",
              "        const buttonEl =\n",
              "          document.querySelector('#df-91837604-7f62-4fee-ba14-3e4263c9d502 button.colab-df-convert');\n",
              "        buttonEl.style.display =\n",
              "          google.colab.kernel.accessAllowed ? 'block' : 'none';\n",
              "\n",
              "        async function convertToInteractive(key) {\n",
              "          const element = document.querySelector('#df-91837604-7f62-4fee-ba14-3e4263c9d502');\n",
              "          const dataTable =\n",
              "            await google.colab.kernel.invokeFunction('convertToInteractive',\n",
              "                                                     [key], {});\n",
              "          if (!dataTable) return;\n",
              "\n",
              "          const docLinkHtml = 'Like what you see? Visit the ' +\n",
              "            '<a target=\"_blank\" href=https://colab.research.google.com/notebooks/data_table.ipynb>data table notebook</a>'\n",
              "            + ' to learn more about interactive tables.';\n",
              "          element.innerHTML = '';\n",
              "          dataTable['output_type'] = 'display_data';\n",
              "          await google.colab.output.renderOutput(dataTable, element);\n",
              "          const docLink = document.createElement('div');\n",
              "          docLink.innerHTML = docLinkHtml;\n",
              "          element.appendChild(docLink);\n",
              "        }\n",
              "      </script>\n",
              "    </div>\n",
              "  </div>\n",
              "  "
            ]
          },
          "metadata": {},
          "execution_count": 8
        }
      ]
    },
    {
      "cell_type": "code",
      "source": [
        "company_data.shape"
      ],
      "metadata": {
        "colab": {
          "base_uri": "https://localhost:8080/"
        },
        "id": "FZ6s4KNNuy_X",
        "outputId": "dea9d4eb-d2a2-4e4f-9e54-117f52dcde68"
      },
      "execution_count": 9,
      "outputs": [
        {
          "output_type": "execute_result",
          "data": {
            "text/plain": [
              "(2517, 7)"
            ]
          },
          "metadata": {},
          "execution_count": 9
        }
      ]
    },
    {
      "cell_type": "code",
      "source": [
        "plt.figure(figsize=(16,6))\n",
        "plt.title('Close Price History')\n",
        "plt.plot(company_data['Close'])\n",
        "plt.xlabel('Date', fontsize=18)\n",
        "plt.ylabel('Close Price USD ($)', fontsize=18)\n",
        "plt.show()"
      ],
      "metadata": {
        "colab": {
          "base_uri": "https://localhost:8080/",
          "height": 441
        },
        "id": "gBcviDXrtSwS",
        "outputId": "5095944f-681c-4775-fb67-c0647c0ee69d"
      },
      "execution_count": 10,
      "outputs": [
        {
          "output_type": "display_data",
          "data": {
            "text/plain": [
              "<Figure size 1152x432 with 1 Axes>"
            ],
            "image/png": "[encoded data removed]"
          },
          "metadata": {}
        }
      ]
    },
    {
      "cell_type": "markdown",
      "source": [
        "# Create a useful dataset to train our model"
      ],
      "metadata": {
        "id": "rOBNfNADx44P"
      }
    },
    {
      "cell_type": "markdown",
      "source": [
        "Standardize or normalize data in the close price column."
      ],
      "metadata": {
        "id": "xSybeGnSuljP"
      }
    },
    {
      "cell_type": "code",
      "source": [
        "dataset = (company_data['Close'] - company_data['Close'].min()) / (company_data['Close'].max() - company_data['Close'].min())"
      ],
      "metadata": {
        "id": "8-M2MGdkuOGx"
      },
      "execution_count": 11,
      "outputs": []
    },
    {
      "cell_type": "code",
      "source": [
        "dataset.shape"
      ],
      "metadata": {
        "colab": {
          "base_uri": "https://localhost:8080/"
        },
        "id": "xqtVl1WzwXrm",
        "outputId": "06dcade5-8647-4059-c347-616fa6bddd58"
      },
      "execution_count": 12,
      "outputs": [
        {
          "output_type": "execute_result",
          "data": {
            "text/plain": [
              "(2517,)"
            ]
          },
          "metadata": {},
          "execution_count": 12
        }
      ]
    },
    {
      "cell_type": "markdown",
      "source": [
        "Let's create a dataset to predict the price of stock at time `t` based on the prices in the previous `60` days."
      ],
      "metadata": {
        "id": "mIXVpWSuw8Rq"
      }
    },
    {
      "cell_type": "code",
      "source": [
        "window = 60"
      ],
      "metadata": {
        "id": "d6nuSHPP-Iex"
      },
      "execution_count": 13,
      "outputs": []
    },
    {
      "cell_type": "code",
      "source": [
        "x_data = []\n",
        "y_data = []\n",
        "\n",
        "for t in range(60, len(dataset)):\n",
        "    x_data.append(dataset[t-window:t])\n",
        "    y_data.append(dataset[t])"
      ],
      "metadata": {
        "id": "2bfEn6SZwCyb"
      },
      "execution_count": 14,
      "outputs": []
    },
    {
      "cell_type": "code",
      "source": [
        "x_data[0]"
      ],
      "metadata": {
        "id": "ssE1wdB5wjk_"
      },
      "execution_count": null,
      "outputs": []
    },
    {
      "cell_type": "code",
      "source": [
        "y_data[0]"
      ],
      "metadata": {
        "colab": {
          "base_uri": "https://localhost:8080/"
        },
        "id": "wTOBcGYHwoz6",
        "outputId": "3d211b84-f216-4788-957f-cfcd7a09f4be"
      },
      "execution_count": 34,
      "outputs": [
        {
          "output_type": "stream",
          "name": "stdout",
          "text": [
            "0.04755671596755667\n"
          ]
        }
      ]
    },
    {
      "cell_type": "code",
      "source": [
        "x_train = x_data[: int(len(dataset)*0.8)]\n",
        "y_train = y_data[: int(len(dataset)*0.8)]\n",
        "x_train = np.array(x_train)\n",
        "y_train = np.array(y_train)\n",
        "\n",
        "x_validation = x_data[int(len(dataset)*0.8)-window:]\n",
        "y_validation = y_data[int(len(dataset)*0.8)-window:]\n",
        "x_validation = np.array(x_validation)\n",
        "y_validation = np.array(y_validation)"
      ],
      "metadata": {
        "id": "JUmq9EZnwuT5"
      },
      "execution_count": 19,
      "outputs": []
    },
    {
      "cell_type": "code",
      "source": [
        "x_train.shape"
      ],
      "metadata": {
        "colab": {
          "base_uri": "https://localhost:8080/"
        },
        "id": "B7J5zGqJxpMB",
        "outputId": "85c88fec-e477-4ab4-f68a-6b78d443dd17"
      },
      "execution_count": 20,
      "outputs": [
        {
          "output_type": "execute_result",
          "data": {
            "text/plain": [
              "(2013, 60)"
            ]
          },
          "metadata": {},
          "execution_count": 20
        }
      ]
    },
    {
      "cell_type": "code",
      "source": [
        "x_train = x_train[:, :, np.newaxis]\n",
        "x_validation = x_validation[:, :, np.newaxis]"
      ],
      "metadata": {
        "id": "vMtScTkbzlQs"
      },
      "execution_count": 21,
      "outputs": []
    },
    {
      "cell_type": "code",
      "source": [
        "x_train.shape"
      ],
      "metadata": {
        "colab": {
          "base_uri": "https://localhost:8080/"
        },
        "id": "zo5T1bNwzwSU",
        "outputId": "bedfdb25-b6a3-47de-b987-be077cd02008"
      },
      "execution_count": 22,
      "outputs": [
        {
          "output_type": "execute_result",
          "data": {
            "text/plain": [
              "(2013, 60, 1)"
            ]
          },
          "metadata": {},
          "execution_count": 22
        }
      ]
    },
    {
      "cell_type": "code",
      "source": [
        "x_validation.shape"
      ],
      "metadata": {
        "colab": {
          "base_uri": "https://localhost:8080/"
        },
        "id": "H-klHJe37N-T",
        "outputId": "f6cb3f5b-7049-4592-8a2b-43380af8646b"
      },
      "execution_count": 23,
      "outputs": [
        {
          "output_type": "execute_result",
          "data": {
            "text/plain": [
              "(504, 60, 1)"
            ]
          },
          "metadata": {},
          "execution_count": 23
        }
      ]
    },
    {
      "cell_type": "markdown",
      "source": [
        "# Create the model"
      ],
      "metadata": {
        "id": "qqBA7bEQyigV"
      }
    },
    {
      "cell_type": "code",
      "source": [
        "model1 = tf.keras.Sequential([\n",
        "  tf.keras.layers.GlobalAveragePooling1D(),\n",
        "  tf.keras.layers.Dense(25),\n",
        "  tf.keras.layers.Dense(1)\n",
        "])"
      ],
      "metadata": {
        "id": "DaVTY6IoUuRd"
      },
      "execution_count": 24,
      "outputs": []
    },
    {
      "cell_type": "code",
      "source": [
        "model1.compile(\n",
        "    optimizer='adam',\n",
        "    loss='mse'\n",
        ")"
      ],
      "metadata": {
        "id": "12GVEIBEU1RH"
      },
      "execution_count": 25,
      "outputs": []
    },
    {
      "cell_type": "code",
      "source": [
        "history1 = model1.fit(x_train, y_train, epochs=5, validation_data=(x_validation, y_validation))"
      ],
      "metadata": {
        "colab": {
          "base_uri": "https://localhost:8080/"
        },
        "id": "K8f_EWm1U1HS",
        "outputId": "c8e5bdc2-6083-421f-c0ae-d6cc5245e823"
      },
      "execution_count": 26,
      "outputs": [
        {
          "output_type": "stream",
          "name": "stdout",
          "text": [
            "Epoch 1/5\n",
            "63/63 [==============================] - 3s 5ms/step - loss: 0.0147 - val_loss: 0.2633\n",
            "Epoch 2/5\n",
            "63/63 [==============================] - 0s 3ms/step - loss: 0.0056 - val_loss: 0.1141\n",
            "Epoch 3/5\n",
            "63/63 [==============================] - 0s 3ms/step - loss: 0.0023 - val_loss: 0.0308\n",
            "Epoch 4/5\n",
            "63/63 [==============================] - 0s 3ms/step - loss: 8.6743e-04 - val_loss: 0.0056\n",
            "Epoch 5/5\n",
            "63/63 [==============================] - 0s 3ms/step - loss: 4.9676e-04 - val_loss: 0.0031\n"
          ]
        }
      ]
    },
    {
      "cell_type": "code",
      "source": [
        "model2 = tf.keras.Sequential([\n",
        "  tf.keras.layers.LSTM(128, return_sequences=True),\n",
        "  tf.keras.layers.LSTM(128),\n",
        "  tf.keras.layers.Dense(25),\n",
        "  tf.keras.layers.Dense(1)\n",
        "])"
      ],
      "metadata": {
        "id": "nGPhC6YKxqYB"
      },
      "execution_count": 27,
      "outputs": []
    },
    {
      "cell_type": "code",
      "source": [
        "model2.compile(\n",
        "    optimizer='adam',\n",
        "    loss='mse'\n",
        ")"
      ],
      "metadata": {
        "id": "BsNvbgWtzAeT"
      },
      "execution_count": 28,
      "outputs": []
    },
    {
      "cell_type": "code",
      "source": [
        "history2 = model2.fit(x_train, y_train, epochs=1, validation_data=(x_validation, y_validation))"
      ],
      "metadata": {
        "colab": {
          "base_uri": "https://localhost:8080/"
        },
        "id": "dd36CGTWzHTV",
        "outputId": "b33ba2e6-3ce9-48ab-eb35-6ec21663d7d8"
      },
      "execution_count": 29,
      "outputs": [
        {
          "output_type": "stream",
          "name": "stdout",
          "text": [
            "63/63 [==============================] - 6s 20ms/step - loss: 0.0013 - val_loss: 0.0013\n"
          ]
        }
      ]
    },
    {
      "cell_type": "markdown",
      "source": [
        "# Make predictions"
      ],
      "metadata": {
        "id": "BwqrDwXTCdIQ"
      }
    },
    {
      "cell_type": "code",
      "source": [
        "predictions1 = model1.predict(x_validation)\n",
        "predictions2 = model2.predict(x_validation)"
      ],
      "metadata": {
        "id": "q7YDNCqa0vA6"
      },
      "execution_count": 30,
      "outputs": []
    },
    {
      "cell_type": "markdown",
      "source": [
        "We scaled down the close price values before. Here we convert them back to the origirnal scale."
      ],
      "metadata": {
        "id": "mBF97GVU1Iaz"
      }
    },
    {
      "cell_type": "code",
      "source": [
        "predictions1 = (predictions1 * (company_data['Close'].max() - company_data['Close'].min())) + company_data['Close'].min()\n",
        "predictions2 = (predictions2 * (company_data['Close'].max() - company_data['Close'].min())) + company_data['Close'].min()"
      ],
      "metadata": {
        "id": "y-tCtabs01BL"
      },
      "execution_count": 31,
      "outputs": []
    },
    {
      "cell_type": "code",
      "source": [
        "train = company_data[: int(len(company_data)*0.8)]\n",
        "valid = company_data[int(len(company_data)*0.8): ]\n",
        "predi1 = pd.Series(predictions1.squeeze(), index=valid.index)\n",
        "predi2 = pd.Series(predictions2.squeeze(), index=valid.index)\n",
        "\n",
        "# Visualize the data\n",
        "plt.figure(figsize=(16,6))\n",
        "plt.title('Model')\n",
        "plt.xlabel('Date', fontsize=18)\n",
        "plt.ylabel('Close Price USD ($)', fontsize=18)\n",
        "plt.plot(train['Close'])\n",
        "plt.plot(valid['Close'])\n",
        "plt.plot(predi1)\n",
        "plt.plot(predi2)\n",
        "\n",
        "plt.legend(['Train', 'Val', 'Basic NN Predictions', 'RNN Predictions'], loc='upper left')\n",
        "plt.show()"
      ],
      "metadata": {
        "colab": {
          "base_uri": "https://localhost:8080/",
          "height": 441
        },
        "id": "9kDihLM61QuA",
        "outputId": "ef90e790-2479-4ec8-958f-9b7f36f51aa6"
      },
      "execution_count": 32,
      "outputs": [
        {
          "output_type": "display_data",
          "data": {
            "text/plain": [
              "<Figure size 1152x432 with 1 Axes>"
            ],
            "image/png": "[encoded data removed]"
          },
          "metadata": {}
        }
      ]
    },
    {
      "cell_type": "markdown",
      "source": [
        "# Create `model3` using `Conv1D` layers"
      ],
      "metadata": {
        "id": "oiXBj1HNXdI6"
      }
    },
    {
      "cell_type": "markdown",
      "source": [
        "Use one or more `Conv1D` layers to create a new model to predict the stock price. Note that unlike when we used convolutional layers for images, here we are not dealing with 2-dimensional images. Instead we are dealing with 1-dimensional series, which represent vectors of prices. Thus, why we use `Conv1D` instead of `Conv2D`. You still need to specify the number of filters and kernel size. To specify kernel size, you need to choose a single number instead of choosing a 2-dimensional tuple (remember before we would choose something like (3,3); but here we need a 1-dimensional kernel, so we only need one number like 10)."
      ],
      "metadata": {
        "id": "Jzqr4QuoZRG7"
      }
    },
    {
      "cell_type": "code",
      "source": [
        "# create model3\n"
      ],
      "metadata": {
        "id": "6S10wi7lXkc8"
      },
      "execution_count": null,
      "outputs": []
    },
    {
      "cell_type": "code",
      "source": [
        "# compile model3\n"
      ],
      "metadata": {
        "id": "aBYBQVNdXkaI"
      },
      "execution_count": null,
      "outputs": []
    },
    {
      "cell_type": "code",
      "source": [
        "# train model3\n"
      ],
      "metadata": {
        "id": "QCp-_urPY-XJ"
      },
      "execution_count": null,
      "outputs": []
    },
    {
      "cell_type": "markdown",
      "source": [
        "When you're finished with `model3`, run the following cell to plot the results."
      ],
      "metadata": {
        "id": "b_VVkyM0aKXJ"
      }
    },
    {
      "cell_type": "code",
      "source": [
        "predictions1 = model1.predict(x_validation)\n",
        "predictions2 = model2.predict(x_validation)\n",
        "predictions3 = model3.predict(x_validation)\n",
        "\n",
        "predictions1 = (predictions1 * (company_data['Close'].max() - company_data['Close'].min())) + company_data['Close'].min()\n",
        "predictions2 = (predictions2 * (company_data['Close'].max() - company_data['Close'].min())) + company_data['Close'].min()\n",
        "predictions3 = (predictions3 * (company_data['Close'].max() - company_data['Close'].min())) + company_data['Close'].min()\n",
        "\n",
        "train = company_data[: int(len(company_data)*0.8)]\n",
        "valid = company_data[int(len(company_data)*0.8): ]\n",
        "predi1 = pd.Series(predictions1.squeeze(), index=valid.index)\n",
        "predi2 = pd.Series(predictions2.squeeze(), index=valid.index)\n",
        "predi3 = pd.Series(predictions3.squeeze(), index=valid.index)\n",
        "\n",
        "# Visualize the data\n",
        "plt.figure(figsize=(16,6))\n",
        "plt.title('Model')\n",
        "plt.xlabel('Date', fontsize=18)\n",
        "plt.ylabel('Close Price USD ($)', fontsize=18)\n",
        "plt.plot(train['Close'])\n",
        "plt.plot(valid['Close'])\n",
        "plt.plot(predi1)\n",
        "plt.plot(predi2)\n",
        "plt.plot(predi3)\n",
        "\n",
        "plt.legend(['Train', 'Val', 'Basic NN Predictions', 'RNN Predictions', 'CNN Predictions'], loc='upper left')\n",
        "plt.show()"
      ],
      "metadata": {
        "id": "eJE_hauIXkLL"
      },
      "execution_count": null,
      "outputs": []
    }
  ]
}
