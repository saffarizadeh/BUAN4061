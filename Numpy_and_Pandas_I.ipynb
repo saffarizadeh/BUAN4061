{
  "nbformat": 4,
  "nbformat_minor": 0,
  "metadata": {
    "kernelspec": {
      "display_name": "Python 3",
      "language": "python",
      "name": "python3"
    },
    "language_info": {
      "codemirror_mode": {
        "name": "ipython",
        "version": 3
      },
      "file_extension": ".py",
      "mimetype": "text/x-python",
      "name": "python",
      "nbconvert_exporter": "python",
      "pygments_lexer": "ipython3",
      "version": "3.8.5"
    },
    "colab": {
      "name": "Numpy and Pandas I.ipynb",
      "provenance": [],
      "collapsed_sections": [],
      "include_colab_link": true
    }
  },
  "cells": [
    {
      "cell_type": "markdown",
      "metadata": {
        "id": "view-in-github",
        "colab_type": "text"
      },
      "source": [
        "<a href=\"https://colab.research.google.com/github/saffarizadeh/BUAN4061/blob/main/Numpy_and_Pandas_I.ipynb\" target=\"_parent\"><img src=\"https://colab.research.google.com/assets/colab-badge.svg\" alt=\"Open In Colab\"/></a>"
      ]
    },
    {
      "cell_type": "markdown",
      "metadata": {
        "id": "Yw1tx2SELnot"
      },
      "source": [
        "<img src=\"http://saffarizadeh.com/Logo.png\" width=\"300px\"/>\n",
        "\n",
        "# *BUAN 4061: Advanced Business Analytics*\n",
        "\n",
        "# **Numpy and Pandas I**\n",
        "\n",
        "Instructor: Dr. Kambiz Saffarizadeh\n",
        "\n",
        "---"
      ]
    },
    {
      "cell_type": "markdown",
      "metadata": {
        "id": "dww1-D8Kis1f"
      },
      "source": [
        "#Numpy\n",
        "\n",
        "`numpy` is the core library for scientific computing in Python. It provides a high-performance multidimensional array object, and tools for working with these arrays. If you are already familiar with MATLAB, you might find this tutorial useful to get started with Numpy."
      ]
    },
    {
      "cell_type": "markdown",
      "metadata": {
        "id": "ReIuzHRyix2P"
      },
      "source": [
        "## Arrays\n",
        "A numpy array is a grid of values, all of the same type, and is indexed by a tuple of nonnegative integers. The number of dimensions is the rank of the array; the shape of an array is a tuple of integers giving the size of the array along each dimension.\n",
        "\n",
        "We can initialize numpy arrays from nested Python lists, and access elements using square brackets:"
      ]
    },
    {
      "cell_type": "code",
      "metadata": {
        "id": "FP9JQ_hqi39E"
      },
      "source": [
        "import numpy as np"
      ],
      "execution_count": 1,
      "outputs": []
    },
    {
      "cell_type": "code",
      "metadata": {
        "id": "RIyT2S_Zi5um",
        "colab": {
          "base_uri": "https://localhost:8080/"
        },
        "outputId": "d0e7c485-9e6a-4a5e-9123-709da3026b04"
      },
      "source": [
        "a = np.array([1, 2, 3])   # Create a rank 1 array\n",
        "print(type(a))            # Prints \"<class 'numpy.ndarray'>\"\n",
        "print(a.shape)            # Prints \"(3,)\"\n",
        "print(a[0], a[1], a[2])   # Prints \"1 2 3\""
      ],
      "execution_count": 2,
      "outputs": [
        {
          "output_type": "stream",
          "name": "stdout",
          "text": [
            "<class 'numpy.ndarray'>\n",
            "(3,)\n",
            "1 2 3\n"
          ]
        }
      ]
    },
    {
      "cell_type": "code",
      "metadata": {
        "id": "PpqCiq5Ji69x",
        "colab": {
          "base_uri": "https://localhost:8080/"
        },
        "outputId": "2d4cbd08-72e9-4876-cbb5-c482999a7c07"
      },
      "source": [
        "a[0] = 5                  # Change an element of the array\n",
        "print(a)                  # Prints \"[5, 2, 3]\""
      ],
      "execution_count": 3,
      "outputs": [
        {
          "output_type": "stream",
          "name": "stdout",
          "text": [
            "[5 2 3]\n"
          ]
        }
      ]
    },
    {
      "cell_type": "code",
      "metadata": {
        "id": "o7TyPJFti8E1",
        "colab": {
          "base_uri": "https://localhost:8080/"
        },
        "outputId": "0e5181e1-f67a-42ee-c3bf-a26cde809fe0"
      },
      "source": [
        "b = np.array([[1,2,3],[4,5,6]])    # Create a rank 2 array\n",
        "print(b)\n",
        "print(b.shape)                     # Prints \"(2, 3)\""
      ],
      "execution_count": 4,
      "outputs": [
        {
          "output_type": "stream",
          "name": "stdout",
          "text": [
            "[[1 2 3]\n",
            " [4 5 6]]\n",
            "(2, 3)\n"
          ]
        }
      ]
    },
    {
      "cell_type": "code",
      "metadata": {
        "id": "709KL8h_i9kr",
        "colab": {
          "base_uri": "https://localhost:8080/"
        },
        "outputId": "60d9725b-46f0-4c1a-9046-a5dfb9b69770"
      },
      "source": [
        "print(b[0, 0], b[0, 1], b[1, 0])   # Prints \"1 2 4\""
      ],
      "execution_count": 5,
      "outputs": [
        {
          "output_type": "stream",
          "name": "stdout",
          "text": [
            "1 2 4\n"
          ]
        }
      ]
    },
    {
      "cell_type": "markdown",
      "metadata": {
        "id": "ChC63ezvixzK"
      },
      "source": [
        "### Array indexing\n",
        "Numpy offers several ways to index into arrays.\n",
        "\n",
        "Slicing: Similar to Python lists, numpy arrays can be sliced. Since arrays may be multidimensional, you must specify a slice for each dimension of the array:\n",
        "\n",
        "Create the following rank 2 array with shape (3, 4)\n",
        "\n",
        "[[ 1  2  3  4]\n",
        "\n",
        " [ 5  6  7  8]\n",
        " \n",
        " [ 9 10 11 12]]"
      ]
    },
    {
      "cell_type": "code",
      "metadata": {
        "id": "LOH7IgXfjGkj",
        "colab": {
          "base_uri": "https://localhost:8080/"
        },
        "outputId": "fb67b9ba-b2de-405c-a67c-87fafd3c7ff1"
      },
      "source": [
        "a = np.array([[1,2,3,4], [5,6,7,8], [9,10,11,12]])\n",
        "print(a)"
      ],
      "execution_count": 6,
      "outputs": [
        {
          "output_type": "stream",
          "name": "stdout",
          "text": [
            "[[ 1  2  3  4]\n",
            " [ 5  6  7  8]\n",
            " [ 9 10 11 12]]\n"
          ]
        }
      ]
    },
    {
      "cell_type": "markdown",
      "metadata": {
        "id": "yc-v8h_zixqD"
      },
      "source": [
        "Use slicing to pull out the subarray consisting of the first 2 rows and columns 1 and 2; b is the following array of shape (2, 2):\n",
        "\n",
        "[[2 3]\n",
        "\n",
        " [6 7]]"
      ]
    },
    {
      "cell_type": "code",
      "metadata": {
        "id": "IJ1vw4z3jJhJ"
      },
      "source": [
        "b = a[:2, 1:3]"
      ],
      "execution_count": 7,
      "outputs": []
    },
    {
      "cell_type": "markdown",
      "metadata": {
        "id": "jX6uA2C5jLl_"
      },
      "source": [
        "A slice of an array is a view into the same data, so modifying it will modify the original array."
      ]
    },
    {
      "cell_type": "code",
      "metadata": {
        "id": "U4X7k3nGjNCf",
        "colab": {
          "base_uri": "https://localhost:8080/"
        },
        "outputId": "7562c9a2-8832-409e-9878-1e8fec9cafb3"
      },
      "source": [
        "print(a[0, 1])   # Prints \"2\""
      ],
      "execution_count": 8,
      "outputs": [
        {
          "output_type": "stream",
          "name": "stdout",
          "text": [
            "2\n"
          ]
        }
      ]
    },
    {
      "cell_type": "code",
      "metadata": {
        "id": "ZpszlxYJjOkk"
      },
      "source": [
        "b[0, 0] = 77     # b[0, 0] is the same piece of data as a[0, 1]"
      ],
      "execution_count": 9,
      "outputs": []
    },
    {
      "cell_type": "code",
      "metadata": {
        "id": "DBhJFSAxjP0s",
        "colab": {
          "base_uri": "https://localhost:8080/"
        },
        "outputId": "d82e0541-6125-410d-d5df-b4cbe5f4f84b"
      },
      "source": [
        "print(a[0, 1])   # Prints \"77\""
      ],
      "execution_count": 10,
      "outputs": [
        {
          "output_type": "stream",
          "name": "stdout",
          "text": [
            "77\n"
          ]
        }
      ]
    },
    {
      "cell_type": "markdown",
      "metadata": {
        "id": "epxpvxqnjUlA"
      },
      "source": [
        "You can select a single row or column of an array too:"
      ]
    },
    {
      "cell_type": "code",
      "metadata": {
        "id": "LEydWRepjU7b",
        "colab": {
          "base_uri": "https://localhost:8080/"
        },
        "outputId": "fc1cdc30-f44e-4260-8348-6abe8d38c616"
      },
      "source": [
        "row_r1 = a[1, :]    # Rank 1 view of the second row of a\n",
        "print(row_r1)"
      ],
      "execution_count": 11,
      "outputs": [
        {
          "output_type": "stream",
          "name": "stdout",
          "text": [
            "[5 6 7 8]\n"
          ]
        }
      ]
    },
    {
      "cell_type": "code",
      "metadata": {
        "id": "7UkJlyCSjTil",
        "colab": {
          "base_uri": "https://localhost:8080/"
        },
        "outputId": "9435ae77-e710-483d-e142-4dadf779a778"
      },
      "source": [
        "col_r1 = a[:, 2]    # Rank 1 view of the third column of a\n",
        "print(col_r1)"
      ],
      "execution_count": 12,
      "outputs": [
        {
          "output_type": "stream",
          "name": "stdout",
          "text": [
            "[ 3  7 11]\n"
          ]
        }
      ]
    },
    {
      "cell_type": "markdown",
      "metadata": {
        "id": "aDL-zZkqjaKA"
      },
      "source": [
        "Boolean array indexing: Boolean array indexing lets you pick out arbitrary elements of an array. Frequently this type of indexing is used to select the elements of an array that satisfy some condition. Here is an example:"
      ]
    },
    {
      "cell_type": "code",
      "metadata": {
        "id": "-PLaaLbtjahL",
        "colab": {
          "base_uri": "https://localhost:8080/"
        },
        "outputId": "ddd6285a-9216-458b-8d8c-1ea08c6b2a1b"
      },
      "source": [
        "a = np.array([[1,2], [3, 4], [5, 6]])\n",
        "print(a)"
      ],
      "execution_count": 13,
      "outputs": [
        {
          "output_type": "stream",
          "name": "stdout",
          "text": [
            "[[1 2]\n",
            " [3 4]\n",
            " [5 6]]\n"
          ]
        }
      ]
    },
    {
      "cell_type": "code",
      "metadata": {
        "id": "ZbEjBLlvjcJ8",
        "colab": {
          "base_uri": "https://localhost:8080/"
        },
        "outputId": "2d6403cc-d792-47ac-92a0-827f9499a57a"
      },
      "source": [
        "bool_idx = (a > 2)   # Find the elements of a that are bigger than 2;\n",
        "                     # this returns a numpy array of Booleans of the same\n",
        "                     # shape as a, where each slot of bool_idx tells\n",
        "                     # whether that element of a is > 2.\n",
        "print(bool_idx)"
      ],
      "execution_count": 14,
      "outputs": [
        {
          "output_type": "stream",
          "name": "stdout",
          "text": [
            "[[False False]\n",
            " [ True  True]\n",
            " [ True  True]]\n"
          ]
        }
      ]
    },
    {
      "cell_type": "markdown",
      "metadata": {
        "id": "Y6hRfOdujiDC"
      },
      "source": [
        "We use boolean array indexing to construct a rank 1 array consisting of the elements of a corresponding to the True values of bool_idx"
      ]
    },
    {
      "cell_type": "code",
      "metadata": {
        "id": "WsrZIyzBjiVb",
        "colab": {
          "base_uri": "https://localhost:8080/"
        },
        "outputId": "128918b8-9c4e-4efe-8db4-987d116db4ce"
      },
      "source": [
        "print(a[bool_idx])"
      ],
      "execution_count": 15,
      "outputs": [
        {
          "output_type": "stream",
          "name": "stdout",
          "text": [
            "[3 4 5 6]\n"
          ]
        }
      ]
    },
    {
      "cell_type": "markdown",
      "metadata": {
        "id": "cknzAnTMjmQH"
      },
      "source": [
        "We can do all of the above in a single concise statement:"
      ]
    },
    {
      "cell_type": "code",
      "metadata": {
        "id": "jHuLmOFrjmo8",
        "colab": {
          "base_uri": "https://localhost:8080/"
        },
        "outputId": "9fa8fedf-9a56-4b92-c25f-61192fa30a07"
      },
      "source": [
        "print(a[a > 2])     # Prints \"[3 4 5 6]\""
      ],
      "execution_count": 16,
      "outputs": [
        {
          "output_type": "stream",
          "name": "stdout",
          "text": [
            "[3 4 5 6]\n"
          ]
        }
      ]
    },
    {
      "cell_type": "markdown",
      "metadata": {
        "id": "4fdWaEDQjpmk"
      },
      "source": [
        "## Numpy Datatypes\n",
        "\n",
        "https://numpy.org/doc/stable/reference/arrays.dtypes.html\n",
        "\n",
        "Every numpy array is a grid of elements of the same type. Numpy provides a large set of numeric datatypes that you can use to construct arrays. Numpy tries to guess a datatype when you create an array, but functions that construct arrays usually also include an optional argument to explicitly specify the datatype. Here is an example:"
      ]
    },
    {
      "cell_type": "code",
      "metadata": {
        "id": "fVj9d2KpjrHY",
        "colab": {
          "base_uri": "https://localhost:8080/"
        },
        "outputId": "4adbfcff-4c3d-4d47-c342-4b4e0b1c82f6"
      },
      "source": [
        "x = np.array([1, 2])   # Let numpy choose the datatype\n",
        "print(x.dtype)         # Prints \"int64\"\n",
        "\n",
        "x = np.array([1.0, 2.0])   # Let numpy choose the datatype\n",
        "print(x.dtype)             # Prints \"float64\"\n",
        "\n",
        "x = np.array([1, 2], dtype=np.int64)   # Force a particular datatype\n",
        "print(x.dtype)"
      ],
      "execution_count": 17,
      "outputs": [
        {
          "output_type": "stream",
          "name": "stdout",
          "text": [
            "int64\n",
            "float64\n",
            "int64\n"
          ]
        }
      ]
    },
    {
      "cell_type": "markdown",
      "source": [
        "### NAN"
      ],
      "metadata": {
        "id": "e2mU7jZkQ13V"
      }
    },
    {
      "cell_type": "markdown",
      "source": [
        "To specify `not a number` value, which is often used to represent missing data, you can use `np.nan`\n",
        "\n",
        "https://numpy.org/doc/stable/reference/constants.html#numpy.nan"
      ],
      "metadata": {
        "id": "oYBbZO6yQ7As"
      }
    },
    {
      "cell_type": "code",
      "source": [
        "np.nan"
      ],
      "metadata": {
        "colab": {
          "base_uri": "https://localhost:8080/"
        },
        "id": "f2ygBtvWQ3oJ",
        "outputId": "0d2ae24b-8b57-489a-f7e0-49341595741a"
      },
      "execution_count": 18,
      "outputs": [
        {
          "output_type": "execute_result",
          "data": {
            "text/plain": [
              "nan"
            ]
          },
          "metadata": {},
          "execution_count": 18
        }
      ]
    },
    {
      "cell_type": "markdown",
      "source": [
        "## Numpy Methods"
      ],
      "metadata": {
        "id": "6eA5CLq-Izvd"
      }
    },
    {
      "cell_type": "markdown",
      "source": [
        "### Min and Max\n",
        "https://numpy.org/doc/stable/reference/generated/numpy.amin.html\n",
        "\n",
        "https://numpy.org/doc/stable/reference/generated/numpy.amax.html"
      ],
      "metadata": {
        "id": "S3CrCtXWKHy4"
      }
    },
    {
      "cell_type": "markdown",
      "source": [
        "You can find `min` and `max` values in an array."
      ],
      "metadata": {
        "id": "5HA1Fo2OI6dn"
      }
    },
    {
      "cell_type": "code",
      "source": [
        "b = np.array([12, 4, 1.2, 2.5, 5, 14])"
      ],
      "metadata": {
        "id": "7YJK2o54JIg2"
      },
      "execution_count": 19,
      "outputs": []
    },
    {
      "cell_type": "code",
      "metadata": {
        "id": "lsI1q69BjgQk",
        "colab": {
          "base_uri": "https://localhost:8080/"
        },
        "outputId": "d8ca1905-26f6-4ab0-f97f-2b6982a4e629"
      },
      "source": [
        "b.min()"
      ],
      "execution_count": 20,
      "outputs": [
        {
          "output_type": "execute_result",
          "data": {
            "text/plain": [
              "1.2"
            ]
          },
          "metadata": {},
          "execution_count": 20
        }
      ]
    },
    {
      "cell_type": "code",
      "metadata": {
        "id": "pQY3an-pjK8C",
        "colab": {
          "base_uri": "https://localhost:8080/"
        },
        "outputId": "df9500ee-2d66-4fb2-8dd7-b7280eb08402"
      },
      "source": [
        "b.max()"
      ],
      "execution_count": 21,
      "outputs": [
        {
          "output_type": "execute_result",
          "data": {
            "text/plain": [
              "14.0"
            ]
          },
          "metadata": {},
          "execution_count": 21
        }
      ]
    },
    {
      "cell_type": "code",
      "source": [
        "# or you can use np itself\n",
        "np.amin(b)"
      ],
      "metadata": {
        "colab": {
          "base_uri": "https://localhost:8080/"
        },
        "id": "FEHRwp9TJMJI",
        "outputId": "9c3b96c1-c025-4aba-d50c-10b0a48f6c79"
      },
      "execution_count": 22,
      "outputs": [
        {
          "output_type": "execute_result",
          "data": {
            "text/plain": [
              "1.2"
            ]
          },
          "metadata": {},
          "execution_count": 22
        }
      ]
    },
    {
      "cell_type": "code",
      "source": [
        "np.amax(b)"
      ],
      "metadata": {
        "colab": {
          "base_uri": "https://localhost:8080/"
        },
        "id": "C5CASUEHJSgI",
        "outputId": "7bc60331-1b04-4893-f632-1268fe1528b1"
      },
      "execution_count": 23,
      "outputs": [
        {
          "output_type": "execute_result",
          "data": {
            "text/plain": [
              "14.0"
            ]
          },
          "metadata": {},
          "execution_count": 23
        }
      ]
    },
    {
      "cell_type": "markdown",
      "source": [
        "You can also find the index of the `min` and `max` values."
      ],
      "metadata": {
        "id": "NtJAXc5pJWFk"
      }
    },
    {
      "cell_type": "code",
      "source": [
        "np.argmin(b)"
      ],
      "metadata": {
        "colab": {
          "base_uri": "https://localhost:8080/"
        },
        "id": "oeODjI3EJebS",
        "outputId": "80c1243e-d569-438a-d649-a66cb34e25e5"
      },
      "execution_count": 24,
      "outputs": [
        {
          "output_type": "execute_result",
          "data": {
            "text/plain": [
              "2"
            ]
          },
          "metadata": {},
          "execution_count": 24
        }
      ]
    },
    {
      "cell_type": "code",
      "source": [
        "np.argmax(b)"
      ],
      "metadata": {
        "colab": {
          "base_uri": "https://localhost:8080/"
        },
        "id": "XHzlbJE4JeYL",
        "outputId": "537abe91-20cc-4bb7-84da-0b3970c44061"
      },
      "execution_count": 25,
      "outputs": [
        {
          "output_type": "execute_result",
          "data": {
            "text/plain": [
              "5"
            ]
          },
          "metadata": {},
          "execution_count": 25
        }
      ]
    },
    {
      "cell_type": "markdown",
      "source": [
        "### Mean and Standard Deviation"
      ],
      "metadata": {
        "id": "Lp_ibMT3VI7n"
      }
    },
    {
      "cell_type": "markdown",
      "source": [
        "https://numpy.org/doc/stable/reference/generated/numpy.mean.html\n",
        "\n",
        "https://numpy.org/doc/stable/reference/generated/numpy.std.html"
      ],
      "metadata": {
        "id": "kRCuFtWKW30t"
      }
    },
    {
      "cell_type": "code",
      "source": [
        "c = np.array([[1,2], [3, 4], [5, 6]])\n",
        "c"
      ],
      "metadata": {
        "colab": {
          "base_uri": "https://localhost:8080/"
        },
        "id": "RHhbP9pUVMhI",
        "outputId": "63606d0c-8a55-49bb-8026-573953ddaf53"
      },
      "execution_count": 26,
      "outputs": [
        {
          "output_type": "execute_result",
          "data": {
            "text/plain": [
              "array([[1, 2],\n",
              "       [3, 4],\n",
              "       [5, 6]])"
            ]
          },
          "metadata": {},
          "execution_count": 26
        }
      ]
    },
    {
      "cell_type": "code",
      "source": [
        "c.mean()"
      ],
      "metadata": {
        "colab": {
          "base_uri": "https://localhost:8080/"
        },
        "id": "F3mwlKYbVQ85",
        "outputId": "a8c6fbbf-bc7f-4140-a869-9024c2b6c998"
      },
      "execution_count": 27,
      "outputs": [
        {
          "output_type": "execute_result",
          "data": {
            "text/plain": [
              "3.5"
            ]
          },
          "metadata": {},
          "execution_count": 27
        }
      ]
    },
    {
      "cell_type": "code",
      "source": [
        "c.mean(axis=0) # mean of c along axis 0"
      ],
      "metadata": {
        "colab": {
          "base_uri": "https://localhost:8080/"
        },
        "id": "bH8NfU8BVYeS",
        "outputId": "45fbeb11-68ad-4abc-80f8-0d960f97aecd"
      },
      "execution_count": 28,
      "outputs": [
        {
          "output_type": "execute_result",
          "data": {
            "text/plain": [
              "array([3., 4.])"
            ]
          },
          "metadata": {},
          "execution_count": 28
        }
      ]
    },
    {
      "cell_type": "code",
      "source": [
        "c.mean(axis=1) # mean of c along axis 1"
      ],
      "metadata": {
        "colab": {
          "base_uri": "https://localhost:8080/"
        },
        "id": "1jRIjcMtVbXH",
        "outputId": "22297d40-5f66-409a-846c-a49f4b9c4e6e"
      },
      "execution_count": 29,
      "outputs": [
        {
          "output_type": "execute_result",
          "data": {
            "text/plain": [
              "array([1.5, 3.5, 5.5])"
            ]
          },
          "metadata": {},
          "execution_count": 29
        }
      ]
    },
    {
      "cell_type": "code",
      "source": [
        "c.std()"
      ],
      "metadata": {
        "colab": {
          "base_uri": "https://localhost:8080/"
        },
        "id": "GXnTBASKVz1J",
        "outputId": "03d98dd9-d6ac-4cfc-a8f2-5d36b820d0aa"
      },
      "execution_count": 30,
      "outputs": [
        {
          "output_type": "execute_result",
          "data": {
            "text/plain": [
              "1.707825127659933"
            ]
          },
          "metadata": {},
          "execution_count": 30
        }
      ]
    },
    {
      "cell_type": "code",
      "source": [
        "c.std(axis=0)"
      ],
      "metadata": {
        "colab": {
          "base_uri": "https://localhost:8080/"
        },
        "id": "NHt3qmHwV1Rf",
        "outputId": "60ee81d0-3fc7-43a8-977e-331b76e0a5ee"
      },
      "execution_count": 31,
      "outputs": [
        {
          "output_type": "execute_result",
          "data": {
            "text/plain": [
              "array([1.63299316, 1.63299316])"
            ]
          },
          "metadata": {},
          "execution_count": 31
        }
      ]
    },
    {
      "cell_type": "code",
      "source": [
        "c.std(axis=1)"
      ],
      "metadata": {
        "colab": {
          "base_uri": "https://localhost:8080/"
        },
        "id": "OsUdBjf4V3Iv",
        "outputId": "b7d005f5-73c6-4feb-e085-09afa4da808b"
      },
      "execution_count": 32,
      "outputs": [
        {
          "output_type": "execute_result",
          "data": {
            "text/plain": [
              "array([0.5, 0.5, 0.5])"
            ]
          },
          "metadata": {},
          "execution_count": 32
        }
      ]
    },
    {
      "cell_type": "markdown",
      "source": [
        "### arange\n",
        "\n",
        "https://numpy.org/doc/stable/reference/generated/numpy.arange.html"
      ],
      "metadata": {
        "id": "mEeBnuzVSaOI"
      }
    },
    {
      "cell_type": "code",
      "source": [
        "np.arange(6)"
      ],
      "metadata": {
        "colab": {
          "base_uri": "https://localhost:8080/"
        },
        "id": "BbSfrtK4Sb4D",
        "outputId": "c60289e6-223e-41ae-b7d7-b735e87d71af"
      },
      "execution_count": 33,
      "outputs": [
        {
          "output_type": "execute_result",
          "data": {
            "text/plain": [
              "array([0, 1, 2, 3, 4, 5])"
            ]
          },
          "metadata": {},
          "execution_count": 33
        }
      ]
    },
    {
      "cell_type": "markdown",
      "source": [
        "### Linespace\n",
        "\n",
        "https://numpy.org/doc/stable/reference/generated/numpy.linspace.html"
      ],
      "metadata": {
        "id": "fBzVpquQOiOK"
      }
    },
    {
      "cell_type": "code",
      "source": [
        "np.linspace(0,1,5)"
      ],
      "metadata": {
        "colab": {
          "base_uri": "https://localhost:8080/"
        },
        "id": "8uEY2HcqOlsa",
        "outputId": "6ba887ea-eedd-4478-c8cc-456b6d01d87b"
      },
      "execution_count": 34,
      "outputs": [
        {
          "output_type": "execute_result",
          "data": {
            "text/plain": [
              "array([0.  , 0.25, 0.5 , 0.75, 1.  ])"
            ]
          },
          "metadata": {},
          "execution_count": 34
        }
      ]
    },
    {
      "cell_type": "code",
      "source": [
        "np.linspace(0,1,5, endpoint=False)"
      ],
      "metadata": {
        "colab": {
          "base_uri": "https://localhost:8080/"
        },
        "id": "dwXYHY-7Olp5",
        "outputId": "47cebed4-b4ca-4a6a-db47-a930f1b73d2e"
      },
      "execution_count": 35,
      "outputs": [
        {
          "output_type": "execute_result",
          "data": {
            "text/plain": [
              "array([0. , 0.2, 0.4, 0.6, 0.8])"
            ]
          },
          "metadata": {},
          "execution_count": 35
        }
      ]
    },
    {
      "cell_type": "markdown",
      "source": [
        "### Repeat\n",
        "\n",
        "https://numpy.org/doc/stable/reference/generated/numpy.repeat.html"
      ],
      "metadata": {
        "id": "wkux3IuCOxhy"
      }
    },
    {
      "cell_type": "code",
      "source": [
        "np.repeat(0,5)"
      ],
      "metadata": {
        "colab": {
          "base_uri": "https://localhost:8080/"
        },
        "id": "EbZwvs0uPTEm",
        "outputId": "2961e2ef-3f7b-4d86-a527-767970854da7"
      },
      "execution_count": 36,
      "outputs": [
        {
          "output_type": "execute_result",
          "data": {
            "text/plain": [
              "array([0, 0, 0, 0, 0])"
            ]
          },
          "metadata": {},
          "execution_count": 36
        }
      ]
    },
    {
      "cell_type": "markdown",
      "source": [
        "### Zeros and Ones"
      ],
      "metadata": {
        "id": "7NkNeIGyR2Te"
      }
    },
    {
      "cell_type": "markdown",
      "source": [
        "https://numpy.org/doc/stable/reference/generated/numpy.zeros.html\n",
        "\n",
        "https://numpy.org/doc/stable/reference/generated/numpy.zeros_like.html\n",
        "\n",
        "https://numpy.org/doc/stable/reference/generated/numpy.ones.html\n",
        "\n",
        "https://numpy.org/doc/stable/reference/generated/numpy.ones_like.html"
      ],
      "metadata": {
        "id": "pfzY2672W9k6"
      }
    },
    {
      "cell_type": "code",
      "source": [
        "np.zeros((2,3))"
      ],
      "metadata": {
        "colab": {
          "base_uri": "https://localhost:8080/"
        },
        "id": "dsfc0AN0R4Ts",
        "outputId": "c91f6a4b-51b3-4da6-8393-33c027364d8e"
      },
      "execution_count": 37,
      "outputs": [
        {
          "output_type": "execute_result",
          "data": {
            "text/plain": [
              "array([[0., 0., 0.],\n",
              "       [0., 0., 0.]])"
            ]
          },
          "metadata": {},
          "execution_count": 37
        }
      ]
    },
    {
      "cell_type": "code",
      "source": [
        "np.ones((4,2))"
      ],
      "metadata": {
        "colab": {
          "base_uri": "https://localhost:8080/"
        },
        "id": "KNwKKhG9R7cl",
        "outputId": "b6070a04-97a1-4595-f062-d5b30a1e9454"
      },
      "execution_count": 38,
      "outputs": [
        {
          "output_type": "execute_result",
          "data": {
            "text/plain": [
              "array([[1., 1.],\n",
              "       [1., 1.],\n",
              "       [1., 1.],\n",
              "       [1., 1.]])"
            ]
          },
          "metadata": {},
          "execution_count": 38
        }
      ]
    },
    {
      "cell_type": "code",
      "source": [
        "np.zeros_like(a) # returns an array of the same shape as the input array with elements replaced by zero"
      ],
      "metadata": {
        "colab": {
          "base_uri": "https://localhost:8080/"
        },
        "id": "B4iwrDxrSA2a",
        "outputId": "58ec7473-4bc8-4855-a71e-d56b809f3924"
      },
      "execution_count": 39,
      "outputs": [
        {
          "output_type": "execute_result",
          "data": {
            "text/plain": [
              "array([[0, 0],\n",
              "       [0, 0],\n",
              "       [0, 0]])"
            ]
          },
          "metadata": {},
          "execution_count": 39
        }
      ]
    },
    {
      "cell_type": "code",
      "source": [
        "np.ones_like(a) # returns an array of the same shape as the input array with elements replaced by one"
      ],
      "metadata": {
        "colab": {
          "base_uri": "https://localhost:8080/"
        },
        "id": "fVbDNKShSL-a",
        "outputId": "c2b30559-b5b6-4904-fc23-568211c8e840"
      },
      "execution_count": 40,
      "outputs": [
        {
          "output_type": "execute_result",
          "data": {
            "text/plain": [
              "array([[1, 1],\n",
              "       [1, 1],\n",
              "       [1, 1]])"
            ]
          },
          "metadata": {},
          "execution_count": 40
        }
      ]
    },
    {
      "cell_type": "markdown",
      "source": [
        "### Reshape\n",
        "\n",
        "https://numpy.org/doc/stable/reference/generated/numpy.reshape.html"
      ],
      "metadata": {
        "id": "UxCOfhraSjtf"
      }
    },
    {
      "cell_type": "code",
      "source": [
        "a = np.arange(6)\n",
        "a"
      ],
      "metadata": {
        "colab": {
          "base_uri": "https://localhost:8080/"
        },
        "id": "7Zi8cHbhSk9p",
        "outputId": "4d087a86-db05-412c-a008-ea9dfb21ba3b"
      },
      "execution_count": 41,
      "outputs": [
        {
          "output_type": "execute_result",
          "data": {
            "text/plain": [
              "array([0, 1, 2, 3, 4, 5])"
            ]
          },
          "metadata": {},
          "execution_count": 41
        }
      ]
    },
    {
      "cell_type": "code",
      "source": [
        "a_reshaped = a.reshape(3,2)\n",
        "a_reshaped"
      ],
      "metadata": {
        "colab": {
          "base_uri": "https://localhost:8080/"
        },
        "id": "b0m3Uck5SrNZ",
        "outputId": "994f30e6-2eab-465a-fe54-e85ed9f184af"
      },
      "execution_count": 42,
      "outputs": [
        {
          "output_type": "execute_result",
          "data": {
            "text/plain": [
              "array([[0, 1],\n",
              "       [2, 3],\n",
              "       [4, 5]])"
            ]
          },
          "metadata": {},
          "execution_count": 42
        }
      ]
    },
    {
      "cell_type": "markdown",
      "source": [
        "There is a special case of reshaping that is very useful in deep learning: flattening an array to create a long 1-dimensional array"
      ],
      "metadata": {
        "id": "VVnJHqG7TB9E"
      }
    },
    {
      "cell_type": "code",
      "source": [
        "a_reshaped.reshape(1,-1) # one row"
      ],
      "metadata": {
        "colab": {
          "base_uri": "https://localhost:8080/"
        },
        "id": "E4PDqQDFSz4g",
        "outputId": "3069ff71-713e-441c-f409-54ddec0a9da6"
      },
      "execution_count": 43,
      "outputs": [
        {
          "output_type": "execute_result",
          "data": {
            "text/plain": [
              "array([[0, 1, 2, 3, 4, 5]])"
            ]
          },
          "metadata": {},
          "execution_count": 43
        }
      ]
    },
    {
      "cell_type": "code",
      "source": [
        "a_reshaped.reshape(-1,1) # one column"
      ],
      "metadata": {
        "colab": {
          "base_uri": "https://localhost:8080/"
        },
        "id": "ni0Fg0jyTVLU",
        "outputId": "43a250c7-61d8-4d4a-da32-cbb00c873db6"
      },
      "execution_count": 44,
      "outputs": [
        {
          "output_type": "execute_result",
          "data": {
            "text/plain": [
              "array([[0],\n",
              "       [1],\n",
              "       [2],\n",
              "       [3],\n",
              "       [4],\n",
              "       [5]])"
            ]
          },
          "metadata": {},
          "execution_count": 44
        }
      ]
    },
    {
      "cell_type": "markdown",
      "source": [
        "There is another special case of reshaping that is also useful in deep learning: adding a new axis to an array."
      ],
      "metadata": {
        "id": "5VEFmNIQUCHx"
      }
    },
    {
      "cell_type": "code",
      "source": [
        "b = np.arange(6).reshape(3,2)\n",
        "b"
      ],
      "metadata": {
        "colab": {
          "base_uri": "https://localhost:8080/"
        },
        "id": "LRspk5NtUOxO",
        "outputId": "3820b674-b897-4a30-fafa-783b1411117b"
      },
      "execution_count": 45,
      "outputs": [
        {
          "output_type": "execute_result",
          "data": {
            "text/plain": [
              "array([[0, 1],\n",
              "       [2, 3],\n",
              "       [4, 5]])"
            ]
          },
          "metadata": {},
          "execution_count": 45
        }
      ]
    },
    {
      "cell_type": "code",
      "source": [
        "b.shape"
      ],
      "metadata": {
        "colab": {
          "base_uri": "https://localhost:8080/"
        },
        "id": "vY9ygYgoUTf_",
        "outputId": "c6351083-c028-43a6-d72e-910f5b9ee760"
      },
      "execution_count": 46,
      "outputs": [
        {
          "output_type": "execute_result",
          "data": {
            "text/plain": [
              "(3, 2)"
            ]
          },
          "metadata": {},
          "execution_count": 46
        }
      ]
    },
    {
      "cell_type": "code",
      "source": [
        "reshaped_b = b.reshape((1,3,2))\n",
        "reshaped_b"
      ],
      "metadata": {
        "colab": {
          "base_uri": "https://localhost:8080/"
        },
        "id": "O1NQivClUWY6",
        "outputId": "247fdc99-35ec-4581-a56c-6566147fc2a8"
      },
      "execution_count": 47,
      "outputs": [
        {
          "output_type": "execute_result",
          "data": {
            "text/plain": [
              "array([[[0, 1],\n",
              "        [2, 3],\n",
              "        [4, 5]]])"
            ]
          },
          "metadata": {},
          "execution_count": 47
        }
      ]
    },
    {
      "cell_type": "code",
      "source": [
        "reshaped_b.shape"
      ],
      "metadata": {
        "colab": {
          "base_uri": "https://localhost:8080/"
        },
        "id": "YYfY3oeoUfam",
        "outputId": "2580743c-4adb-4b20-f92b-88e20e97c393"
      },
      "execution_count": 48,
      "outputs": [
        {
          "output_type": "execute_result",
          "data": {
            "text/plain": [
              "(1, 3, 2)"
            ]
          },
          "metadata": {},
          "execution_count": 48
        }
      ]
    },
    {
      "cell_type": "markdown",
      "source": [
        "We can also achieve the same result using the following code:"
      ],
      "metadata": {
        "id": "v-ePVU6NUhhh"
      }
    },
    {
      "cell_type": "code",
      "source": [
        "reshaped_b_2 = b[np.newaxis, :]\n",
        "reshaped_b_2"
      ],
      "metadata": {
        "colab": {
          "base_uri": "https://localhost:8080/"
        },
        "id": "py8x-s7VUgG1",
        "outputId": "befacaca-338e-486c-b857-0083fdbe48dd"
      },
      "execution_count": 49,
      "outputs": [
        {
          "output_type": "execute_result",
          "data": {
            "text/plain": [
              "array([[[0, 1],\n",
              "        [2, 3],\n",
              "        [4, 5]]])"
            ]
          },
          "metadata": {},
          "execution_count": 49
        }
      ]
    },
    {
      "cell_type": "code",
      "source": [
        "reshaped_b_2.shape"
      ],
      "metadata": {
        "colab": {
          "base_uri": "https://localhost:8080/"
        },
        "id": "fEagYTabU1jO",
        "outputId": "79b3afdb-ba69-4cd3-f5d1-a85925bc2a74"
      },
      "execution_count": 50,
      "outputs": [
        {
          "output_type": "execute_result",
          "data": {
            "text/plain": [
              "(1, 3, 2)"
            ]
          },
          "metadata": {},
          "execution_count": 50
        }
      ]
    },
    {
      "cell_type": "markdown",
      "source": [
        "### Squeeze\n",
        "\n",
        "https://numpy.org/doc/stable/reference/generated/numpy.squeeze.html\n",
        "\n",
        "To remove extra dimensions that don't add anything to our array you can use `squeeze`"
      ],
      "metadata": {
        "id": "qdLYVxbCat_l"
      }
    },
    {
      "cell_type": "code",
      "source": [
        "squeezed_reshaped_b_2 = reshaped_b_2.squeeze()\n",
        "squeezed_reshaped_b_2"
      ],
      "metadata": {
        "colab": {
          "base_uri": "https://localhost:8080/"
        },
        "id": "DkVyV0SXa6u6",
        "outputId": "7d5379d8-a489-4859-e39e-759b94fd4319"
      },
      "execution_count": 51,
      "outputs": [
        {
          "output_type": "execute_result",
          "data": {
            "text/plain": [
              "array([[0, 1],\n",
              "       [2, 3],\n",
              "       [4, 5]])"
            ]
          },
          "metadata": {},
          "execution_count": 51
        }
      ]
    },
    {
      "cell_type": "code",
      "source": [
        "squeezed_reshaped_b_2.shape"
      ],
      "metadata": {
        "colab": {
          "base_uri": "https://localhost:8080/"
        },
        "id": "LDp_m4V_bDVR",
        "outputId": "bb85675f-57f1-4339-edf9-ef7525fded4c"
      },
      "execution_count": 52,
      "outputs": [
        {
          "output_type": "execute_result",
          "data": {
            "text/plain": [
              "(3, 2)"
            ]
          },
          "metadata": {},
          "execution_count": 52
        }
      ]
    },
    {
      "cell_type": "markdown",
      "source": [
        "### Random and Distributions"
      ],
      "metadata": {
        "id": "lTTv8KZMKJtV"
      }
    },
    {
      "cell_type": "markdown",
      "source": [
        "You can use numpy to generate random numbers.\n",
        "\n",
        "https://numpy.org/doc/stable/reference/random/index.html"
      ],
      "metadata": {
        "id": "T7OgrJFAKOjX"
      }
    },
    {
      "cell_type": "code",
      "source": [
        "np.random.random()"
      ],
      "metadata": {
        "colab": {
          "base_uri": "https://localhost:8080/"
        },
        "id": "vQemoqlGKSWd",
        "outputId": "c1724fef-c7a8-4ccf-ebad-c257f07ce6d3"
      },
      "execution_count": 53,
      "outputs": [
        {
          "output_type": "execute_result",
          "data": {
            "text/plain": [
              "0.4477051418577269"
            ]
          },
          "metadata": {},
          "execution_count": 53
        }
      ]
    },
    {
      "cell_type": "code",
      "source": [
        "np.random.rand()"
      ],
      "metadata": {
        "colab": {
          "base_uri": "https://localhost:8080/"
        },
        "id": "WWSF5t8PKSKu",
        "outputId": "a9d504d4-cc0c-435c-a009-e5d6c878d71d"
      },
      "execution_count": 54,
      "outputs": [
        {
          "output_type": "execute_result",
          "data": {
            "text/plain": [
              "0.3738859019643036"
            ]
          },
          "metadata": {},
          "execution_count": 54
        }
      ]
    },
    {
      "cell_type": "code",
      "source": [
        "np.random.rand()"
      ],
      "metadata": {
        "colab": {
          "base_uri": "https://localhost:8080/"
        },
        "id": "027l2RJxK0cg",
        "outputId": "e3fd97c0-2121-4e1a-e11f-fac4f972c7aa"
      },
      "execution_count": 55,
      "outputs": [
        {
          "output_type": "execute_result",
          "data": {
            "text/plain": [
              "0.5975570750031494"
            ]
          },
          "metadata": {},
          "execution_count": 55
        }
      ]
    },
    {
      "cell_type": "code",
      "source": [
        "np.random.randint(1,10)"
      ],
      "metadata": {
        "colab": {
          "base_uri": "https://localhost:8080/"
        },
        "id": "fHNDLS8vK9lB",
        "outputId": "0e85a421-3d53-484f-8369-8ed56d7e6161"
      },
      "execution_count": 56,
      "outputs": [
        {
          "output_type": "execute_result",
          "data": {
            "text/plain": [
              "2"
            ]
          },
          "metadata": {},
          "execution_count": 56
        }
      ]
    },
    {
      "cell_type": "code",
      "source": [
        "b = np.array([12, 4, 1.2, 2.5, 5, 14])\n",
        "np.random.choice(b)"
      ],
      "metadata": {
        "colab": {
          "base_uri": "https://localhost:8080/"
        },
        "id": "42SuhONFPmMV",
        "outputId": "bb242978-a838-40b9-dc08-dc9c68b3abf6"
      },
      "execution_count": 57,
      "outputs": [
        {
          "output_type": "execute_result",
          "data": {
            "text/plain": [
              "4.0"
            ]
          },
          "metadata": {},
          "execution_count": 57
        }
      ]
    },
    {
      "cell_type": "markdown",
      "source": [
        "You can specify the number of draws from a list."
      ],
      "metadata": {
        "id": "ixkRGJSFQTt8"
      }
    },
    {
      "cell_type": "code",
      "source": [
        "np.random.choice(b, 2)"
      ],
      "metadata": {
        "colab": {
          "base_uri": "https://localhost:8080/"
        },
        "id": "ttXM7a17Pf-V",
        "outputId": "181b6992-5722-4579-c026-7e001baa64c0"
      },
      "execution_count": 58,
      "outputs": [
        {
          "output_type": "execute_result",
          "data": {
            "text/plain": [
              "array([ 4., 12.])"
            ]
          },
          "metadata": {},
          "execution_count": 58
        }
      ]
    },
    {
      "cell_type": "markdown",
      "source": [
        "You can assign a probability to each item in a list."
      ],
      "metadata": {
        "id": "T-phT8mmQVbF"
      }
    },
    {
      "cell_type": "code",
      "source": [
        "np.random.choice([12, 4, 1.2, 2.5, 5, 14], p=[0.1, 0.1, 0.1, 0.5, 0.05, 0.15])"
      ],
      "metadata": {
        "colab": {
          "base_uri": "https://localhost:8080/"
        },
        "id": "GOkMyOCvP2zs",
        "outputId": "9aa9c145-7c17-40df-a717-91c36d216cae"
      },
      "execution_count": 59,
      "outputs": [
        {
          "output_type": "execute_result",
          "data": {
            "text/plain": [
              "2.5"
            ]
          },
          "metadata": {},
          "execution_count": 59
        }
      ]
    },
    {
      "cell_type": "markdown",
      "source": [
        "#### Draw from `normal` distribution\n",
        "\n",
        "Check this tool to learn more about this distribution: https://homepage.divms.uiowa.edu/~mbognar/applets/normal.html"
      ],
      "metadata": {
        "id": "OUsGOXIfMnvU"
      }
    },
    {
      "cell_type": "code",
      "source": [
        "np.random.normal()"
      ],
      "metadata": {
        "colab": {
          "base_uri": "https://localhost:8080/"
        },
        "id": "34_LsdpVLIjc",
        "outputId": "db5a4a8e-6deb-4d67-96d6-17445c636d9d"
      },
      "execution_count": 60,
      "outputs": [
        {
          "output_type": "execute_result",
          "data": {
            "text/plain": [
              "0.0331122219503742"
            ]
          },
          "metadata": {},
          "execution_count": 60
        }
      ]
    },
    {
      "cell_type": "markdown",
      "source": [
        "#### Draw from `binomial` distribution\n",
        "\n",
        "Check this tool to learn more about this distribution: https://homepage.divms.uiowa.edu/~mbognar/applets/binnormal.html"
      ],
      "metadata": {
        "id": "LF1oU19iMJ0N"
      }
    },
    {
      "cell_type": "code",
      "source": [
        "np.random.binomial(2000, 0.2)"
      ],
      "metadata": {
        "colab": {
          "base_uri": "https://localhost:8080/"
        },
        "id": "iO8axmFvLVE6",
        "outputId": "0a2a710e-4214-4c57-9987-da5fd26072ce"
      },
      "execution_count": 61,
      "outputs": [
        {
          "output_type": "execute_result",
          "data": {
            "text/plain": [
              "414"
            ]
          },
          "metadata": {},
          "execution_count": 61
        }
      ]
    }
  ]
}