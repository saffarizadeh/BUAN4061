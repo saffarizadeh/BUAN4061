{
  "nbformat": 4,
  "nbformat_minor": 0,
  "metadata": {
    "kernelspec": {
      "display_name": "Python 3",
      "language": "python",
      "name": "python3"
    },
    "language_info": {
      "codemirror_mode": {
        "name": "ipython",
        "version": 3
      },
      "file_extension": ".py",
      "mimetype": "text/x-python",
      "name": "python",
      "nbconvert_exporter": "python",
      "pygments_lexer": "ipython3",
      "version": "3.8.5"
    },
    "colab": {
      "name": "Numpy and Pandas I.ipynb",
      "provenance": [],
      "collapsed_sections": [],
      "include_colab_link": true
    }
  },
  "cells": [
    {
      "cell_type": "markdown",
      "metadata": {
        "id": "view-in-github",
        "colab_type": "text"
      },
      "source": [
        "<a href=\"https://colab.research.google.com/github/saffarizadeh/BUAN4061/blob/main/Numpy_and_Pandas_I.ipynb\" target=\"_parent\"><img src=\"https://colab.research.google.com/assets/colab-badge.svg\" alt=\"Open In Colab\"/></a>"
      ]
    },
    {
      "cell_type": "markdown",
      "metadata": {
        "id": "Yw1tx2SELnot"
      },
      "source": [
        "<img src=\"http://saffarizadeh.com/Logo.png\" width=\"300px\"/>\n",
        "\n",
        "# *BUAN 4061: Advanced Business Analytics*\n",
        "\n",
        "# **Numpy and Pandas I**\n",
        "\n",
        "Instructor: Dr. Kambiz Saffarizadeh\n",
        "\n",
        "---"
      ]
    },
    {
      "cell_type": "markdown",
      "metadata": {
        "id": "dww1-D8Kis1f"
      },
      "source": [
        "#Numpy\n",
        "\n",
        "`numpy` is the core library for scientific computing in Python. It provides a high-performance multidimensional array object, and tools for working with these arrays. If you are already familiar with MATLAB, you might find this tutorial useful to get started with Numpy."
      ]
    },
    {
      "cell_type": "markdown",
      "metadata": {
        "id": "ReIuzHRyix2P"
      },
      "source": [
        "## Arrays\n",
        "A numpy array is a grid of values, all of the same type, and is indexed by a tuple of nonnegative integers. The number of dimensions is the rank of the array; the shape of an array is a tuple of integers giving the size of the array along each dimension.\n",
        "\n",
        "We can initialize numpy arrays from nested Python lists, and access elements using square brackets:"
      ]
    },
    {
      "cell_type": "code",
      "metadata": {
        "id": "FP9JQ_hqi39E"
      },
      "source": [
        "import numpy as np"
      ],
      "execution_count": 1,
      "outputs": []
    },
    {
      "cell_type": "code",
      "metadata": {
        "id": "RIyT2S_Zi5um",
        "colab": {
          "base_uri": "https://localhost:8080/"
        },
        "outputId": "182f1d7b-2910-40d4-b724-10e8f61bb331"
      },
      "source": [
        "a = np.array([1, 2, 3])   # Create a rank 1 array\n",
        "print(type(a))            # Prints \"<class 'numpy.ndarray'>\"\n",
        "print(a.shape)            # Prints \"(3,)\"\n",
        "print(a[0], a[1], a[2])   # Prints \"1 2 3\""
      ],
      "execution_count": 2,
      "outputs": [
        {
          "output_type": "stream",
          "name": "stdout",
          "text": [
            "<class 'numpy.ndarray'>\n",
            "(3,)\n",
            "1 2 3\n"
          ]
        }
      ]
    },
    {
      "cell_type": "code",
      "metadata": {
        "id": "PpqCiq5Ji69x",
        "colab": {
          "base_uri": "https://localhost:8080/"
        },
        "outputId": "88955493-f7e4-4a89-b301-99803775493e"
      },
      "source": [
        "a[0] = 5                  # Change an element of the array\n",
        "print(a)                  # Prints \"[5, 2, 3]\""
      ],
      "execution_count": 3,
      "outputs": [
        {
          "output_type": "stream",
          "name": "stdout",
          "text": [
            "[5 2 3]\n"
          ]
        }
      ]
    },
    {
      "cell_type": "code",
      "metadata": {
        "id": "o7TyPJFti8E1",
        "colab": {
          "base_uri": "https://localhost:8080/"
        },
        "outputId": "05b69bdb-6368-46c2-cbd3-6f48a8e279c6"
      },
      "source": [
        "b = np.array([[1,2,3],[4,5,6]])    # Create a rank 2 array\n",
        "print(b)\n",
        "print(b.shape)                     # Prints \"(2, 3)\""
      ],
      "execution_count": 4,
      "outputs": [
        {
          "output_type": "stream",
          "name": "stdout",
          "text": [
            "[[1 2 3]\n",
            " [4 5 6]]\n",
            "(2, 3)\n"
          ]
        }
      ]
    },
    {
      "cell_type": "code",
      "metadata": {
        "id": "709KL8h_i9kr",
        "colab": {
          "base_uri": "https://localhost:8080/"
        },
        "outputId": "d2d6ef07-28e6-41ee-c5b7-1866ab585cb3"
      },
      "source": [
        "print(b[0, 0], b[0, 1], b[1, 0])   # Prints \"1 2 4\""
      ],
      "execution_count": 5,
      "outputs": [
        {
          "output_type": "stream",
          "name": "stdout",
          "text": [
            "1 2 4\n"
          ]
        }
      ]
    },
    {
      "cell_type": "markdown",
      "metadata": {
        "id": "ChC63ezvixzK"
      },
      "source": [
        "### Array indexing\n",
        "Numpy offers several ways to index into arrays.\n",
        "\n",
        "Slicing: Similar to Python lists, numpy arrays can be sliced. Since arrays may be multidimensional, you must specify a slice for each dimension of the array:\n",
        "\n",
        "Create the following rank 2 array with shape (3, 4)\n",
        "\n",
        "[[ 1  2  3  4]\n",
        "\n",
        " [ 5  6  7  8]\n",
        " \n",
        " [ 9 10 11 12]]"
      ]
    },
    {
      "cell_type": "code",
      "metadata": {
        "id": "LOH7IgXfjGkj",
        "colab": {
          "base_uri": "https://localhost:8080/"
        },
        "outputId": "a03f32fa-c518-463e-fd29-6e7bb8bdb452"
      },
      "source": [
        "a = np.array([[1,2,3,4], [5,6,7,8], [9,10,11,12]])\n",
        "print(a)"
      ],
      "execution_count": 6,
      "outputs": [
        {
          "output_type": "stream",
          "name": "stdout",
          "text": [
            "[[ 1  2  3  4]\n",
            " [ 5  6  7  8]\n",
            " [ 9 10 11 12]]\n"
          ]
        }
      ]
    },
    {
      "cell_type": "markdown",
      "metadata": {
        "id": "yc-v8h_zixqD"
      },
      "source": [
        "Use slicing to pull out the subarray consisting of the first 2 rows and columns 1 and 2; b is the following array of shape (2, 2):\n",
        "\n",
        "[[2 3]\n",
        "\n",
        " [6 7]]"
      ]
    },
    {
      "cell_type": "code",
      "metadata": {
        "id": "IJ1vw4z3jJhJ"
      },
      "source": [
        "b = a[:2, 1:3]"
      ],
      "execution_count": 7,
      "outputs": []
    },
    {
      "cell_type": "markdown",
      "metadata": {
        "id": "jX6uA2C5jLl_"
      },
      "source": [
        "A slice of an array is a view into the same data, so modifying it will modify the original array."
      ]
    },
    {
      "cell_type": "code",
      "metadata": {
        "id": "U4X7k3nGjNCf",
        "colab": {
          "base_uri": "https://localhost:8080/"
        },
        "outputId": "445faac2-84ef-41e1-af84-6dc732e9fabb"
      },
      "source": [
        "print(a[0, 1])   # Prints \"2\""
      ],
      "execution_count": 8,
      "outputs": [
        {
          "output_type": "stream",
          "name": "stdout",
          "text": [
            "2\n"
          ]
        }
      ]
    },
    {
      "cell_type": "code",
      "metadata": {
        "id": "ZpszlxYJjOkk"
      },
      "source": [
        "b[0, 0] = 77     # b[0, 0] is the same piece of data as a[0, 1]"
      ],
      "execution_count": 9,
      "outputs": []
    },
    {
      "cell_type": "code",
      "metadata": {
        "id": "DBhJFSAxjP0s",
        "colab": {
          "base_uri": "https://localhost:8080/"
        },
        "outputId": "d490b092-ba9a-43b3-eed0-d712b336b7ec"
      },
      "source": [
        "print(a[0, 1])   # Prints \"77\""
      ],
      "execution_count": 10,
      "outputs": [
        {
          "output_type": "stream",
          "name": "stdout",
          "text": [
            "77\n"
          ]
        }
      ]
    },
    {
      "cell_type": "markdown",
      "metadata": {
        "id": "epxpvxqnjUlA"
      },
      "source": [
        "You can select a single row or column of an array too:"
      ]
    },
    {
      "cell_type": "code",
      "metadata": {
        "id": "LEydWRepjU7b",
        "colab": {
          "base_uri": "https://localhost:8080/"
        },
        "outputId": "83ae2283-46d8-4fe0-f1bc-bf31a6f8e41d"
      },
      "source": [
        "row_r1 = a[1, :]    # Rank 1 view of the second row of a\n",
        "print(row_r1)"
      ],
      "execution_count": 11,
      "outputs": [
        {
          "output_type": "stream",
          "name": "stdout",
          "text": [
            "[5 6 7 8]\n"
          ]
        }
      ]
    },
    {
      "cell_type": "code",
      "metadata": {
        "id": "7UkJlyCSjTil",
        "colab": {
          "base_uri": "https://localhost:8080/"
        },
        "outputId": "12ba0717-e028-4de9-8610-656028f66b2f"
      },
      "source": [
        "col_r1 = a[:, 2]    # Rank 1 view of the third column of a\n",
        "print(col_r1)"
      ],
      "execution_count": 12,
      "outputs": [
        {
          "output_type": "stream",
          "name": "stdout",
          "text": [
            "[ 3  7 11]\n"
          ]
        }
      ]
    },
    {
      "cell_type": "markdown",
      "metadata": {
        "id": "aDL-zZkqjaKA"
      },
      "source": [
        "Boolean array indexing: Boolean array indexing lets you pick out arbitrary elements of an array. Frequently this type of indexing is used to select the elements of an array that satisfy some condition. Here is an example:"
      ]
    },
    {
      "cell_type": "code",
      "metadata": {
        "id": "-PLaaLbtjahL",
        "colab": {
          "base_uri": "https://localhost:8080/"
        },
        "outputId": "4d23261f-e0ab-4bf0-d7f5-8dd64e19f01d"
      },
      "source": [
        "a = np.array([[1,2], [3, 4], [5, 6]])\n",
        "print(a)"
      ],
      "execution_count": 13,
      "outputs": [
        {
          "output_type": "stream",
          "name": "stdout",
          "text": [
            "[[1 2]\n",
            " [3 4]\n",
            " [5 6]]\n"
          ]
        }
      ]
    },
    {
      "cell_type": "code",
      "metadata": {
        "id": "ZbEjBLlvjcJ8",
        "colab": {
          "base_uri": "https://localhost:8080/"
        },
        "outputId": "de182f3d-6389-4d3b-f593-294299725038"
      },
      "source": [
        "bool_idx = (a > 2)   # Find the elements of a that are bigger than 2;\n",
        "                     # this returns a numpy array of Booleans of the same\n",
        "                     # shape as a, where each slot of bool_idx tells\n",
        "                     # whether that element of a is > 2.\n",
        "print(bool_idx)"
      ],
      "execution_count": 14,
      "outputs": [
        {
          "output_type": "stream",
          "name": "stdout",
          "text": [
            "[[False False]\n",
            " [ True  True]\n",
            " [ True  True]]\n"
          ]
        }
      ]
    },
    {
      "cell_type": "markdown",
      "metadata": {
        "id": "Y6hRfOdujiDC"
      },
      "source": [
        "We use boolean array indexing to construct a rank 1 array consisting of the elements of a corresponding to the True values of bool_idx"
      ]
    },
    {
      "cell_type": "code",
      "metadata": {
        "id": "WsrZIyzBjiVb",
        "colab": {
          "base_uri": "https://localhost:8080/"
        },
        "outputId": "21741c23-49e8-4ebf-b578-95c31560829b"
      },
      "source": [
        "print(a[bool_idx])"
      ],
      "execution_count": 15,
      "outputs": [
        {
          "output_type": "stream",
          "name": "stdout",
          "text": [
            "[3 4 5 6]\n"
          ]
        }
      ]
    },
    {
      "cell_type": "markdown",
      "metadata": {
        "id": "cknzAnTMjmQH"
      },
      "source": [
        "We can do all of the above in a single concise statement:"
      ]
    },
    {
      "cell_type": "code",
      "metadata": {
        "id": "jHuLmOFrjmo8",
        "colab": {
          "base_uri": "https://localhost:8080/"
        },
        "outputId": "4aedd5f2-179c-41f6-91d6-0cc7c5cf5dab"
      },
      "source": [
        "print(a[a > 2])     # Prints \"[3 4 5 6]\""
      ],
      "execution_count": 16,
      "outputs": [
        {
          "output_type": "stream",
          "name": "stdout",
          "text": [
            "[3 4 5 6]\n"
          ]
        }
      ]
    },
    {
      "cell_type": "markdown",
      "metadata": {
        "id": "4fdWaEDQjpmk"
      },
      "source": [
        "## Numpy Datatypes\n",
        "\n",
        "https://numpy.org/doc/stable/reference/arrays.dtypes.html\n",
        "\n",
        "Every numpy array is a grid of elements of the same type. Numpy provides a large set of numeric datatypes that you can use to construct arrays. Numpy tries to guess a datatype when you create an array, but functions that construct arrays usually also include an optional argument to explicitly specify the datatype. Here is an example:"
      ]
    },
    {
      "cell_type": "code",
      "metadata": {
        "id": "fVj9d2KpjrHY",
        "colab": {
          "base_uri": "https://localhost:8080/"
        },
        "outputId": "fe56781c-8a5c-4658-ee3b-94618e5d0ff4"
      },
      "source": [
        "x = np.array([1, 2])   # Let numpy choose the datatype\n",
        "print(x.dtype)         # Prints \"int64\"\n",
        "\n",
        "x = np.array([1.0, 2.0])   # Let numpy choose the datatype\n",
        "print(x.dtype)             # Prints \"float64\"\n",
        "\n",
        "x = np.array([1, 2], dtype=np.int64)   # Force a particular datatype\n",
        "print(x.dtype)"
      ],
      "execution_count": 17,
      "outputs": [
        {
          "output_type": "stream",
          "name": "stdout",
          "text": [
            "int64\n",
            "float64\n",
            "int64\n"
          ]
        }
      ]
    },
    {
      "cell_type": "markdown",
      "source": [
        "## Numpy Methods"
      ],
      "metadata": {
        "id": "6eA5CLq-Izvd"
      }
    },
    {
      "cell_type": "markdown",
      "source": [
        "### Min and Max\n",
        "https://numpy.org/doc/stable/reference/generated/numpy.amin.html\n",
        "\n",
        "https://numpy.org/doc/stable/reference/generated/numpy.amax.html"
      ],
      "metadata": {
        "id": "S3CrCtXWKHy4"
      }
    },
    {
      "cell_type": "markdown",
      "source": [
        "You can find `min` and `max` values in an array."
      ],
      "metadata": {
        "id": "5HA1Fo2OI6dn"
      }
    },
    {
      "cell_type": "code",
      "source": [
        "b = np.array([12, 4, 1.2, 2.5, 5, 14])"
      ],
      "metadata": {
        "id": "7YJK2o54JIg2"
      },
      "execution_count": 18,
      "outputs": []
    },
    {
      "cell_type": "code",
      "metadata": {
        "id": "lsI1q69BjgQk",
        "colab": {
          "base_uri": "https://localhost:8080/"
        },
        "outputId": "0a26c721-b0c8-44f1-db7e-3c104b817c10"
      },
      "source": [
        "b.min()"
      ],
      "execution_count": 19,
      "outputs": [
        {
          "output_type": "execute_result",
          "data": {
            "text/plain": [
              "1.2"
            ]
          },
          "metadata": {},
          "execution_count": 19
        }
      ]
    },
    {
      "cell_type": "code",
      "metadata": {
        "id": "pQY3an-pjK8C",
        "colab": {
          "base_uri": "https://localhost:8080/"
        },
        "outputId": "934f802c-6f8f-46a2-cee5-f82bd163eb12"
      },
      "source": [
        "b.max()"
      ],
      "execution_count": 20,
      "outputs": [
        {
          "output_type": "execute_result",
          "data": {
            "text/plain": [
              "14.0"
            ]
          },
          "metadata": {},
          "execution_count": 20
        }
      ]
    },
    {
      "cell_type": "code",
      "source": [
        "# or you can use np itself\n",
        "np.amin(b)"
      ],
      "metadata": {
        "colab": {
          "base_uri": "https://localhost:8080/"
        },
        "id": "FEHRwp9TJMJI",
        "outputId": "b25e8e79-c7d4-4cd9-fe52-8f44d12a4c62"
      },
      "execution_count": 21,
      "outputs": [
        {
          "output_type": "execute_result",
          "data": {
            "text/plain": [
              "1.2"
            ]
          },
          "metadata": {},
          "execution_count": 21
        }
      ]
    },
    {
      "cell_type": "code",
      "source": [
        "np.amax(b)"
      ],
      "metadata": {
        "colab": {
          "base_uri": "https://localhost:8080/"
        },
        "id": "C5CASUEHJSgI",
        "outputId": "b2ca6c74-4f4c-4c19-b4a3-bc18d1ff119a"
      },
      "execution_count": 22,
      "outputs": [
        {
          "output_type": "execute_result",
          "data": {
            "text/plain": [
              "14.0"
            ]
          },
          "metadata": {},
          "execution_count": 22
        }
      ]
    },
    {
      "cell_type": "markdown",
      "source": [
        "You can also find the index of the `min` and `max` values."
      ],
      "metadata": {
        "id": "NtJAXc5pJWFk"
      }
    },
    {
      "cell_type": "code",
      "source": [
        "np.argmin(b)"
      ],
      "metadata": {
        "colab": {
          "base_uri": "https://localhost:8080/"
        },
        "id": "oeODjI3EJebS",
        "outputId": "8426dd92-fc47-411b-c74f-5ccd36377c81"
      },
      "execution_count": 23,
      "outputs": [
        {
          "output_type": "execute_result",
          "data": {
            "text/plain": [
              "2"
            ]
          },
          "metadata": {},
          "execution_count": 23
        }
      ]
    },
    {
      "cell_type": "code",
      "source": [
        "np.argmax(b)"
      ],
      "metadata": {
        "colab": {
          "base_uri": "https://localhost:8080/"
        },
        "id": "XHzlbJE4JeYL",
        "outputId": "3cfa77e4-798d-421f-a25d-215d3d0b5c2c"
      },
      "execution_count": 24,
      "outputs": [
        {
          "output_type": "execute_result",
          "data": {
            "text/plain": [
              "5"
            ]
          },
          "metadata": {},
          "execution_count": 24
        }
      ]
    },
    {
      "cell_type": "markdown",
      "source": [
        "### Mean and Standard Deviation"
      ],
      "metadata": {
        "id": "Lp_ibMT3VI7n"
      }
    },
    {
      "cell_type": "markdown",
      "source": [
        "https://numpy.org/doc/stable/reference/generated/numpy.mean.html\n",
        "\n",
        "https://numpy.org/doc/stable/reference/generated/numpy.std.html"
      ],
      "metadata": {
        "id": "kRCuFtWKW30t"
      }
    },
    {
      "cell_type": "code",
      "source": [
        "c = np.array([[1,2], [3, 4], [5, 6]])\n",
        "c"
      ],
      "metadata": {
        "colab": {
          "base_uri": "https://localhost:8080/"
        },
        "id": "RHhbP9pUVMhI",
        "outputId": "19899421-8c5b-4706-cc34-5d76bf3b450f"
      },
      "execution_count": 25,
      "outputs": [
        {
          "output_type": "execute_result",
          "data": {
            "text/plain": [
              "array([[1, 2],\n",
              "       [3, 4],\n",
              "       [5, 6]])"
            ]
          },
          "metadata": {},
          "execution_count": 25
        }
      ]
    },
    {
      "cell_type": "code",
      "source": [
        "c.mean()"
      ],
      "metadata": {
        "colab": {
          "base_uri": "https://localhost:8080/"
        },
        "id": "F3mwlKYbVQ85",
        "outputId": "174df9ee-e935-4cbe-823f-6dfbfabff417"
      },
      "execution_count": 26,
      "outputs": [
        {
          "output_type": "execute_result",
          "data": {
            "text/plain": [
              "3.5"
            ]
          },
          "metadata": {},
          "execution_count": 26
        }
      ]
    },
    {
      "cell_type": "code",
      "source": [
        "c.mean(axis=0) # mean of c along axis 0"
      ],
      "metadata": {
        "colab": {
          "base_uri": "https://localhost:8080/"
        },
        "id": "bH8NfU8BVYeS",
        "outputId": "260976c5-5d20-4354-96eb-9e0ae01084e6"
      },
      "execution_count": 27,
      "outputs": [
        {
          "output_type": "execute_result",
          "data": {
            "text/plain": [
              "array([3., 4.])"
            ]
          },
          "metadata": {},
          "execution_count": 27
        }
      ]
    },
    {
      "cell_type": "code",
      "source": [
        "c.mean(axis=1) # mean of c along axis 1"
      ],
      "metadata": {
        "colab": {
          "base_uri": "https://localhost:8080/"
        },
        "id": "1jRIjcMtVbXH",
        "outputId": "93d5ffd4-2d63-4840-d5b8-8ad01d5011a7"
      },
      "execution_count": 28,
      "outputs": [
        {
          "output_type": "execute_result",
          "data": {
            "text/plain": [
              "array([1.5, 3.5, 5.5])"
            ]
          },
          "metadata": {},
          "execution_count": 28
        }
      ]
    },
    {
      "cell_type": "code",
      "source": [
        "c.std()"
      ],
      "metadata": {
        "colab": {
          "base_uri": "https://localhost:8080/"
        },
        "id": "GXnTBASKVz1J",
        "outputId": "b0088399-f085-47e0-94ab-afcf3c40a01c"
      },
      "execution_count": 29,
      "outputs": [
        {
          "output_type": "execute_result",
          "data": {
            "text/plain": [
              "1.707825127659933"
            ]
          },
          "metadata": {},
          "execution_count": 29
        }
      ]
    },
    {
      "cell_type": "code",
      "source": [
        "c.std(axis=0)"
      ],
      "metadata": {
        "colab": {
          "base_uri": "https://localhost:8080/"
        },
        "id": "NHt3qmHwV1Rf",
        "outputId": "47ec3a81-ec69-44d6-fb8d-ec43ada7cdf0"
      },
      "execution_count": 30,
      "outputs": [
        {
          "output_type": "execute_result",
          "data": {
            "text/plain": [
              "array([1.63299316, 1.63299316])"
            ]
          },
          "metadata": {},
          "execution_count": 30
        }
      ]
    },
    {
      "cell_type": "code",
      "source": [
        "c.std(axis=1)"
      ],
      "metadata": {
        "colab": {
          "base_uri": "https://localhost:8080/"
        },
        "id": "OsUdBjf4V3Iv",
        "outputId": "466818d3-eb0b-4da8-ed67-515770c528f5"
      },
      "execution_count": 31,
      "outputs": [
        {
          "output_type": "execute_result",
          "data": {
            "text/plain": [
              "array([0.5, 0.5, 0.5])"
            ]
          },
          "metadata": {},
          "execution_count": 31
        }
      ]
    },
    {
      "cell_type": "markdown",
      "source": [
        "### NAN"
      ],
      "metadata": {
        "id": "e2mU7jZkQ13V"
      }
    },
    {
      "cell_type": "markdown",
      "source": [
        "To specify `not a number` value, which is often used represent missing data, you can use `np.nan`\n",
        "\n",
        "https://numpy.org/doc/stable/reference/constants.html#numpy.nan"
      ],
      "metadata": {
        "id": "oYBbZO6yQ7As"
      }
    },
    {
      "cell_type": "code",
      "source": [
        "np.nan"
      ],
      "metadata": {
        "colab": {
          "base_uri": "https://localhost:8080/"
        },
        "id": "f2ygBtvWQ3oJ",
        "outputId": "905c3d38-1405-454b-e3b5-9a5318b99c29"
      },
      "execution_count": 32,
      "outputs": [
        {
          "output_type": "execute_result",
          "data": {
            "text/plain": [
              "nan"
            ]
          },
          "metadata": {},
          "execution_count": 32
        }
      ]
    },
    {
      "cell_type": "markdown",
      "source": [
        "### arange\n",
        "\n",
        "https://numpy.org/doc/stable/reference/generated/numpy.arange.html"
      ],
      "metadata": {
        "id": "mEeBnuzVSaOI"
      }
    },
    {
      "cell_type": "code",
      "source": [
        "np.arange(6)"
      ],
      "metadata": {
        "colab": {
          "base_uri": "https://localhost:8080/"
        },
        "id": "BbSfrtK4Sb4D",
        "outputId": "78699b07-34c0-400e-a2f7-653ad24f4533"
      },
      "execution_count": 33,
      "outputs": [
        {
          "output_type": "execute_result",
          "data": {
            "text/plain": [
              "array([0, 1, 2, 3, 4, 5])"
            ]
          },
          "metadata": {},
          "execution_count": 33
        }
      ]
    },
    {
      "cell_type": "markdown",
      "source": [
        "### Linespace\n",
        "\n",
        "https://numpy.org/doc/stable/reference/generated/numpy.linspace.html"
      ],
      "metadata": {
        "id": "fBzVpquQOiOK"
      }
    },
    {
      "cell_type": "code",
      "source": [
        "np.linspace(0,1,5)"
      ],
      "metadata": {
        "colab": {
          "base_uri": "https://localhost:8080/"
        },
        "id": "8uEY2HcqOlsa",
        "outputId": "7682c10d-6bde-4c98-a283-a19787188be4"
      },
      "execution_count": 34,
      "outputs": [
        {
          "output_type": "execute_result",
          "data": {
            "text/plain": [
              "array([0.  , 0.25, 0.5 , 0.75, 1.  ])"
            ]
          },
          "metadata": {},
          "execution_count": 34
        }
      ]
    },
    {
      "cell_type": "code",
      "source": [
        "np.linspace(0,1,5, endpoint=False)"
      ],
      "metadata": {
        "colab": {
          "base_uri": "https://localhost:8080/"
        },
        "id": "dwXYHY-7Olp5",
        "outputId": "6532e645-5f50-4d5c-cdbd-da2b74185b62"
      },
      "execution_count": 35,
      "outputs": [
        {
          "output_type": "execute_result",
          "data": {
            "text/plain": [
              "array([0. , 0.2, 0.4, 0.6, 0.8])"
            ]
          },
          "metadata": {},
          "execution_count": 35
        }
      ]
    },
    {
      "cell_type": "markdown",
      "source": [
        "### Repeat\n",
        "\n",
        "https://numpy.org/doc/stable/reference/generated/numpy.repeat.html"
      ],
      "metadata": {
        "id": "wkux3IuCOxhy"
      }
    },
    {
      "cell_type": "code",
      "source": [
        "np.repeat(0,5)"
      ],
      "metadata": {
        "colab": {
          "base_uri": "https://localhost:8080/"
        },
        "id": "EbZwvs0uPTEm",
        "outputId": "e3d6070e-d515-43f1-f028-a7214009e9b9"
      },
      "execution_count": 36,
      "outputs": [
        {
          "output_type": "execute_result",
          "data": {
            "text/plain": [
              "array([0, 0, 0, 0, 0])"
            ]
          },
          "metadata": {},
          "execution_count": 36
        }
      ]
    },
    {
      "cell_type": "markdown",
      "source": [
        "### Zeros and Ones"
      ],
      "metadata": {
        "id": "7NkNeIGyR2Te"
      }
    },
    {
      "cell_type": "markdown",
      "source": [
        "https://numpy.org/doc/stable/reference/generated/numpy.zeros.html\n",
        "\n",
        "https://numpy.org/doc/stable/reference/generated/numpy.zeros_like.html\n",
        "\n",
        "https://numpy.org/doc/stable/reference/generated/numpy.ones.html\n",
        "\n",
        "https://numpy.org/doc/stable/reference/generated/numpy.ones_like.html"
      ],
      "metadata": {
        "id": "pfzY2672W9k6"
      }
    },
    {
      "cell_type": "code",
      "source": [
        "np.zeros((2,3))"
      ],
      "metadata": {
        "colab": {
          "base_uri": "https://localhost:8080/"
        },
        "id": "dsfc0AN0R4Ts",
        "outputId": "e6bf91f8-bd60-4ed4-b6ae-18d2d07c60f1"
      },
      "execution_count": 37,
      "outputs": [
        {
          "output_type": "execute_result",
          "data": {
            "text/plain": [
              "array([[0., 0., 0.],\n",
              "       [0., 0., 0.]])"
            ]
          },
          "metadata": {},
          "execution_count": 37
        }
      ]
    },
    {
      "cell_type": "code",
      "source": [
        "np.ones((4,2))"
      ],
      "metadata": {
        "colab": {
          "base_uri": "https://localhost:8080/"
        },
        "id": "KNwKKhG9R7cl",
        "outputId": "689de4a1-5e79-4579-b0d2-75921a3e60eb"
      },
      "execution_count": 38,
      "outputs": [
        {
          "output_type": "execute_result",
          "data": {
            "text/plain": [
              "array([[1., 1.],\n",
              "       [1., 1.],\n",
              "       [1., 1.],\n",
              "       [1., 1.]])"
            ]
          },
          "metadata": {},
          "execution_count": 38
        }
      ]
    },
    {
      "cell_type": "code",
      "source": [
        "np.zeros_like(a) # returns an array of the same shape as the input array with elements replaced by zero"
      ],
      "metadata": {
        "colab": {
          "base_uri": "https://localhost:8080/"
        },
        "id": "B4iwrDxrSA2a",
        "outputId": "511621db-f57a-4439-ff2e-653055a26af1"
      },
      "execution_count": 39,
      "outputs": [
        {
          "output_type": "execute_result",
          "data": {
            "text/plain": [
              "array([[0, 0],\n",
              "       [0, 0],\n",
              "       [0, 0]])"
            ]
          },
          "metadata": {},
          "execution_count": 39
        }
      ]
    },
    {
      "cell_type": "code",
      "source": [
        "np.ones_like(a) # returns an array of the same shape as the input array with elements replaced by one"
      ],
      "metadata": {
        "colab": {
          "base_uri": "https://localhost:8080/"
        },
        "id": "fVbDNKShSL-a",
        "outputId": "ac2cce96-aa10-47c6-e678-963083451bd3"
      },
      "execution_count": 40,
      "outputs": [
        {
          "output_type": "execute_result",
          "data": {
            "text/plain": [
              "array([[1, 1],\n",
              "       [1, 1],\n",
              "       [1, 1]])"
            ]
          },
          "metadata": {},
          "execution_count": 40
        }
      ]
    },
    {
      "cell_type": "markdown",
      "source": [
        "### Reshape\n",
        "\n",
        "https://numpy.org/doc/stable/reference/generated/numpy.reshape.html"
      ],
      "metadata": {
        "id": "UxCOfhraSjtf"
      }
    },
    {
      "cell_type": "code",
      "source": [
        "a = np.arange(6)\n",
        "a"
      ],
      "metadata": {
        "colab": {
          "base_uri": "https://localhost:8080/"
        },
        "id": "7Zi8cHbhSk9p",
        "outputId": "71a30b78-aad6-46b3-c0ca-b604c7590219"
      },
      "execution_count": 41,
      "outputs": [
        {
          "output_type": "execute_result",
          "data": {
            "text/plain": [
              "array([0, 1, 2, 3, 4, 5])"
            ]
          },
          "metadata": {},
          "execution_count": 41
        }
      ]
    },
    {
      "cell_type": "code",
      "source": [
        "a_reshaped = a.reshape(3,2)\n",
        "a_reshaped"
      ],
      "metadata": {
        "colab": {
          "base_uri": "https://localhost:8080/"
        },
        "id": "b0m3Uck5SrNZ",
        "outputId": "665666ea-4026-4659-e8ed-17317b2b8ac4"
      },
      "execution_count": 42,
      "outputs": [
        {
          "output_type": "execute_result",
          "data": {
            "text/plain": [
              "array([[0, 1],\n",
              "       [2, 3],\n",
              "       [4, 5]])"
            ]
          },
          "metadata": {},
          "execution_count": 42
        }
      ]
    },
    {
      "cell_type": "markdown",
      "source": [
        "There is a special case of reshaping that are very useful in deep learning: flattening an array to create a long 1-dimensional array"
      ],
      "metadata": {
        "id": "VVnJHqG7TB9E"
      }
    },
    {
      "cell_type": "code",
      "source": [
        "a_reshaped.reshape(1,-1) # one row"
      ],
      "metadata": {
        "colab": {
          "base_uri": "https://localhost:8080/"
        },
        "id": "E4PDqQDFSz4g",
        "outputId": "f4f57c65-d773-4ee2-d028-6c8998b4c45e"
      },
      "execution_count": 43,
      "outputs": [
        {
          "output_type": "execute_result",
          "data": {
            "text/plain": [
              "array([[0, 1, 2, 3, 4, 5]])"
            ]
          },
          "metadata": {},
          "execution_count": 43
        }
      ]
    },
    {
      "cell_type": "code",
      "source": [
        "a_reshaped.reshape(-1,1) # one column"
      ],
      "metadata": {
        "colab": {
          "base_uri": "https://localhost:8080/"
        },
        "id": "ni0Fg0jyTVLU",
        "outputId": "341fdcf3-469e-4d91-eacf-8064ebd9c9b4"
      },
      "execution_count": 44,
      "outputs": [
        {
          "output_type": "execute_result",
          "data": {
            "text/plain": [
              "array([[0],\n",
              "       [1],\n",
              "       [2],\n",
              "       [3],\n",
              "       [4],\n",
              "       [5]])"
            ]
          },
          "metadata": {},
          "execution_count": 44
        }
      ]
    },
    {
      "cell_type": "markdown",
      "source": [
        "There is another special case of reshaping that is also useful in deep learning: adding a new axis to an array."
      ],
      "metadata": {
        "id": "5VEFmNIQUCHx"
      }
    },
    {
      "cell_type": "code",
      "source": [
        "b = np.arange(6).reshape(3,2)\n",
        "b"
      ],
      "metadata": {
        "colab": {
          "base_uri": "https://localhost:8080/"
        },
        "id": "LRspk5NtUOxO",
        "outputId": "8401659b-f0f4-45ff-9d98-0e7accbe7c01"
      },
      "execution_count": 45,
      "outputs": [
        {
          "output_type": "execute_result",
          "data": {
            "text/plain": [
              "array([[0, 1],\n",
              "       [2, 3],\n",
              "       [4, 5]])"
            ]
          },
          "metadata": {},
          "execution_count": 45
        }
      ]
    },
    {
      "cell_type": "code",
      "source": [
        "b.shape"
      ],
      "metadata": {
        "colab": {
          "base_uri": "https://localhost:8080/"
        },
        "id": "vY9ygYgoUTf_",
        "outputId": "1f6f4bf2-56b1-48c0-d5a2-c161d6d9b536"
      },
      "execution_count": 46,
      "outputs": [
        {
          "output_type": "execute_result",
          "data": {
            "text/plain": [
              "(3, 2)"
            ]
          },
          "metadata": {},
          "execution_count": 46
        }
      ]
    },
    {
      "cell_type": "code",
      "source": [
        "reshaped_b = b.reshape((1,3,2))\n",
        "reshaped_b"
      ],
      "metadata": {
        "colab": {
          "base_uri": "https://localhost:8080/"
        },
        "id": "O1NQivClUWY6",
        "outputId": "68d5b128-dbe4-4e67-c960-a54872f3ce48"
      },
      "execution_count": 47,
      "outputs": [
        {
          "output_type": "execute_result",
          "data": {
            "text/plain": [
              "array([[[0, 1],\n",
              "        [2, 3],\n",
              "        [4, 5]]])"
            ]
          },
          "metadata": {},
          "execution_count": 47
        }
      ]
    },
    {
      "cell_type": "code",
      "source": [
        "reshaped_b.shape"
      ],
      "metadata": {
        "colab": {
          "base_uri": "https://localhost:8080/"
        },
        "id": "YYfY3oeoUfam",
        "outputId": "bced608e-1475-4f59-a567-58d4f0d55ec8"
      },
      "execution_count": 48,
      "outputs": [
        {
          "output_type": "execute_result",
          "data": {
            "text/plain": [
              "(1, 3, 2)"
            ]
          },
          "metadata": {},
          "execution_count": 48
        }
      ]
    },
    {
      "cell_type": "markdown",
      "source": [
        "We can also achieve the same result using the following code:"
      ],
      "metadata": {
        "id": "v-ePVU6NUhhh"
      }
    },
    {
      "cell_type": "code",
      "source": [
        "reshaped_b_2 = b[np.newaxis, :]\n",
        "reshaped_b_2"
      ],
      "metadata": {
        "colab": {
          "base_uri": "https://localhost:8080/"
        },
        "id": "py8x-s7VUgG1",
        "outputId": "85c6e982-9e45-4da4-cfd7-4c24eba69a02"
      },
      "execution_count": 49,
      "outputs": [
        {
          "output_type": "execute_result",
          "data": {
            "text/plain": [
              "array([[[0, 1],\n",
              "        [2, 3],\n",
              "        [4, 5]]])"
            ]
          },
          "metadata": {},
          "execution_count": 49
        }
      ]
    },
    {
      "cell_type": "code",
      "source": [
        "reshaped_b_2.shape"
      ],
      "metadata": {
        "colab": {
          "base_uri": "https://localhost:8080/"
        },
        "id": "fEagYTabU1jO",
        "outputId": "acea30c7-2db6-4457-b1d2-35bf16cfe2ec"
      },
      "execution_count": 50,
      "outputs": [
        {
          "output_type": "execute_result",
          "data": {
            "text/plain": [
              "(1, 3, 2)"
            ]
          },
          "metadata": {},
          "execution_count": 50
        }
      ]
    },
    {
      "cell_type": "markdown",
      "source": [
        "### Random and Distributions"
      ],
      "metadata": {
        "id": "lTTv8KZMKJtV"
      }
    },
    {
      "cell_type": "markdown",
      "source": [
        "You can use numpy to generate random numbers.\n",
        "\n",
        "https://numpy.org/doc/stable/reference/random/index.html"
      ],
      "metadata": {
        "id": "T7OgrJFAKOjX"
      }
    },
    {
      "cell_type": "code",
      "source": [
        "np.random.random()"
      ],
      "metadata": {
        "colab": {
          "base_uri": "https://localhost:8080/"
        },
        "id": "vQemoqlGKSWd",
        "outputId": "45752651-fdfb-42f1-8bcd-8fd1b789b4bf"
      },
      "execution_count": 51,
      "outputs": [
        {
          "output_type": "execute_result",
          "data": {
            "text/plain": [
              "0.5798516916221919"
            ]
          },
          "metadata": {},
          "execution_count": 51
        }
      ]
    },
    {
      "cell_type": "code",
      "source": [
        "np.random.rand()"
      ],
      "metadata": {
        "colab": {
          "base_uri": "https://localhost:8080/"
        },
        "id": "WWSF5t8PKSKu",
        "outputId": "610e8d6b-2cce-40e8-d8db-6082b6695d94"
      },
      "execution_count": 52,
      "outputs": [
        {
          "output_type": "execute_result",
          "data": {
            "text/plain": [
              "0.18038629795586048"
            ]
          },
          "metadata": {},
          "execution_count": 52
        }
      ]
    },
    {
      "cell_type": "code",
      "source": [
        "np.random.rand()"
      ],
      "metadata": {
        "colab": {
          "base_uri": "https://localhost:8080/"
        },
        "id": "027l2RJxK0cg",
        "outputId": "3fb1738d-d500-44ac-f2ce-cc555d960f66"
      },
      "execution_count": 53,
      "outputs": [
        {
          "output_type": "execute_result",
          "data": {
            "text/plain": [
              "0.8958183871777586"
            ]
          },
          "metadata": {},
          "execution_count": 53
        }
      ]
    },
    {
      "cell_type": "code",
      "source": [
        "np.random.randint(1,10)"
      ],
      "metadata": {
        "colab": {
          "base_uri": "https://localhost:8080/"
        },
        "id": "fHNDLS8vK9lB",
        "outputId": "f723f99e-2f5d-4c1a-cd32-af1c21696d1c"
      },
      "execution_count": 54,
      "outputs": [
        {
          "output_type": "execute_result",
          "data": {
            "text/plain": [
              "2"
            ]
          },
          "metadata": {},
          "execution_count": 54
        }
      ]
    },
    {
      "cell_type": "code",
      "source": [
        "b = np.array([12, 4, 1.2, 2.5, 5, 14])\n",
        "np.random.choice(b)"
      ],
      "metadata": {
        "colab": {
          "base_uri": "https://localhost:8080/"
        },
        "id": "42SuhONFPmMV",
        "outputId": "99187feb-33c5-4a48-cd78-185993584fb8"
      },
      "execution_count": 55,
      "outputs": [
        {
          "output_type": "execute_result",
          "data": {
            "text/plain": [
              "4.0"
            ]
          },
          "metadata": {},
          "execution_count": 55
        }
      ]
    },
    {
      "cell_type": "markdown",
      "source": [
        "You can specify the number of draws from a list."
      ],
      "metadata": {
        "id": "ixkRGJSFQTt8"
      }
    },
    {
      "cell_type": "code",
      "source": [
        "np.random.choice(b, 2)"
      ],
      "metadata": {
        "colab": {
          "base_uri": "https://localhost:8080/"
        },
        "id": "ttXM7a17Pf-V",
        "outputId": "12a30743-969e-41eb-c966-917937d969ba"
      },
      "execution_count": 56,
      "outputs": [
        {
          "output_type": "execute_result",
          "data": {
            "text/plain": [
              "array([ 5., 14.])"
            ]
          },
          "metadata": {},
          "execution_count": 56
        }
      ]
    },
    {
      "cell_type": "markdown",
      "source": [
        "You can assign a probability to each item in a list."
      ],
      "metadata": {
        "id": "T-phT8mmQVbF"
      }
    },
    {
      "cell_type": "code",
      "source": [
        "np.random.choice([12, 4, 1.2, 2.5, 5, 14], p=[0.1, 0.1, 0.1, 0.5, 0.05, 0.15])"
      ],
      "metadata": {
        "colab": {
          "base_uri": "https://localhost:8080/"
        },
        "id": "GOkMyOCvP2zs",
        "outputId": "0f2892b0-9f3c-4f07-f94c-6703440ffb9b"
      },
      "execution_count": 57,
      "outputs": [
        {
          "output_type": "execute_result",
          "data": {
            "text/plain": [
              "2.5"
            ]
          },
          "metadata": {},
          "execution_count": 57
        }
      ]
    },
    {
      "cell_type": "markdown",
      "source": [
        "#### Draw from `normal` distribution\n",
        "\n",
        "Check this tool to learn more about this distribution: https://homepage.divms.uiowa.edu/~mbognar/applets/normal.html"
      ],
      "metadata": {
        "id": "OUsGOXIfMnvU"
      }
    },
    {
      "cell_type": "code",
      "source": [
        "np.random.normal()"
      ],
      "metadata": {
        "colab": {
          "base_uri": "https://localhost:8080/"
        },
        "id": "34_LsdpVLIjc",
        "outputId": "26c82a09-6025-4cb9-a784-13eeccb36e00"
      },
      "execution_count": 58,
      "outputs": [
        {
          "output_type": "execute_result",
          "data": {
            "text/plain": [
              "-2.032234123178886"
            ]
          },
          "metadata": {},
          "execution_count": 58
        }
      ]
    },
    {
      "cell_type": "markdown",
      "source": [
        "#### Draw from `binomial` distribution\n",
        "\n",
        "Check this tool to learn more about this distribution: https://homepage.divms.uiowa.edu/~mbognar/applets/binnormal.html"
      ],
      "metadata": {
        "id": "LF1oU19iMJ0N"
      }
    },
    {
      "cell_type": "code",
      "source": [
        "np.random.binomial(2000, 0.2)"
      ],
      "metadata": {
        "colab": {
          "base_uri": "https://localhost:8080/"
        },
        "id": "iO8axmFvLVE6",
        "outputId": "66ee556f-fd4c-416e-cf14-b36920fb59b8"
      },
      "execution_count": 59,
      "outputs": [
        {
          "output_type": "execute_result",
          "data": {
            "text/plain": [
              "389"
            ]
          },
          "metadata": {},
          "execution_count": 59
        }
      ]
    }
  ]
}