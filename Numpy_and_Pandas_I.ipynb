{
  "nbformat": 4,
  "nbformat_minor": 0,
  "metadata": {
    "kernelspec": {
      "display_name": "Python 3",
      "language": "python",
      "name": "python3"
    },
    "language_info": {
      "codemirror_mode": {
        "name": "ipython",
        "version": 3
      },
      "file_extension": ".py",
      "mimetype": "text/x-python",
      "name": "python",
      "nbconvert_exporter": "python",
      "pygments_lexer": "ipython3",
      "version": "3.8.5"
    },
    "colab": {
      "provenance": [],
      "include_colab_link": true
    }
  },
  "cells": [
    {
      "cell_type": "markdown",
      "metadata": {
        "id": "view-in-github",
        "colab_type": "text"
      },
      "source": [
        "<a href=\"https://colab.research.google.com/github/saffarizadeh/BUAN4061/blob/main/Numpy_and_Pandas_I.ipynb\" target=\"_parent\"><img src=\"https://colab.research.google.com/assets/colab-badge.svg\" alt=\"Open In Colab\"/></a>"
      ]
    },
    {
      "cell_type": "markdown",
      "metadata": {
        "id": "Yw1tx2SELnot"
      },
      "source": [
        "<img src=\"http://saffarizadeh.com/Logo.png\" width=\"300px\"/>\n",
        "\n",
        "# *BUAN 4061: Advanced Business Analytics*\n",
        "\n",
        "# **Numpy and Pandas I**\n",
        "\n",
        "Instructor: Dr. Kambiz Saffarizadeh\n",
        "\n",
        "---"
      ]
    },
    {
      "cell_type": "markdown",
      "metadata": {
        "id": "dww1-D8Kis1f"
      },
      "source": [
        "#Numpy\n",
        "\n",
        "`numpy` is the core library for scientific computing in Python. It provides a high-performance multidimensional array object, and tools for working with these arrays. If you are already familiar with MATLAB, you might find this tutorial useful to get started with Numpy."
      ]
    },
    {
      "cell_type": "markdown",
      "metadata": {
        "id": "ReIuzHRyix2P"
      },
      "source": [
        "## Arrays\n",
        "A numpy array is a grid of values, all of the same type, and is indexed by a tuple of nonnegative integers. The number of dimensions is the rank of the array; the shape of an array is a tuple of integers giving the size of the array along each dimension.\n",
        "\n",
        "We can initialize numpy arrays from nested Python lists, and access elements using square brackets:"
      ]
    },
    {
      "cell_type": "code",
      "metadata": {
        "id": "FP9JQ_hqi39E"
      },
      "source": [
        "import numpy as np"
      ],
      "execution_count": 1,
      "outputs": []
    },
    {
      "cell_type": "code",
      "metadata": {
        "id": "RIyT2S_Zi5um",
        "colab": {
          "base_uri": "https://localhost:8080/"
        },
        "outputId": "c88f257b-ecd1-4209-c409-8ff0f449c179"
      },
      "source": [
        "a = np.array([1, 2, 3])   # Create a rank 1 array\n",
        "print(type(a))            # Prints \"<class 'numpy.ndarray'>\"\n",
        "print(a.shape)            # Prints \"(3,)\"\n",
        "print(a[0], a[1], a[2])   # Prints \"1 2 3\""
      ],
      "execution_count": 2,
      "outputs": [
        {
          "output_type": "stream",
          "name": "stdout",
          "text": [
            "<class 'numpy.ndarray'>\n",
            "(3,)\n",
            "1 2 3\n"
          ]
        }
      ]
    },
    {
      "cell_type": "code",
      "metadata": {
        "id": "PpqCiq5Ji69x",
        "colab": {
          "base_uri": "https://localhost:8080/"
        },
        "outputId": "e16a4e41-aff2-4977-c8c4-761ef5ccbbfb"
      },
      "source": [
        "a[0] = 5                  # Change an element of the array\n",
        "print(a)                  # Prints \"[5, 2, 3]\""
      ],
      "execution_count": 3,
      "outputs": [
        {
          "output_type": "stream",
          "name": "stdout",
          "text": [
            "[5 2 3]\n"
          ]
        }
      ]
    },
    {
      "cell_type": "code",
      "metadata": {
        "id": "o7TyPJFti8E1",
        "colab": {
          "base_uri": "https://localhost:8080/"
        },
        "outputId": "4f7e687e-7b9c-4d52-ee5b-28fc48f16062"
      },
      "source": [
        "b = np.array([[1,2,3],[4,5,6]])    # Create a rank 2 array\n",
        "print(b)\n",
        "print(b.shape)                     # Prints \"(2, 3)\""
      ],
      "execution_count": 4,
      "outputs": [
        {
          "output_type": "stream",
          "name": "stdout",
          "text": [
            "[[1 2 3]\n",
            " [4 5 6]]\n",
            "(2, 3)\n"
          ]
        }
      ]
    },
    {
      "cell_type": "code",
      "metadata": {
        "id": "709KL8h_i9kr",
        "colab": {
          "base_uri": "https://localhost:8080/"
        },
        "outputId": "7be80b99-3551-4947-c07c-73090335b9cb"
      },
      "source": [
        "print(b[0, 0], b[0, 1], b[1, 0])   # Prints \"1 2 4\""
      ],
      "execution_count": 5,
      "outputs": [
        {
          "output_type": "stream",
          "name": "stdout",
          "text": [
            "1 2 4\n"
          ]
        }
      ]
    },
    {
      "cell_type": "markdown",
      "metadata": {
        "id": "ChC63ezvixzK"
      },
      "source": [
        "### Array indexing\n",
        "Numpy offers several ways to index into arrays.\n",
        "\n",
        "Slicing: Similar to Python lists, numpy arrays can be sliced. Since arrays may be multidimensional, you must specify a slice for each dimension of the array:\n",
        "\n",
        "Create the following rank 2 array with shape (3, 4)\n",
        "\n",
        "[[ 1  2  3  4]\n",
        "\n",
        " [ 5  6  7  8]\n",
        " \n",
        " [ 9 10 11 12]]"
      ]
    },
    {
      "cell_type": "code",
      "metadata": {
        "id": "LOH7IgXfjGkj",
        "colab": {
          "base_uri": "https://localhost:8080/"
        },
        "outputId": "50c33006-9124-4751-b9e5-47a886878880"
      },
      "source": [
        "a = np.array([[1,2,3,4], [5,6,7,8], [9,10,11,12]])\n",
        "print(a)"
      ],
      "execution_count": 6,
      "outputs": [
        {
          "output_type": "stream",
          "name": "stdout",
          "text": [
            "[[ 1  2  3  4]\n",
            " [ 5  6  7  8]\n",
            " [ 9 10 11 12]]\n"
          ]
        }
      ]
    },
    {
      "cell_type": "markdown",
      "metadata": {
        "id": "yc-v8h_zixqD"
      },
      "source": [
        "Use slicing to pull out the subarray consisting of the first 2 rows and columns 1 and 2; b is the following array of shape (2, 2):\n",
        "\n",
        "[[2 3]\n",
        "\n",
        " [6 7]]"
      ]
    },
    {
      "cell_type": "code",
      "metadata": {
        "id": "IJ1vw4z3jJhJ"
      },
      "source": [
        "b = a[:2, 1:3]"
      ],
      "execution_count": 7,
      "outputs": []
    },
    {
      "cell_type": "markdown",
      "metadata": {
        "id": "jX6uA2C5jLl_"
      },
      "source": [
        "A slice of an array is a view into the same data, so modifying it will modify the original array."
      ]
    },
    {
      "cell_type": "code",
      "metadata": {
        "id": "U4X7k3nGjNCf",
        "colab": {
          "base_uri": "https://localhost:8080/"
        },
        "outputId": "a24e5741-efcf-4338-da43-14884a6a6ac6"
      },
      "source": [
        "print(a[0, 1])   # Prints \"2\""
      ],
      "execution_count": 8,
      "outputs": [
        {
          "output_type": "stream",
          "name": "stdout",
          "text": [
            "2\n"
          ]
        }
      ]
    },
    {
      "cell_type": "code",
      "metadata": {
        "id": "ZpszlxYJjOkk"
      },
      "source": [
        "b[0, 0] = 77     # b[0, 0] is the same piece of data as a[0, 1]"
      ],
      "execution_count": 9,
      "outputs": []
    },
    {
      "cell_type": "code",
      "metadata": {
        "id": "DBhJFSAxjP0s",
        "colab": {
          "base_uri": "https://localhost:8080/"
        },
        "outputId": "8c014b3b-c191-4290-d447-8f5df72bb8e6"
      },
      "source": [
        "print(a[0, 1])   # Prints \"77\""
      ],
      "execution_count": 10,
      "outputs": [
        {
          "output_type": "stream",
          "name": "stdout",
          "text": [
            "77\n"
          ]
        }
      ]
    },
    {
      "cell_type": "markdown",
      "metadata": {
        "id": "epxpvxqnjUlA"
      },
      "source": [
        "You can select a single row or column of an array too:"
      ]
    },
    {
      "cell_type": "code",
      "metadata": {
        "id": "LEydWRepjU7b",
        "colab": {
          "base_uri": "https://localhost:8080/"
        },
        "outputId": "34bdf269-ac47-4ca1-e0f0-02d5ba09723e"
      },
      "source": [
        "row_r1 = a[1, :]    # Rank 1 view of the second row of a\n",
        "print(row_r1)"
      ],
      "execution_count": 11,
      "outputs": [
        {
          "output_type": "stream",
          "name": "stdout",
          "text": [
            "[5 6 7 8]\n"
          ]
        }
      ]
    },
    {
      "cell_type": "code",
      "metadata": {
        "id": "7UkJlyCSjTil",
        "colab": {
          "base_uri": "https://localhost:8080/"
        },
        "outputId": "be20a16b-b631-440e-e7d2-df19601a7c97"
      },
      "source": [
        "col_r1 = a[:, 2]    # Rank 1 view of the third column of a\n",
        "print(col_r1)"
      ],
      "execution_count": 12,
      "outputs": [
        {
          "output_type": "stream",
          "name": "stdout",
          "text": [
            "[ 3  7 11]\n"
          ]
        }
      ]
    },
    {
      "cell_type": "markdown",
      "metadata": {
        "id": "aDL-zZkqjaKA"
      },
      "source": [
        "Boolean array indexing: Boolean array indexing lets you pick out arbitrary elements of an array. Frequently this type of indexing is used to select the elements of an array that satisfy some condition. Here is an example:"
      ]
    },
    {
      "cell_type": "code",
      "metadata": {
        "id": "-PLaaLbtjahL",
        "colab": {
          "base_uri": "https://localhost:8080/"
        },
        "outputId": "6cb424a9-e5db-415d-deb4-efe747d45965"
      },
      "source": [
        "a = np.array([[1,2], [3, 4], [5, 6]])\n",
        "print(a)"
      ],
      "execution_count": 13,
      "outputs": [
        {
          "output_type": "stream",
          "name": "stdout",
          "text": [
            "[[1 2]\n",
            " [3 4]\n",
            " [5 6]]\n"
          ]
        }
      ]
    },
    {
      "cell_type": "code",
      "metadata": {
        "id": "ZbEjBLlvjcJ8",
        "colab": {
          "base_uri": "https://localhost:8080/"
        },
        "outputId": "79776aab-d4f8-4ac7-bbc5-e1a79fff399f"
      },
      "source": [
        "bool_idx = (a > 2)   # Find the elements of a that are bigger than 2;\n",
        "                     # this returns a numpy array of Booleans of the same\n",
        "                     # shape as a, where each slot of bool_idx tells\n",
        "                     # whether that element of a is > 2.\n",
        "print(bool_idx)"
      ],
      "execution_count": 14,
      "outputs": [
        {
          "output_type": "stream",
          "name": "stdout",
          "text": [
            "[[False False]\n",
            " [ True  True]\n",
            " [ True  True]]\n"
          ]
        }
      ]
    },
    {
      "cell_type": "markdown",
      "metadata": {
        "id": "Y6hRfOdujiDC"
      },
      "source": [
        "We use boolean array indexing to construct a rank 1 array consisting of the elements of a corresponding to the True values of bool_idx"
      ]
    },
    {
      "cell_type": "code",
      "metadata": {
        "id": "WsrZIyzBjiVb",
        "colab": {
          "base_uri": "https://localhost:8080/"
        },
        "outputId": "19ef45f8-a065-40a5-d226-76917c3f612c"
      },
      "source": [
        "print(a[bool_idx])"
      ],
      "execution_count": 15,
      "outputs": [
        {
          "output_type": "stream",
          "name": "stdout",
          "text": [
            "[3 4 5 6]\n"
          ]
        }
      ]
    },
    {
      "cell_type": "markdown",
      "metadata": {
        "id": "cknzAnTMjmQH"
      },
      "source": [
        "We can do all of the above in a single concise statement:"
      ]
    },
    {
      "cell_type": "code",
      "metadata": {
        "id": "jHuLmOFrjmo8",
        "colab": {
          "base_uri": "https://localhost:8080/"
        },
        "outputId": "ce15de8b-d1e1-4d09-f9b2-65dba8b8a003"
      },
      "source": [
        "print(a[a > 2])     # Prints \"[3 4 5 6]\""
      ],
      "execution_count": 16,
      "outputs": [
        {
          "output_type": "stream",
          "name": "stdout",
          "text": [
            "[3 4 5 6]\n"
          ]
        }
      ]
    },
    {
      "cell_type": "markdown",
      "metadata": {
        "id": "4fdWaEDQjpmk"
      },
      "source": [
        "## Numpy Datatypes\n",
        "\n",
        "https://numpy.org/doc/stable/reference/arrays.dtypes.html\n",
        "\n",
        "Every numpy array is a grid of elements of the same type. Numpy provides a large set of numeric datatypes that you can use to construct arrays. Numpy tries to guess a datatype when you create an array, but functions that construct arrays usually also include an optional argument to explicitly specify the datatype. Here is an example:"
      ]
    },
    {
      "cell_type": "code",
      "metadata": {
        "id": "fVj9d2KpjrHY",
        "colab": {
          "base_uri": "https://localhost:8080/"
        },
        "outputId": "49b56959-6c9d-46db-eae0-281c68a11c4b"
      },
      "source": [
        "x = np.array([1, 2])   # Let numpy choose the datatype\n",
        "print(x.dtype)         # Prints \"int64\"\n",
        "\n",
        "x = np.array([1.0, 2.0])   # Let numpy choose the datatype\n",
        "print(x.dtype)             # Prints \"float64\"\n",
        "\n",
        "x = np.array([1, 250], dtype=np.int64)   # Force a particular datatype\n",
        "print(x.dtype)"
      ],
      "execution_count": 17,
      "outputs": [
        {
          "output_type": "stream",
          "name": "stdout",
          "text": [
            "int64\n",
            "float64\n",
            "int64\n"
          ]
        }
      ]
    },
    {
      "cell_type": "markdown",
      "source": [
        "To convert as existing numpy array to a different datatype:"
      ],
      "metadata": {
        "id": "bNkAcM9mYTS7"
      }
    },
    {
      "cell_type": "code",
      "source": [
        "x.astype(np.int8)"
      ],
      "metadata": {
        "colab": {
          "base_uri": "https://localhost:8080/"
        },
        "id": "mjBpipqmY1C4",
        "outputId": "d23b25f6-9db8-47a6-8fd1-8eea766de118"
      },
      "execution_count": 18,
      "outputs": [
        {
          "output_type": "execute_result",
          "data": {
            "text/plain": [
              "array([ 1, -6], dtype=int8)"
            ]
          },
          "metadata": {},
          "execution_count": 18
        }
      ]
    },
    {
      "cell_type": "code",
      "source": [
        "x.astype(np.uint8)"
      ],
      "metadata": {
        "colab": {
          "base_uri": "https://localhost:8080/"
        },
        "id": "az9z5W4AYSmR",
        "outputId": "60f03a9f-e4f0-42f7-8348-59acb56445b2"
      },
      "execution_count": 19,
      "outputs": [
        {
          "output_type": "execute_result",
          "data": {
            "text/plain": [
              "array([  1, 250], dtype=uint8)"
            ]
          },
          "metadata": {},
          "execution_count": 19
        }
      ]
    },
    {
      "cell_type": "markdown",
      "source": [
        "### NAN"
      ],
      "metadata": {
        "id": "e2mU7jZkQ13V"
      }
    },
    {
      "cell_type": "markdown",
      "source": [
        "To specify `not a number` value, which is often used to represent missing data, you can use `np.nan`\n",
        "\n",
        "https://numpy.org/doc/stable/reference/constants.html#numpy.nan"
      ],
      "metadata": {
        "id": "oYBbZO6yQ7As"
      }
    },
    {
      "cell_type": "code",
      "source": [
        "np.nan"
      ],
      "metadata": {
        "colab": {
          "base_uri": "https://localhost:8080/"
        },
        "id": "f2ygBtvWQ3oJ",
        "outputId": "a8626be7-0972-458d-ded8-1691a895fd1b"
      },
      "execution_count": 20,
      "outputs": [
        {
          "output_type": "execute_result",
          "data": {
            "text/plain": [
              "nan"
            ]
          },
          "metadata": {},
          "execution_count": 20
        }
      ]
    },
    {
      "cell_type": "markdown",
      "source": [
        "## Numpy Methods"
      ],
      "metadata": {
        "id": "6eA5CLq-Izvd"
      }
    },
    {
      "cell_type": "markdown",
      "source": [
        "### Min and Max\n",
        "https://numpy.org/doc/stable/reference/generated/numpy.amin.html\n",
        "\n",
        "https://numpy.org/doc/stable/reference/generated/numpy.amax.html"
      ],
      "metadata": {
        "id": "S3CrCtXWKHy4"
      }
    },
    {
      "cell_type": "markdown",
      "source": [
        "You can find `min` and `max` values in an array."
      ],
      "metadata": {
        "id": "5HA1Fo2OI6dn"
      }
    },
    {
      "cell_type": "code",
      "source": [
        "b = np.array([12, 4, 1.2, 2.5, 5, 14])"
      ],
      "metadata": {
        "id": "7YJK2o54JIg2"
      },
      "execution_count": 21,
      "outputs": []
    },
    {
      "cell_type": "code",
      "metadata": {
        "id": "lsI1q69BjgQk",
        "colab": {
          "base_uri": "https://localhost:8080/"
        },
        "outputId": "bf66d038-7384-49a6-c804-5e143aefc390"
      },
      "source": [
        "b.min()"
      ],
      "execution_count": 22,
      "outputs": [
        {
          "output_type": "execute_result",
          "data": {
            "text/plain": [
              "1.2"
            ]
          },
          "metadata": {},
          "execution_count": 22
        }
      ]
    },
    {
      "cell_type": "code",
      "metadata": {
        "id": "pQY3an-pjK8C",
        "colab": {
          "base_uri": "https://localhost:8080/"
        },
        "outputId": "85577977-dcaa-4d60-9dd8-fa88a6d832b4"
      },
      "source": [
        "b.max()"
      ],
      "execution_count": 23,
      "outputs": [
        {
          "output_type": "execute_result",
          "data": {
            "text/plain": [
              "14.0"
            ]
          },
          "metadata": {},
          "execution_count": 23
        }
      ]
    },
    {
      "cell_type": "code",
      "source": [
        "# or you can use np itself\n",
        "np.amin(b)"
      ],
      "metadata": {
        "colab": {
          "base_uri": "https://localhost:8080/"
        },
        "id": "FEHRwp9TJMJI",
        "outputId": "89e60725-5ed0-46ba-842d-9ee917151efb"
      },
      "execution_count": 24,
      "outputs": [
        {
          "output_type": "execute_result",
          "data": {
            "text/plain": [
              "1.2"
            ]
          },
          "metadata": {},
          "execution_count": 24
        }
      ]
    },
    {
      "cell_type": "code",
      "source": [
        "np.amax(b)"
      ],
      "metadata": {
        "colab": {
          "base_uri": "https://localhost:8080/"
        },
        "id": "C5CASUEHJSgI",
        "outputId": "74367a03-e0de-48b9-f6e1-02af90c5747c"
      },
      "execution_count": 25,
      "outputs": [
        {
          "output_type": "execute_result",
          "data": {
            "text/plain": [
              "14.0"
            ]
          },
          "metadata": {},
          "execution_count": 25
        }
      ]
    },
    {
      "cell_type": "markdown",
      "source": [
        "You can also find the index of the `min` and `max` values."
      ],
      "metadata": {
        "id": "NtJAXc5pJWFk"
      }
    },
    {
      "cell_type": "code",
      "source": [
        "np.argmin(b)"
      ],
      "metadata": {
        "colab": {
          "base_uri": "https://localhost:8080/"
        },
        "id": "oeODjI3EJebS",
        "outputId": "eb90504a-964a-4bee-de36-02243d703141"
      },
      "execution_count": 26,
      "outputs": [
        {
          "output_type": "execute_result",
          "data": {
            "text/plain": [
              "2"
            ]
          },
          "metadata": {},
          "execution_count": 26
        }
      ]
    },
    {
      "cell_type": "code",
      "source": [
        "np.argmax(b)"
      ],
      "metadata": {
        "colab": {
          "base_uri": "https://localhost:8080/"
        },
        "id": "XHzlbJE4JeYL",
        "outputId": "224ddccd-7756-40ef-fd4b-577118b320e8"
      },
      "execution_count": 27,
      "outputs": [
        {
          "output_type": "execute_result",
          "data": {
            "text/plain": [
              "5"
            ]
          },
          "metadata": {},
          "execution_count": 27
        }
      ]
    },
    {
      "cell_type": "markdown",
      "source": [
        "### Mean and Standard Deviation"
      ],
      "metadata": {
        "id": "Lp_ibMT3VI7n"
      }
    },
    {
      "cell_type": "markdown",
      "source": [
        "https://numpy.org/doc/stable/reference/generated/numpy.mean.html\n",
        "\n",
        "https://numpy.org/doc/stable/reference/generated/numpy.std.html"
      ],
      "metadata": {
        "id": "kRCuFtWKW30t"
      }
    },
    {
      "cell_type": "code",
      "source": [
        "c = np.array([[1,2], [3, 4], [5, 6]])\n",
        "c"
      ],
      "metadata": {
        "colab": {
          "base_uri": "https://localhost:8080/"
        },
        "id": "RHhbP9pUVMhI",
        "outputId": "88b7d594-a01a-4896-f238-761a54651304"
      },
      "execution_count": 28,
      "outputs": [
        {
          "output_type": "execute_result",
          "data": {
            "text/plain": [
              "array([[1, 2],\n",
              "       [3, 4],\n",
              "       [5, 6]])"
            ]
          },
          "metadata": {},
          "execution_count": 28
        }
      ]
    },
    {
      "cell_type": "code",
      "source": [
        "c.mean()"
      ],
      "metadata": {
        "colab": {
          "base_uri": "https://localhost:8080/"
        },
        "id": "F3mwlKYbVQ85",
        "outputId": "a65b0c25-1a89-410f-ffff-7c0768918f7b"
      },
      "execution_count": 29,
      "outputs": [
        {
          "output_type": "execute_result",
          "data": {
            "text/plain": [
              "3.5"
            ]
          },
          "metadata": {},
          "execution_count": 29
        }
      ]
    },
    {
      "cell_type": "code",
      "source": [
        "c.mean(axis=0) # mean of c along axis 0"
      ],
      "metadata": {
        "colab": {
          "base_uri": "https://localhost:8080/"
        },
        "id": "bH8NfU8BVYeS",
        "outputId": "424c3eae-aa03-449e-fdb2-26eea6078f59"
      },
      "execution_count": 30,
      "outputs": [
        {
          "output_type": "execute_result",
          "data": {
            "text/plain": [
              "array([3., 4.])"
            ]
          },
          "metadata": {},
          "execution_count": 30
        }
      ]
    },
    {
      "cell_type": "code",
      "source": [
        "c.mean(axis=1) # mean of c along axis 1"
      ],
      "metadata": {
        "colab": {
          "base_uri": "https://localhost:8080/"
        },
        "id": "1jRIjcMtVbXH",
        "outputId": "3f8f1373-babe-4dba-8a3a-3821b4b3c46c"
      },
      "execution_count": 31,
      "outputs": [
        {
          "output_type": "execute_result",
          "data": {
            "text/plain": [
              "array([1.5, 3.5, 5.5])"
            ]
          },
          "metadata": {},
          "execution_count": 31
        }
      ]
    },
    {
      "cell_type": "code",
      "source": [
        "c.std()"
      ],
      "metadata": {
        "colab": {
          "base_uri": "https://localhost:8080/"
        },
        "id": "GXnTBASKVz1J",
        "outputId": "3b15f030-1035-4828-c1bc-99cb9beb62fe"
      },
      "execution_count": 32,
      "outputs": [
        {
          "output_type": "execute_result",
          "data": {
            "text/plain": [
              "1.707825127659933"
            ]
          },
          "metadata": {},
          "execution_count": 32
        }
      ]
    },
    {
      "cell_type": "code",
      "source": [
        "c.std(axis=0)"
      ],
      "metadata": {
        "colab": {
          "base_uri": "https://localhost:8080/"
        },
        "id": "NHt3qmHwV1Rf",
        "outputId": "354f6c1a-1248-4fa5-b362-ecc6bab1fd9a"
      },
      "execution_count": 33,
      "outputs": [
        {
          "output_type": "execute_result",
          "data": {
            "text/plain": [
              "array([1.63299316, 1.63299316])"
            ]
          },
          "metadata": {},
          "execution_count": 33
        }
      ]
    },
    {
      "cell_type": "code",
      "source": [
        "c.std(axis=1)"
      ],
      "metadata": {
        "colab": {
          "base_uri": "https://localhost:8080/"
        },
        "id": "OsUdBjf4V3Iv",
        "outputId": "b4ca507c-3259-4f26-dbda-c610fcc3eef3"
      },
      "execution_count": 34,
      "outputs": [
        {
          "output_type": "execute_result",
          "data": {
            "text/plain": [
              "array([0.5, 0.5, 0.5])"
            ]
          },
          "metadata": {},
          "execution_count": 34
        }
      ]
    },
    {
      "cell_type": "markdown",
      "source": [
        "### arange\n",
        "\n",
        "https://numpy.org/doc/stable/reference/generated/numpy.arange.html"
      ],
      "metadata": {
        "id": "mEeBnuzVSaOI"
      }
    },
    {
      "cell_type": "code",
      "source": [
        "np.arange(6)"
      ],
      "metadata": {
        "colab": {
          "base_uri": "https://localhost:8080/"
        },
        "id": "BbSfrtK4Sb4D",
        "outputId": "b7a5afc5-5976-4d82-b933-6462d6523968"
      },
      "execution_count": 35,
      "outputs": [
        {
          "output_type": "execute_result",
          "data": {
            "text/plain": [
              "array([0, 1, 2, 3, 4, 5])"
            ]
          },
          "metadata": {},
          "execution_count": 35
        }
      ]
    },
    {
      "cell_type": "markdown",
      "source": [
        "### Linespace\n",
        "\n",
        "https://numpy.org/doc/stable/reference/generated/numpy.linspace.html"
      ],
      "metadata": {
        "id": "fBzVpquQOiOK"
      }
    },
    {
      "cell_type": "code",
      "source": [
        "np.linspace(0,1,5)"
      ],
      "metadata": {
        "colab": {
          "base_uri": "https://localhost:8080/"
        },
        "id": "8uEY2HcqOlsa",
        "outputId": "fa5a5c55-19b4-443e-910c-06dfcbac5637"
      },
      "execution_count": 36,
      "outputs": [
        {
          "output_type": "execute_result",
          "data": {
            "text/plain": [
              "array([0.  , 0.25, 0.5 , 0.75, 1.  ])"
            ]
          },
          "metadata": {},
          "execution_count": 36
        }
      ]
    },
    {
      "cell_type": "code",
      "source": [
        "np.linspace(0,1,5, endpoint=False)"
      ],
      "metadata": {
        "colab": {
          "base_uri": "https://localhost:8080/"
        },
        "id": "dwXYHY-7Olp5",
        "outputId": "4c74d4db-3ffc-41f5-fa82-c68a2d280812"
      },
      "execution_count": 37,
      "outputs": [
        {
          "output_type": "execute_result",
          "data": {
            "text/plain": [
              "array([0. , 0.2, 0.4, 0.6, 0.8])"
            ]
          },
          "metadata": {},
          "execution_count": 37
        }
      ]
    },
    {
      "cell_type": "markdown",
      "source": [
        "### Repeat\n",
        "\n",
        "https://numpy.org/doc/stable/reference/generated/numpy.repeat.html"
      ],
      "metadata": {
        "id": "wkux3IuCOxhy"
      }
    },
    {
      "cell_type": "code",
      "source": [
        "np.repeat(0,5)"
      ],
      "metadata": {
        "colab": {
          "base_uri": "https://localhost:8080/"
        },
        "id": "EbZwvs0uPTEm",
        "outputId": "b97f6e2e-9342-4c60-e7a0-5c51167f5f55"
      },
      "execution_count": 38,
      "outputs": [
        {
          "output_type": "execute_result",
          "data": {
            "text/plain": [
              "array([0, 0, 0, 0, 0])"
            ]
          },
          "metadata": {},
          "execution_count": 38
        }
      ]
    },
    {
      "cell_type": "markdown",
      "source": [
        "### Zeros and Ones"
      ],
      "metadata": {
        "id": "7NkNeIGyR2Te"
      }
    },
    {
      "cell_type": "markdown",
      "source": [
        "https://numpy.org/doc/stable/reference/generated/numpy.zeros.html\n",
        "\n",
        "https://numpy.org/doc/stable/reference/generated/numpy.zeros_like.html\n",
        "\n",
        "https://numpy.org/doc/stable/reference/generated/numpy.ones.html\n",
        "\n",
        "https://numpy.org/doc/stable/reference/generated/numpy.ones_like.html"
      ],
      "metadata": {
        "id": "pfzY2672W9k6"
      }
    },
    {
      "cell_type": "code",
      "source": [
        "np.zeros((2,3))"
      ],
      "metadata": {
        "colab": {
          "base_uri": "https://localhost:8080/"
        },
        "id": "dsfc0AN0R4Ts",
        "outputId": "8a7ea8b1-53d3-4993-df05-451e98334875"
      },
      "execution_count": 39,
      "outputs": [
        {
          "output_type": "execute_result",
          "data": {
            "text/plain": [
              "array([[0., 0., 0.],\n",
              "       [0., 0., 0.]])"
            ]
          },
          "metadata": {},
          "execution_count": 39
        }
      ]
    },
    {
      "cell_type": "code",
      "source": [
        "np.ones((4,2))"
      ],
      "metadata": {
        "colab": {
          "base_uri": "https://localhost:8080/"
        },
        "id": "KNwKKhG9R7cl",
        "outputId": "a7964398-7f25-474b-96d2-ed53541ddae5"
      },
      "execution_count": 40,
      "outputs": [
        {
          "output_type": "execute_result",
          "data": {
            "text/plain": [
              "array([[1., 1.],\n",
              "       [1., 1.],\n",
              "       [1., 1.],\n",
              "       [1., 1.]])"
            ]
          },
          "metadata": {},
          "execution_count": 40
        }
      ]
    },
    {
      "cell_type": "code",
      "source": [
        "np.zeros_like(a) # returns an array of the same shape as the input array with elements replaced by zero"
      ],
      "metadata": {
        "colab": {
          "base_uri": "https://localhost:8080/"
        },
        "id": "B4iwrDxrSA2a",
        "outputId": "0c55f490-8969-453f-b5d1-19a7705df593"
      },
      "execution_count": 41,
      "outputs": [
        {
          "output_type": "execute_result",
          "data": {
            "text/plain": [
              "array([[0, 0],\n",
              "       [0, 0],\n",
              "       [0, 0]])"
            ]
          },
          "metadata": {},
          "execution_count": 41
        }
      ]
    },
    {
      "cell_type": "code",
      "source": [
        "np.ones_like(a) # returns an array of the same shape as the input array with elements replaced by one"
      ],
      "metadata": {
        "colab": {
          "base_uri": "https://localhost:8080/"
        },
        "id": "fVbDNKShSL-a",
        "outputId": "77c4ed60-4058-4653-e9d8-bceeadd87ef1"
      },
      "execution_count": 42,
      "outputs": [
        {
          "output_type": "execute_result",
          "data": {
            "text/plain": [
              "array([[1, 1],\n",
              "       [1, 1],\n",
              "       [1, 1]])"
            ]
          },
          "metadata": {},
          "execution_count": 42
        }
      ]
    },
    {
      "cell_type": "markdown",
      "source": [
        "### Reshape\n",
        "\n",
        "https://numpy.org/doc/stable/reference/generated/numpy.reshape.html"
      ],
      "metadata": {
        "id": "UxCOfhraSjtf"
      }
    },
    {
      "cell_type": "code",
      "source": [
        "a = np.arange(6)\n",
        "a"
      ],
      "metadata": {
        "colab": {
          "base_uri": "https://localhost:8080/"
        },
        "id": "7Zi8cHbhSk9p",
        "outputId": "a7bbbc96-3f9a-484d-a8bc-5266b156b664"
      },
      "execution_count": 43,
      "outputs": [
        {
          "output_type": "execute_result",
          "data": {
            "text/plain": [
              "array([0, 1, 2, 3, 4, 5])"
            ]
          },
          "metadata": {},
          "execution_count": 43
        }
      ]
    },
    {
      "cell_type": "code",
      "source": [
        "a_reshaped = a.reshape(3,2)\n",
        "a_reshaped"
      ],
      "metadata": {
        "colab": {
          "base_uri": "https://localhost:8080/"
        },
        "id": "b0m3Uck5SrNZ",
        "outputId": "81e39414-f055-48eb-ffa7-c81df39ac370"
      },
      "execution_count": 44,
      "outputs": [
        {
          "output_type": "execute_result",
          "data": {
            "text/plain": [
              "array([[0, 1],\n",
              "       [2, 3],\n",
              "       [4, 5]])"
            ]
          },
          "metadata": {},
          "execution_count": 44
        }
      ]
    },
    {
      "cell_type": "markdown",
      "source": [
        "There is a special case of reshaping that is very useful in deep learning: flattening an array to create a long 1-dimensional array"
      ],
      "metadata": {
        "id": "VVnJHqG7TB9E"
      }
    },
    {
      "cell_type": "code",
      "source": [
        "a_reshaped.reshape(1,-1) # one row"
      ],
      "metadata": {
        "colab": {
          "base_uri": "https://localhost:8080/"
        },
        "id": "E4PDqQDFSz4g",
        "outputId": "83302c44-fea4-41af-8327-703df5084cae"
      },
      "execution_count": 45,
      "outputs": [
        {
          "output_type": "execute_result",
          "data": {
            "text/plain": [
              "array([[0, 1, 2, 3, 4, 5]])"
            ]
          },
          "metadata": {},
          "execution_count": 45
        }
      ]
    },
    {
      "cell_type": "code",
      "source": [
        "a_reshaped.reshape(-1,1) # one column"
      ],
      "metadata": {
        "colab": {
          "base_uri": "https://localhost:8080/"
        },
        "id": "ni0Fg0jyTVLU",
        "outputId": "7e6cf95d-5bd4-49b9-a035-38c5ab71206d"
      },
      "execution_count": 46,
      "outputs": [
        {
          "output_type": "execute_result",
          "data": {
            "text/plain": [
              "array([[0],\n",
              "       [1],\n",
              "       [2],\n",
              "       [3],\n",
              "       [4],\n",
              "       [5]])"
            ]
          },
          "metadata": {},
          "execution_count": 46
        }
      ]
    },
    {
      "cell_type": "markdown",
      "source": [
        "There is another special case of reshaping that is also useful in deep learning: adding a new axis to an array."
      ],
      "metadata": {
        "id": "5VEFmNIQUCHx"
      }
    },
    {
      "cell_type": "code",
      "source": [
        "b = np.arange(6).reshape(3,2)\n",
        "b"
      ],
      "metadata": {
        "colab": {
          "base_uri": "https://localhost:8080/"
        },
        "id": "LRspk5NtUOxO",
        "outputId": "92ecb073-4e09-478e-a698-1759e7c646f0"
      },
      "execution_count": 47,
      "outputs": [
        {
          "output_type": "execute_result",
          "data": {
            "text/plain": [
              "array([[0, 1],\n",
              "       [2, 3],\n",
              "       [4, 5]])"
            ]
          },
          "metadata": {},
          "execution_count": 47
        }
      ]
    },
    {
      "cell_type": "code",
      "source": [
        "b.shape"
      ],
      "metadata": {
        "colab": {
          "base_uri": "https://localhost:8080/"
        },
        "id": "vY9ygYgoUTf_",
        "outputId": "b1aba8d5-3b46-4dbd-ea65-28be1f20266c"
      },
      "execution_count": 48,
      "outputs": [
        {
          "output_type": "execute_result",
          "data": {
            "text/plain": [
              "(3, 2)"
            ]
          },
          "metadata": {},
          "execution_count": 48
        }
      ]
    },
    {
      "cell_type": "code",
      "source": [
        "reshaped_b = b.reshape((1,3,2))\n",
        "reshaped_b"
      ],
      "metadata": {
        "colab": {
          "base_uri": "https://localhost:8080/"
        },
        "id": "O1NQivClUWY6",
        "outputId": "e7d11408-4edb-4bf7-c7e5-364d053a0c6d"
      },
      "execution_count": 49,
      "outputs": [
        {
          "output_type": "execute_result",
          "data": {
            "text/plain": [
              "array([[[0, 1],\n",
              "        [2, 3],\n",
              "        [4, 5]]])"
            ]
          },
          "metadata": {},
          "execution_count": 49
        }
      ]
    },
    {
      "cell_type": "code",
      "source": [
        "reshaped_b.shape"
      ],
      "metadata": {
        "colab": {
          "base_uri": "https://localhost:8080/"
        },
        "id": "YYfY3oeoUfam",
        "outputId": "b116cc35-3ca3-4a9b-a3fb-ef76d13a17d7"
      },
      "execution_count": 50,
      "outputs": [
        {
          "output_type": "execute_result",
          "data": {
            "text/plain": [
              "(1, 3, 2)"
            ]
          },
          "metadata": {},
          "execution_count": 50
        }
      ]
    },
    {
      "cell_type": "markdown",
      "source": [
        "We can also achieve the same result using the following code:"
      ],
      "metadata": {
        "id": "v-ePVU6NUhhh"
      }
    },
    {
      "cell_type": "code",
      "source": [
        "reshaped_b_2 = b[np.newaxis, :]\n",
        "reshaped_b_2"
      ],
      "metadata": {
        "colab": {
          "base_uri": "https://localhost:8080/"
        },
        "id": "py8x-s7VUgG1",
        "outputId": "0291b63f-0ef3-4751-8913-3529383b582d"
      },
      "execution_count": 51,
      "outputs": [
        {
          "output_type": "execute_result",
          "data": {
            "text/plain": [
              "array([[[0, 1],\n",
              "        [2, 3],\n",
              "        [4, 5]]])"
            ]
          },
          "metadata": {},
          "execution_count": 51
        }
      ]
    },
    {
      "cell_type": "code",
      "source": [
        "reshaped_b_2.shape"
      ],
      "metadata": {
        "colab": {
          "base_uri": "https://localhost:8080/"
        },
        "id": "fEagYTabU1jO",
        "outputId": "5a6652f3-3eb3-494f-dd45-18c4e8938bc2"
      },
      "execution_count": 52,
      "outputs": [
        {
          "output_type": "execute_result",
          "data": {
            "text/plain": [
              "(1, 3, 2)"
            ]
          },
          "metadata": {},
          "execution_count": 52
        }
      ]
    },
    {
      "cell_type": "markdown",
      "source": [
        "### Squeeze\n",
        "\n",
        "https://numpy.org/doc/stable/reference/generated/numpy.squeeze.html\n",
        "\n",
        "To remove extra dimensions that don't add anything to our array you can use `squeeze`"
      ],
      "metadata": {
        "id": "qdLYVxbCat_l"
      }
    },
    {
      "cell_type": "code",
      "source": [
        "squeezed_reshaped_b_2 = reshaped_b_2.squeeze()\n",
        "squeezed_reshaped_b_2"
      ],
      "metadata": {
        "colab": {
          "base_uri": "https://localhost:8080/"
        },
        "id": "DkVyV0SXa6u6",
        "outputId": "1c1b33bc-a8d6-4b51-fbb2-a77939e85dd3"
      },
      "execution_count": 53,
      "outputs": [
        {
          "output_type": "execute_result",
          "data": {
            "text/plain": [
              "array([[0, 1],\n",
              "       [2, 3],\n",
              "       [4, 5]])"
            ]
          },
          "metadata": {},
          "execution_count": 53
        }
      ]
    },
    {
      "cell_type": "code",
      "source": [
        "squeezed_reshaped_b_2.shape"
      ],
      "metadata": {
        "colab": {
          "base_uri": "https://localhost:8080/"
        },
        "id": "LDp_m4V_bDVR",
        "outputId": "9d373f13-bb93-45b1-a178-2b14867e63c4"
      },
      "execution_count": 54,
      "outputs": [
        {
          "output_type": "execute_result",
          "data": {
            "text/plain": [
              "(3, 2)"
            ]
          },
          "metadata": {},
          "execution_count": 54
        }
      ]
    },
    {
      "cell_type": "markdown",
      "source": [
        "### Random and Distributions"
      ],
      "metadata": {
        "id": "lTTv8KZMKJtV"
      }
    },
    {
      "cell_type": "markdown",
      "source": [
        "You can use numpy to generate random numbers.\n",
        "\n",
        "https://numpy.org/doc/stable/reference/random/index.html"
      ],
      "metadata": {
        "id": "T7OgrJFAKOjX"
      }
    },
    {
      "cell_type": "code",
      "source": [
        "np.random.random()"
      ],
      "metadata": {
        "colab": {
          "base_uri": "https://localhost:8080/"
        },
        "id": "vQemoqlGKSWd",
        "outputId": "ea2569db-dce2-43ed-cb1b-3ddd58facfc7"
      },
      "execution_count": 55,
      "outputs": [
        {
          "output_type": "execute_result",
          "data": {
            "text/plain": [
              "0.6662230150186985"
            ]
          },
          "metadata": {},
          "execution_count": 55
        }
      ]
    },
    {
      "cell_type": "code",
      "source": [
        "np.random.rand()"
      ],
      "metadata": {
        "colab": {
          "base_uri": "https://localhost:8080/"
        },
        "id": "WWSF5t8PKSKu",
        "outputId": "1f4536ba-fe3f-4ba9-d627-ab1a65e0f342"
      },
      "execution_count": 56,
      "outputs": [
        {
          "output_type": "execute_result",
          "data": {
            "text/plain": [
              "0.6644493802520621"
            ]
          },
          "metadata": {},
          "execution_count": 56
        }
      ]
    },
    {
      "cell_type": "code",
      "source": [
        "np.random.rand()"
      ],
      "metadata": {
        "colab": {
          "base_uri": "https://localhost:8080/"
        },
        "id": "027l2RJxK0cg",
        "outputId": "c361003b-3a3a-44f4-f930-6cca5d759e65"
      },
      "execution_count": 57,
      "outputs": [
        {
          "output_type": "execute_result",
          "data": {
            "text/plain": [
              "0.8216308420744485"
            ]
          },
          "metadata": {},
          "execution_count": 57
        }
      ]
    },
    {
      "cell_type": "code",
      "source": [
        "np.random.randint(1,10)"
      ],
      "metadata": {
        "colab": {
          "base_uri": "https://localhost:8080/"
        },
        "id": "fHNDLS8vK9lB",
        "outputId": "94744026-10a9-4dd5-9af7-8e88d13faded"
      },
      "execution_count": 58,
      "outputs": [
        {
          "output_type": "execute_result",
          "data": {
            "text/plain": [
              "7"
            ]
          },
          "metadata": {},
          "execution_count": 58
        }
      ]
    },
    {
      "cell_type": "code",
      "source": [
        "b = np.array([12, 4, 1.2, 2.5, 5, 14])\n",
        "np.random.choice(b)"
      ],
      "metadata": {
        "colab": {
          "base_uri": "https://localhost:8080/"
        },
        "id": "42SuhONFPmMV",
        "outputId": "d25c5b5b-830e-4358-d9bc-839c492a1ffe"
      },
      "execution_count": 59,
      "outputs": [
        {
          "output_type": "execute_result",
          "data": {
            "text/plain": [
              "1.2"
            ]
          },
          "metadata": {},
          "execution_count": 59
        }
      ]
    },
    {
      "cell_type": "markdown",
      "source": [
        "You can specify the number of draws from a list."
      ],
      "metadata": {
        "id": "ixkRGJSFQTt8"
      }
    },
    {
      "cell_type": "code",
      "source": [
        "np.random.choice(b, 2)"
      ],
      "metadata": {
        "colab": {
          "base_uri": "https://localhost:8080/"
        },
        "id": "ttXM7a17Pf-V",
        "outputId": "b803286a-50c1-4488-a8ae-878b26aa167d"
      },
      "execution_count": 60,
      "outputs": [
        {
          "output_type": "execute_result",
          "data": {
            "text/plain": [
              "array([12., 14.])"
            ]
          },
          "metadata": {},
          "execution_count": 60
        }
      ]
    },
    {
      "cell_type": "markdown",
      "source": [
        "You can assign a probability to each item in a list."
      ],
      "metadata": {
        "id": "T-phT8mmQVbF"
      }
    },
    {
      "cell_type": "code",
      "source": [
        "np.random.choice([12, 4, 1.2, 2.5, 5, 14], p=[0.1, 0.1, 0.1, 0.5, 0.05, 0.15])"
      ],
      "metadata": {
        "colab": {
          "base_uri": "https://localhost:8080/"
        },
        "id": "GOkMyOCvP2zs",
        "outputId": "1732c7eb-0156-434b-9bed-db4baf8be569"
      },
      "execution_count": 61,
      "outputs": [
        {
          "output_type": "execute_result",
          "data": {
            "text/plain": [
              "2.5"
            ]
          },
          "metadata": {},
          "execution_count": 61
        }
      ]
    },
    {
      "cell_type": "markdown",
      "source": [
        "#### Draw from `normal` distribution\n",
        "\n",
        "Check this tool to learn more about this distribution: https://homepage.divms.uiowa.edu/~mbognar/applets/normal.html"
      ],
      "metadata": {
        "id": "OUsGOXIfMnvU"
      }
    },
    {
      "cell_type": "code",
      "source": [
        "np.random.normal()"
      ],
      "metadata": {
        "colab": {
          "base_uri": "https://localhost:8080/"
        },
        "id": "34_LsdpVLIjc",
        "outputId": "1b23fd7b-61f6-4131-b80e-a6f2b06871c1"
      },
      "execution_count": 62,
      "outputs": [
        {
          "output_type": "execute_result",
          "data": {
            "text/plain": [
              "-0.3387062661523485"
            ]
          },
          "metadata": {},
          "execution_count": 62
        }
      ]
    },
    {
      "cell_type": "markdown",
      "source": [
        "#### Draw from `binomial` distribution\n",
        "\n",
        "Check this tool to learn more about this distribution: https://homepage.divms.uiowa.edu/~mbognar/applets/binnormal.html\n",
        "\n",
        "`n`: number of trials\n",
        "\n",
        "`p`: probability of success in one trial"
      ],
      "metadata": {
        "id": "LF1oU19iMJ0N"
      }
    },
    {
      "cell_type": "code",
      "source": [
        "np.random.binomial(2000, 0.2)"
      ],
      "metadata": {
        "colab": {
          "base_uri": "https://localhost:8080/"
        },
        "id": "iO8axmFvLVE6",
        "outputId": "ca3ccd7d-e26d-465f-885f-87e7be8626b2"
      },
      "execution_count": 63,
      "outputs": [
        {
          "output_type": "execute_result",
          "data": {
            "text/plain": [
              "417"
            ]
          },
          "metadata": {},
          "execution_count": 63
        }
      ]
    }
  ]
}