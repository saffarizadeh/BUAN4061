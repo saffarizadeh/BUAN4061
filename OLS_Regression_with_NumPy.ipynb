{
  "nbformat": 4,
  "nbformat_minor": 0,
  "metadata": {
    "colab": {
      "name": "OLS Regression with NumPy.ipynb",
      "provenance": [],
      "collapsed_sections": [],
      "authorship_tag": "ABX9TyO3lsHZ2RmH/78232fUV5xx",
      "include_colab_link": true
    },
    "kernelspec": {
      "name": "python3",
      "display_name": "Python 3"
    },
    "language_info": {
      "name": "python"
    }
  },
  "cells": [
    {
      "cell_type": "markdown",
      "metadata": {
        "id": "view-in-github",
        "colab_type": "text"
      },
      "source": [
        "<a href=\"https://colab.research.google.com/github/saffarizadeh/BUAN4061/blob/main/OLS_Regression_with_NumPy.ipynb\" target=\"_parent\"><img src=\"https://colab.research.google.com/assets/colab-badge.svg\" alt=\"Open In Colab\"/></a>"
      ]
    },
    {
      "cell_type": "markdown",
      "source": [
        "# Data Generation"
      ],
      "metadata": {
        "id": "7f9K_sF3hKFI"
      }
    },
    {
      "cell_type": "code",
      "execution_count": null,
      "metadata": {
        "id": "S73n59p-08P6"
      },
      "outputs": [],
      "source": [
        "import numpy as np"
      ]
    },
    {
      "cell_type": "code",
      "source": [
        "n = 10000"
      ],
      "metadata": {
        "id": "7jcCidSW-ORu"
      },
      "execution_count": null,
      "outputs": []
    },
    {
      "cell_type": "code",
      "source": [
        "x1 = np.arange(n)"
      ],
      "metadata": {
        "id": "HsRFEg8509mR"
      },
      "execution_count": null,
      "outputs": []
    },
    {
      "cell_type": "code",
      "source": [
        "x2 = np.random.randint(50,600, size=n)"
      ],
      "metadata": {
        "id": "aLLQWrqU5DaV"
      },
      "execution_count": null,
      "outputs": []
    },
    {
      "cell_type": "code",
      "source": [
        "y = 2*x1 + 3*x2 + np.random.normal(size=n)"
      ],
      "metadata": {
        "id": "WaTRgy5o1IvR"
      },
      "execution_count": null,
      "outputs": []
    },
    {
      "cell_type": "code",
      "source": [
        "x1.shape"
      ],
      "metadata": {
        "colab": {
          "base_uri": "https://localhost:8080/"
        },
        "id": "D3nQRJfv5zAK",
        "outputId": "fda5950e-7e49-4413-a3aa-1d10d2dd7ab2"
      },
      "execution_count": null,
      "outputs": [
        {
          "output_type": "execute_result",
          "data": {
            "text/plain": [
              "(10000,)"
            ]
          },
          "metadata": {},
          "execution_count": 206
        }
      ]
    },
    {
      "cell_type": "code",
      "source": [
        "x2.shape"
      ],
      "metadata": {
        "colab": {
          "base_uri": "https://localhost:8080/"
        },
        "id": "EqD-UIqI50ub",
        "outputId": "4e16b9b8-3545-409e-870b-0b320ae1ddd2"
      },
      "execution_count": null,
      "outputs": [
        {
          "output_type": "execute_result",
          "data": {
            "text/plain": [
              "(10000,)"
            ]
          },
          "metadata": {},
          "execution_count": 207
        }
      ]
    },
    {
      "cell_type": "code",
      "source": [
        "x = np.stack((x1,x2))"
      ],
      "metadata": {
        "id": "utbTPp_d1JAJ"
      },
      "execution_count": null,
      "outputs": []
    },
    {
      "cell_type": "code",
      "source": [
        "x.shape"
      ],
      "metadata": {
        "colab": {
          "base_uri": "https://localhost:8080/"
        },
        "id": "xhVCQCcS3Le9",
        "outputId": "2a79cf94-b981-43ae-efc1-3a0c97bd48e9"
      },
      "execution_count": null,
      "outputs": [
        {
          "output_type": "execute_result",
          "data": {
            "text/plain": [
              "(2, 10000)"
            ]
          },
          "metadata": {},
          "execution_count": 209
        }
      ]
    },
    {
      "cell_type": "markdown",
      "source": [
        "# LSE Solution"
      ],
      "metadata": {
        "id": "ZpJeTQqDhNZH"
      }
    },
    {
      "cell_type": "markdown",
      "source": [
        "\\begin{gather}\n",
        "y = β_0 + β_1 x_1 + β_2 x_2 + ... + ε \\\\[1em]\n",
        "Y = Xβ + ε \\\\\n",
        "ε = Y - Xβ \\\\[1em]\n",
        "Loss = ε^Tε \\\\\n",
        "Loss = (Y - Xβ)^T(Y - Xβ) \\\\[1em]\n",
        "\\frac{\\partial Loss}{\\partial β} = 0 \\\\\n",
        "\\frac{\\partial ((Y - Xβ)^T(Y - Xβ))}{\\partial β} = 0 \\\\\n",
        "-X^T(Y - Xβ)-X^T(Y - Xβ) = 0 \\\\\n",
        "-2X^T(Y - Xβ) = 0\n",
        "X^TY - X^TXβ = 0 \\\\\n",
        "X^TXβ = X^TY \\\\\n",
        "β^̂ = (X^TX)^{-1} X^TY\n",
        "\\end{gather}"
      ],
      "metadata": {
        "id": "azGxOcdqcQWS"
      }
    },
    {
      "cell_type": "markdown",
      "source": [
        "# Estimation"
      ],
      "metadata": {
        "id": "S66wZWfghH6n"
      }
    },
    {
      "cell_type": "code",
      "source": [
        "x_sq = np.dot(x, x.T)"
      ],
      "metadata": {
        "id": "YnMhFy7o5-uE"
      },
      "execution_count": null,
      "outputs": []
    },
    {
      "cell_type": "code",
      "source": [
        "x_sq.shape"
      ],
      "metadata": {
        "colab": {
          "base_uri": "https://localhost:8080/"
        },
        "id": "mGlnwUs76CmY",
        "outputId": "b960f526-6f9d-4a05-9dbd-e0061625f8d8"
      },
      "execution_count": null,
      "outputs": [
        {
          "output_type": "execute_result",
          "data": {
            "text/plain": [
              "(2, 2)"
            ]
          },
          "metadata": {},
          "execution_count": 211
        }
      ]
    },
    {
      "cell_type": "code",
      "source": [
        "x_sq_inv = np.linalg.inv(x_sq)"
      ],
      "metadata": {
        "id": "cqXmxa134zye"
      },
      "execution_count": null,
      "outputs": []
    },
    {
      "cell_type": "code",
      "source": [
        "x_sq_inv.shape"
      ],
      "metadata": {
        "colab": {
          "base_uri": "https://localhost:8080/"
        },
        "id": "MzG7TVQp6kSQ",
        "outputId": "ed9e6c83-5d35-44df-ec12-359b2b00c528"
      },
      "execution_count": null,
      "outputs": [
        {
          "output_type": "execute_result",
          "data": {
            "text/plain": [
              "(2, 2)"
            ]
          },
          "metadata": {},
          "execution_count": 213
        }
      ]
    },
    {
      "cell_type": "code",
      "source": [
        "x.T.shape"
      ],
      "metadata": {
        "colab": {
          "base_uri": "https://localhost:8080/"
        },
        "id": "jTeZnxez6nYF",
        "outputId": "9efbf352-9c7d-4b07-c18a-d884b52ad52b"
      },
      "execution_count": null,
      "outputs": [
        {
          "output_type": "execute_result",
          "data": {
            "text/plain": [
              "(10000, 2)"
            ]
          },
          "metadata": {},
          "execution_count": 214
        }
      ]
    },
    {
      "cell_type": "code",
      "source": [
        "beta = np.dot(np.dot(x_sq_inv, x), y)"
      ],
      "metadata": {
        "id": "eqR1KMvy2vYP"
      },
      "execution_count": null,
      "outputs": []
    },
    {
      "cell_type": "code",
      "source": [
        "beta"
      ],
      "metadata": {
        "colab": {
          "base_uri": "https://localhost:8080/"
        },
        "id": "t4iKCvA17Otl",
        "outputId": "efe01a0c-68f1-4b04-efbb-3f703e6550a5"
      },
      "execution_count": null,
      "outputs": [
        {
          "output_type": "execute_result",
          "data": {
            "text/plain": [
              "array([1.99999862, 3.00000132])"
            ]
          },
          "metadata": {},
          "execution_count": 216
        }
      ]
    }
  ]
}