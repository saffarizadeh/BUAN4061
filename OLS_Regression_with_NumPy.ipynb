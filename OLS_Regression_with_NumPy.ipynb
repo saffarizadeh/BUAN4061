{
  "nbformat": 4,
  "nbformat_minor": 0,
  "metadata": {
    "colab": {
      "name": "OLS Regression with NumPy.ipynb",
      "provenance": [],
      "collapsed_sections": [],
      "authorship_tag": "ABX9TyNPeXjcB+A2qcJwAVLq8jO2",
      "include_colab_link": true
    },
    "kernelspec": {
      "name": "python3",
      "display_name": "Python 3"
    },
    "language_info": {
      "name": "python"
    }
  },
  "cells": [
    {
      "cell_type": "markdown",
      "metadata": {
        "id": "view-in-github",
        "colab_type": "text"
      },
      "source": [
        "<a href=\"https://colab.research.google.com/github/saffarizadeh/BUAN4061/blob/main/OLS_Regression_with_NumPy.ipynb\" target=\"_parent\"><img src=\"https://colab.research.google.com/assets/colab-badge.svg\" alt=\"Open In Colab\"/></a>"
      ]
    },
    {
      "cell_type": "markdown",
      "source": [
        "# Data Generation"
      ],
      "metadata": {
        "id": "7f9K_sF3hKFI"
      }
    },
    {
      "cell_type": "code",
      "execution_count": null,
      "metadata": {
        "id": "S73n59p-08P6"
      },
      "outputs": [],
      "source": [
        "import numpy as np"
      ]
    },
    {
      "cell_type": "code",
      "source": [
        "n = 10000\n",
        "\n",
        "x1 = np.arange(n)\n",
        "x2 = np.random.randint(50,600, size=n)\n",
        "y = 2*x1 + 3*x2 + np.random.normal(size=n)"
      ],
      "metadata": {
        "id": "HsRFEg8509mR"
      },
      "execution_count": null,
      "outputs": []
    },
    {
      "cell_type": "code",
      "source": [
        "x = np.stack((x1,x2)).T"
      ],
      "metadata": {
        "id": "utbTPp_d1JAJ"
      },
      "execution_count": null,
      "outputs": []
    },
    {
      "cell_type": "code",
      "source": [
        "x.shape"
      ],
      "metadata": {
        "colab": {
          "base_uri": "https://localhost:8080/"
        },
        "id": "xhVCQCcS3Le9",
        "outputId": "27a9b528-93ad-4c0b-de2b-bedb4f87c65f"
      },
      "execution_count": null,
      "outputs": [
        {
          "output_type": "execute_result",
          "data": {
            "text/plain": [
              "(10000, 2)"
            ]
          },
          "metadata": {},
          "execution_count": 39
        }
      ]
    },
    {
      "cell_type": "markdown",
      "source": [
        "# LSE Solution"
      ],
      "metadata": {
        "id": "ZpJeTQqDhNZH"
      }
    },
    {
      "cell_type": "markdown",
      "source": [
        "\\begin{gather}\n",
        "y = β_0 + β_1 x_1 + β_2 x_2 + ... + ε \\\\[1em]\n",
        "Y = Xβ + ε \\\\\n",
        "ε = Y - Xβ \\\\[1em]\n",
        "Loss = ε^Tε \\\\\n",
        "Loss = (Y - Xβ)^T(Y - Xβ) \\\\[1em]\n",
        "\\frac{\\partial Loss}{\\partial β} = 0 \\\\\n",
        "\\frac{\\partial ((Y - Xβ)^T(Y - Xβ))}{\\partial β} = 0 \\\\\n",
        "-X^T(Y - Xβ)-X^T(Y - Xβ) = 0 \\\\\n",
        "-2X^T(Y - Xβ) = 0 \\\\\n",
        "X^TY - X^TXβ = 0 \\\\\n",
        "X^TXβ = X^TY \\\\\n",
        "β^̂ = (X^TX)^{-1} X^TY\n",
        "\\end{gather}"
      ],
      "metadata": {
        "id": "azGxOcdqcQWS"
      }
    },
    {
      "cell_type": "markdown",
      "source": [
        "# Estimation"
      ],
      "metadata": {
        "id": "S66wZWfghH6n"
      }
    },
    {
      "cell_type": "markdown",
      "source": [
        "$\n",
        "\\begin{align}\n",
        "X^TX\n",
        "\\end{align}\n",
        "$"
      ],
      "metadata": {
        "id": "fDPZZVbiroGp"
      }
    },
    {
      "cell_type": "code",
      "source": [
        "x_sq = np.dot(x.T, x)"
      ],
      "metadata": {
        "id": "YnMhFy7o5-uE"
      },
      "execution_count": null,
      "outputs": []
    },
    {
      "cell_type": "code",
      "source": [
        "x_sq.shape"
      ],
      "metadata": {
        "colab": {
          "base_uri": "https://localhost:8080/"
        },
        "id": "mGlnwUs76CmY",
        "outputId": "e93c0ae4-3cca-4254-9fff-ea1b5cc31758"
      },
      "execution_count": null,
      "outputs": [
        {
          "output_type": "execute_result",
          "data": {
            "text/plain": [
              "(2, 2)"
            ]
          },
          "metadata": {},
          "execution_count": 41
        }
      ]
    },
    {
      "cell_type": "markdown",
      "source": [
        "$\n",
        "\\begin{align}\n",
        "(X^TX)^{-1}\n",
        "\\end{align}\n",
        "$"
      ],
      "metadata": {
        "id": "ddRUrW8lsf4R"
      }
    },
    {
      "cell_type": "code",
      "source": [
        "x_sq_inv = np.linalg.inv(x_sq)"
      ],
      "metadata": {
        "id": "cqXmxa134zye"
      },
      "execution_count": null,
      "outputs": []
    },
    {
      "cell_type": "code",
      "source": [
        "x_sq_inv.shape"
      ],
      "metadata": {
        "colab": {
          "base_uri": "https://localhost:8080/"
        },
        "id": "MzG7TVQp6kSQ",
        "outputId": "e6eb175c-3603-4ca8-f315-c973a3eff773"
      },
      "execution_count": null,
      "outputs": [
        {
          "output_type": "execute_result",
          "data": {
            "text/plain": [
              "(2, 2)"
            ]
          },
          "metadata": {},
          "execution_count": 43
        }
      ]
    },
    {
      "cell_type": "markdown",
      "source": [
        "$\n",
        "\\begin{align}\n",
        "β^̂ = (X^TX)^{-1} X^TY\n",
        "\\end{align}\n",
        "$"
      ],
      "metadata": {
        "id": "RDY-b7NWsmqs"
      }
    },
    {
      "cell_type": "code",
      "source": [
        "beta = np.dot(np.dot(x_sq_inv, x.T), y)"
      ],
      "metadata": {
        "id": "eqR1KMvy2vYP"
      },
      "execution_count": null,
      "outputs": []
    },
    {
      "cell_type": "code",
      "source": [
        "beta"
      ],
      "metadata": {
        "colab": {
          "base_uri": "https://localhost:8080/"
        },
        "id": "t4iKCvA17Otl",
        "outputId": "ccd16aef-813d-4e1b-9dc9-d2bd63f705ac"
      },
      "execution_count": null,
      "outputs": [
        {
          "output_type": "execute_result",
          "data": {
            "text/plain": [
              "array([1.99999824, 3.00001626])"
            ]
          },
          "metadata": {},
          "execution_count": 35
        }
      ]
    }
  ]
}