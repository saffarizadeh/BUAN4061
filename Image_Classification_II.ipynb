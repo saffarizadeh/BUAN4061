{
  "nbformat": 4,
  "nbformat_minor": 0,
  "metadata": {
    "colab": {
      "name": "Image Classification II.ipynb",
      "provenance": [],
      "collapsed_sections": [],
      "authorship_tag": "ABX9TyPsIMHeSvTP+z3fw0gU5+nA",
      "include_colab_link": true
    },
    "kernelspec": {
      "name": "python3",
      "display_name": "Python 3"
    },
    "language_info": {
      "name": "python"
    }
  },
  "cells": [
    {
      "cell_type": "markdown",
      "metadata": {
        "id": "view-in-github",
        "colab_type": "text"
      },
      "source": [
        "<a href=\"https://colab.research.google.com/github/saffarizadeh/BUAN4061/blob/main/Image_Classification_II.ipynb\" target=\"_parent\"><img src=\"https://colab.research.google.com/assets/colab-badge.svg\" alt=\"Open In Colab\"/></a>"
      ]
    },
    {
      "cell_type": "markdown",
      "source": [
        "<img src=\"http://saffarizadeh.com/Logo.png\" width=\"300px\"/>\n",
        "\n",
        "# *BUAN 4061: Advanced Business Analytics*\n",
        "\n",
        "# **Image Classification II**\n",
        "\n",
        "Instructor: Dr. Kambiz Saffarizadeh\n",
        "\n",
        "---"
      ],
      "metadata": {
        "id": "6Tvb9oaIPvLM"
      }
    },
    {
      "cell_type": "code",
      "execution_count": 1,
      "metadata": {
        "id": "2PjYPTccPmb_"
      },
      "outputs": [],
      "source": [
        "import tensorflow as tf\n",
        "import matplotlib.pyplot as plt\n",
        "import numpy as np"
      ]
    },
    {
      "cell_type": "markdown",
      "source": [
        "# Model without an activation function in the last layer"
      ],
      "metadata": {
        "id": "UoYIFUQxkyZV"
      }
    },
    {
      "cell_type": "markdown",
      "source": [
        "Sometimes we avoid using an activation function in the last layer to avoid some possible numerical problems in the learning process of the model (for a detailed explanation see https://xeonqq.github.io/machine%20learning/softmax/)."
      ],
      "metadata": {
        "id": "YSPHvOEjlHQ5"
      }
    },
    {
      "cell_type": "code",
      "source": [
        "# Data\n",
        "(x_train, y_train), (x_test, y_test) = tf.keras.datasets.mnist.load_data()\n",
        "x_train = x_train / 255.0\n",
        "x_test =  x_test / 255.0\n",
        "\n",
        "# Model\n",
        "model1 = tf.keras.models.Sequential([\n",
        "  tf.keras.layers.Flatten(input_shape=(28, 28)),\n",
        "  tf.keras.layers.Dense(128, activation='relu'),\n",
        "  tf.keras.layers.Dropout(0.2),\n",
        "  tf.keras.layers.Dense(10)\n",
        "])\n",
        "\n",
        "# Compile\n",
        "model1.compile(optimizer='adam',\n",
        "              loss=tf.keras.losses.SparseCategoricalCrossentropy(from_logits=True),\n",
        "              metrics=['accuracy'])\n",
        "\n",
        "# Train\n",
        "history = model1.fit(x_train, y_train, epochs=5, validation_data=(x_test,  y_test))\n",
        "\n",
        "# Evaluate\n",
        "model1.evaluate(x_test,  y_test)"
      ],
      "metadata": {
        "colab": {
          "base_uri": "https://localhost:8080/"
        },
        "id": "cJewxKr1P0FC",
        "outputId": "7aa0a8a1-0b59-4522-be23-13835f2151ec"
      },
      "execution_count": 2,
      "outputs": [
        {
          "output_type": "stream",
          "name": "stdout",
          "text": [
            "Downloading data from https://storage.googleapis.com/tensorflow/tf-keras-datasets/mnist.npz\n",
            "11493376/11490434 [==============================] - 0s 0us/step\n",
            "11501568/11490434 [==============================] - 0s 0us/step\n",
            "Epoch 1/5\n",
            "1875/1875 [==============================] - 8s 3ms/step - loss: 0.2909 - accuracy: 0.9162 - val_loss: 0.1346 - val_accuracy: 0.9590\n",
            "Epoch 2/5\n",
            "1875/1875 [==============================] - 4s 2ms/step - loss: 0.1410 - accuracy: 0.9583 - val_loss: 0.0948 - val_accuracy: 0.9715\n",
            "Epoch 3/5\n",
            "1875/1875 [==============================] - 4s 2ms/step - loss: 0.1056 - accuracy: 0.9679 - val_loss: 0.0818 - val_accuracy: 0.9748\n",
            "Epoch 4/5\n",
            "1875/1875 [==============================] - 4s 2ms/step - loss: 0.0860 - accuracy: 0.9737 - val_loss: 0.0700 - val_accuracy: 0.9769\n",
            "Epoch 5/5\n",
            "1875/1875 [==============================] - 3s 2ms/step - loss: 0.0737 - accuracy: 0.9768 - val_loss: 0.0678 - val_accuracy: 0.9792\n",
            "313/313 [==============================] - 0s 1ms/step - loss: 0.0678 - accuracy: 0.9792\n"
          ]
        },
        {
          "output_type": "execute_result",
          "data": {
            "text/plain": [
              "[0.06784318387508392, 0.979200005531311]"
            ]
          },
          "metadata": {},
          "execution_count": 2
        }
      ]
    },
    {
      "cell_type": "code",
      "source": [
        "model1(x_test[0:1]) # It's hard to make sense of the output"
      ],
      "metadata": {
        "colab": {
          "base_uri": "https://localhost:8080/"
        },
        "id": "IF2kxfBhnyTg",
        "outputId": "fa8458ae-d718-4b8f-ccee-14633a52ee43"
      },
      "execution_count": 3,
      "outputs": [
        {
          "output_type": "execute_result",
          "data": {
            "text/plain": [
              "<tf.Tensor: shape=(1, 10), dtype=float32, numpy=\n",
              "array([[ -4.344841 ,  -7.363804 ,  -2.6658878,   2.398137 , -13.498876 ,\n",
              "         -4.3514676, -16.226683 ,  11.654815 ,  -3.9348168,   0.982264 ]],\n",
              "      dtype=float32)>"
            ]
          },
          "metadata": {},
          "execution_count": 3
        }
      ]
    },
    {
      "cell_type": "code",
      "source": [
        "tf.keras.layers.Softmax()(model1(x_test[0:1])) # Softmax forces the output to be between 0 and 1 (probability)"
      ],
      "metadata": {
        "colab": {
          "base_uri": "https://localhost:8080/"
        },
        "id": "NMtncQIHn6ub",
        "outputId": "23780012-ef4a-49bb-b744-646e7d5ee834"
      },
      "execution_count": 4,
      "outputs": [
        {
          "output_type": "execute_result",
          "data": {
            "text/plain": [
              "<tf.Tensor: shape=(1, 10), dtype=float32, numpy=\n",
              "array([[1.12560450e-07, 5.49878187e-09, 6.03317517e-07, 9.54605712e-05,\n",
              "        1.19080084e-11, 1.11816966e-07, 7.78337518e-13, 9.99880314e-01,\n",
              "        1.69612107e-07, 2.31695685e-05]], dtype=float32)>"
            ]
          },
          "metadata": {},
          "execution_count": 4
        }
      ]
    },
    {
      "cell_type": "code",
      "source": [
        "# Make results human-readable by adding a Softmax layer to the model\n",
        "probability_model = tf.keras.Sequential([\n",
        "  model1,\n",
        "  tf.keras.layers.Softmax()\n",
        "])\n",
        "\n",
        "# Use\n",
        "result = probability_model(x_test[0:1])\n",
        "\n",
        "print(result)"
      ],
      "metadata": {
        "colab": {
          "base_uri": "https://localhost:8080/"
        },
        "id": "zSZCwWPvnZVV",
        "outputId": "2e48af2f-534a-4eef-fc34-a23f236ae8e4"
      },
      "execution_count": 5,
      "outputs": [
        {
          "output_type": "stream",
          "name": "stdout",
          "text": [
            "tf.Tensor(\n",
            "[[1.12560450e-07 5.49878187e-09 6.03317517e-07 9.54605712e-05\n",
            "  1.19080084e-11 1.11816966e-07 7.78337518e-13 9.99880314e-01\n",
            "  1.69612107e-07 2.31695685e-05]], shape=(1, 10), dtype=float32)\n"
          ]
        }
      ]
    },
    {
      "cell_type": "markdown",
      "source": [
        "# Model with an activation function in the last layer"
      ],
      "metadata": {
        "id": "ov2TLQyZkxn_"
      }
    },
    {
      "cell_type": "markdown",
      "source": [
        "In practice you may see many models with an activation function in the last layer. Creating a model like this saves an extra step that we needed to add after the model was trained."
      ],
      "metadata": {
        "id": "J3Up_gStnM4t"
      }
    },
    {
      "cell_type": "code",
      "source": [
        "# Data\n",
        "(x_train, y_train), (x_test, y_test) = tf.keras.datasets.mnist.load_data()\n",
        "x_train = x_train / 255.0\n",
        "x_test =  x_test / 255.0\n",
        "\n",
        "# Model\n",
        "model1 = tf.keras.models.Sequential([\n",
        "  tf.keras.layers.Flatten(input_shape=(28, 28)),\n",
        "  tf.keras.layers.Dense(128, activation='relu'),\n",
        "  tf.keras.layers.Dropout(0.2),\n",
        "  tf.keras.layers.Dense(10, activation='softmax')\n",
        "])\n",
        "\n",
        "# Compile\n",
        "model1.compile(optimizer='adam',\n",
        "              loss=tf.keras.losses.SparseCategoricalCrossentropy(),\n",
        "              metrics=['accuracy'])\n",
        "\n",
        "# Train\n",
        "history = model1.fit(x_train, y_train, epochs=5, validation_data=(x_test,  y_test))\n",
        "\n",
        "# Evaluate\n",
        "model1.evaluate(x_test,  y_test)\n",
        "\n",
        "# Use\n",
        "model1(x_test[0:1])"
      ],
      "metadata": {
        "colab": {
          "base_uri": "https://localhost:8080/"
        },
        "id": "vbJn099PkURi",
        "outputId": "ff742d96-a2b7-4790-a0c7-62a2e922d732"
      },
      "execution_count": 6,
      "outputs": [
        {
          "output_type": "stream",
          "name": "stdout",
          "text": [
            "Epoch 1/5\n",
            "1875/1875 [==============================] - 4s 2ms/step - loss: 0.3013 - accuracy: 0.9125 - val_loss: 0.1408 - val_accuracy: 0.9589\n",
            "Epoch 2/5\n",
            "1875/1875 [==============================] - 3s 2ms/step - loss: 0.1490 - accuracy: 0.9556 - val_loss: 0.1070 - val_accuracy: 0.9667\n",
            "Epoch 3/5\n",
            "1875/1875 [==============================] - 4s 2ms/step - loss: 0.1125 - accuracy: 0.9658 - val_loss: 0.0893 - val_accuracy: 0.9727\n",
            "Epoch 4/5\n",
            "1875/1875 [==============================] - 4s 2ms/step - loss: 0.0938 - accuracy: 0.9703 - val_loss: 0.0799 - val_accuracy: 0.9766\n",
            "Epoch 5/5\n",
            "1875/1875 [==============================] - 4s 2ms/step - loss: 0.0761 - accuracy: 0.9757 - val_loss: 0.0813 - val_accuracy: 0.9760\n",
            "313/313 [==============================] - 0s 1ms/step - loss: 0.0813 - accuracy: 0.9760\n"
          ]
        },
        {
          "output_type": "execute_result",
          "data": {
            "text/plain": [
              "<tf.Tensor: shape=(1, 10), dtype=float32, numpy=\n",
              "array([[1.7247583e-08, 5.4480180e-09, 5.7170018e-06, 6.2266823e-05,\n",
              "        1.2601113e-12, 1.5521973e-08, 2.6535669e-13, 9.9992871e-01,\n",
              "        3.6625078e-08, 3.2593232e-06]], dtype=float32)>"
            ]
          },
          "metadata": {},
          "execution_count": 6
        }
      ]
    },
    {
      "cell_type": "code",
      "source": [
        "plt.imshow(x_test[0], cmap='gray')\n",
        "plt.show()\n",
        "\n",
        "print(f\"Model's prediction is {np.argmax(result)}\")"
      ],
      "metadata": {
        "colab": {
          "base_uri": "https://localhost:8080/",
          "height": 282
        },
        "id": "doI_2BuBQ_MR",
        "outputId": "5762b3e2-f3d3-42eb-858a-b605230d0fe1"
      },
      "execution_count": 7,
      "outputs": [
        {
          "output_type": "display_data",
          "data": {
            "image/png": "[encoded data removed]",
            "text/plain": [
              "<Figure size 432x288 with 1 Axes>"
            ]
          },
          "metadata": {
            "needs_background": "light"
          }
        },
        {
          "output_type": "stream",
          "name": "stdout",
          "text": [
            "Model's prediction is 7\n"
          ]
        }
      ]
    },
    {
      "cell_type": "markdown",
      "source": [
        "## Prefered method for non-sequential models"
      ],
      "metadata": {
        "id": "KdQ8XS3KQrwY"
      }
    },
    {
      "cell_type": "code",
      "source": [
        "def create_model():\n",
        "  input = tf.keras.layers.Input(shape=(28,28), dtype=tf.float32, name='input')\n",
        "  l1 = tf.keras.layers.Flatten(name='flatten')(input)\n",
        "  l2 = tf.keras.layers.Dense(128, activation='relu', name='first_classifier')(l1)\n",
        "  l3 = tf.keras.layers.Dropout(0.2, name='dropout')(l2)\n",
        "  output = tf.keras.layers.Dense(10, name='second_classifier')(l3)\n",
        "  return tf.keras.Model(input, output)"
      ],
      "metadata": {
        "id": "kSyDa2ZKQwzC"
      },
      "execution_count": 8,
      "outputs": []
    },
    {
      "cell_type": "code",
      "source": [
        "model2 = create_model()"
      ],
      "metadata": {
        "id": "yO7JVJVZRWct"
      },
      "execution_count": 9,
      "outputs": []
    },
    {
      "cell_type": "code",
      "source": [
        "tf.keras.utils.plot_model(model2)"
      ],
      "metadata": {
        "colab": {
          "base_uri": "https://localhost:8080/",
          "height": 466
        },
        "id": "bCejUavtRa5Q",
        "outputId": "3a34e7c7-6eac-4b83-cb6f-a69a2c1b745c"
      },
      "execution_count": 10,
      "outputs": [
        {
          "output_type": "execute_result",
          "data": {
            "image/png": "[encoded data removed]",
            "text/plain": [
              "<IPython.core.display.Image object>"
            ]
          },
          "metadata": {},
          "execution_count": 10
        }
      ]
    },
    {
      "cell_type": "code",
      "source": [
        "model2.summary()"
      ],
      "metadata": {
        "colab": {
          "base_uri": "https://localhost:8080/"
        },
        "id": "7F-xLzj_RbuC",
        "outputId": "b4e8a6ab-5d05-485d-9dd2-9e4bddd7813f"
      },
      "execution_count": 11,
      "outputs": [
        {
          "output_type": "stream",
          "name": "stdout",
          "text": [
            "Model: \"model\"\n",
            "_________________________________________________________________\n",
            " Layer (type)                Output Shape              Param #   \n",
            "=================================================================\n",
            " input (InputLayer)          [(None, 28, 28)]          0         \n",
            "                                                                 \n",
            " flatten (Flatten)           (None, 784)               0         \n",
            "                                                                 \n",
            " first_classifier (Dense)    (None, 128)               100480    \n",
            "                                                                 \n",
            " dropout (Dropout)           (None, 128)               0         \n",
            "                                                                 \n",
            " second_classifier (Dense)   (None, 10)                1290      \n",
            "                                                                 \n",
            "=================================================================\n",
            "Total params: 101,770\n",
            "Trainable params: 101,770\n",
            "Non-trainable params: 0\n",
            "_________________________________________________________________\n"
          ]
        }
      ]
    },
    {
      "cell_type": "markdown",
      "source": [
        "## Advanced Activation Functions"
      ],
      "metadata": {
        "id": "nBgirMd3RoJM"
      }
    },
    {
      "cell_type": "markdown",
      "source": [
        "We can find activation functions under `tf.keras.activations.` and `tf.keras.layers.`"
      ],
      "metadata": {
        "id": "bUFuL0L0Ryx0"
      }
    },
    {
      "cell_type": "code",
      "source": [
        "model3 = tf.keras.models.Sequential([\n",
        "  tf.keras.layers.Flatten(input_shape=(28, 28)),\n",
        "  tf.keras.layers.Dense(128, activation=tf.keras.activations.relu),\n",
        "  tf.keras.layers.Dropout(0.2),\n",
        "  tf.keras.layers.Dense(10)\n",
        "])"
      ],
      "metadata": {
        "id": "VAQQXsnMReR1"
      },
      "execution_count": 12,
      "outputs": []
    },
    {
      "cell_type": "code",
      "source": [
        "model4 = tf.keras.models.Sequential([\n",
        "  tf.keras.layers.Flatten(input_shape=(28, 28)),\n",
        "  tf.keras.layers.Dense(128, activation=tf.keras.layers.ReLU()),\n",
        "  tf.keras.layers.Dropout(0.2),\n",
        "  tf.keras.layers.Dense(10)\n",
        "])"
      ],
      "metadata": {
        "id": "e4JcfZ0pSR9o"
      },
      "execution_count": 13,
      "outputs": []
    },
    {
      "cell_type": "code",
      "source": [
        "model4 = tf.keras.models.Sequential([\n",
        "  tf.keras.layers.Flatten(input_shape=(28, 28)),\n",
        "  tf.keras.layers.Dense(128, activation=tf.keras.layers.LeakyReLU()),\n",
        "  tf.keras.layers.Dropout(0.2),\n",
        "  tf.keras.layers.Dense(10)\n",
        "])"
      ],
      "metadata": {
        "id": "Nms3ERwBSXVm"
      },
      "execution_count": 14,
      "outputs": []
    },
    {
      "cell_type": "markdown",
      "source": [
        "Please note the parentheses when you use `tf.keras.layers.`. You can explore the parameters that you can pass to each activation function to further customize it.\n",
        "\n",
        "You can also explore how each activation function works by passing some numbers to it independently. See the example below. (https://www.tensorflow.org/api_docs/python/tf/keras/layers/LeakyReLU)"
      ],
      "metadata": {
        "id": "yL0v-9JMSbYD"
      }
    },
    {
      "cell_type": "code",
      "source": [
        "layer = tf.keras.layers.LeakyReLU()\n",
        "layer([-3.0, -1.0, 0.0, 2.0])"
      ],
      "metadata": {
        "colab": {
          "base_uri": "https://localhost:8080/"
        },
        "id": "jWJ3C0fYSaJQ",
        "outputId": "ad169cb7-39b7-4773-b485-04ad9c859a66"
      },
      "execution_count": 15,
      "outputs": [
        {
          "output_type": "execute_result",
          "data": {
            "text/plain": [
              "<tf.Tensor: shape=(4,), dtype=float32, numpy=array([-0.90000004, -0.3       ,  0.        ,  2.        ], dtype=float32)>"
            ]
          },
          "metadata": {},
          "execution_count": 15
        }
      ]
    },
    {
      "cell_type": "code",
      "source": [
        "layer = tf.keras.layers.LeakyReLU(alpha=0.1)\n",
        "layer([-3.0, -1.0, 0.0, 2.0])"
      ],
      "metadata": {
        "colab": {
          "base_uri": "https://localhost:8080/"
        },
        "id": "uwpNIY2OTO7I",
        "outputId": "f62ad16b-6eeb-4e8f-8f99-0408088c6f15"
      },
      "execution_count": 16,
      "outputs": [
        {
          "output_type": "execute_result",
          "data": {
            "text/plain": [
              "<tf.Tensor: shape=(4,), dtype=float32, numpy=array([-0.3, -0.1,  0. ,  2. ], dtype=float32)>"
            ]
          },
          "metadata": {},
          "execution_count": 16
        }
      ]
    },
    {
      "cell_type": "code",
      "source": [
        "layer = tf.keras.layers.ReLU()\n",
        "layer([-3.0, -1.0, 0.0, 2.0])"
      ],
      "metadata": {
        "colab": {
          "base_uri": "https://localhost:8080/"
        },
        "id": "QNwO90U8T0X7",
        "outputId": "0bcf9707-e3fa-4a75-8537-7f5feb34082e"
      },
      "execution_count": 17,
      "outputs": [
        {
          "output_type": "execute_result",
          "data": {
            "text/plain": [
              "<tf.Tensor: shape=(4,), dtype=float32, numpy=array([0., 0., 0., 2.], dtype=float32)>"
            ]
          },
          "metadata": {},
          "execution_count": 17
        }
      ]
    },
    {
      "cell_type": "code",
      "source": [
        "layer = tf.keras.activations.sigmoid\n",
        "layer([-3.0, -1.0, 0.0, 2.0])"
      ],
      "metadata": {
        "colab": {
          "base_uri": "https://localhost:8080/"
        },
        "id": "euLFQSZ1T2se",
        "outputId": "e0ef67d6-0355-4d80-fce9-4172d4353565"
      },
      "execution_count": 18,
      "outputs": [
        {
          "output_type": "execute_result",
          "data": {
            "text/plain": [
              "<tf.Tensor: shape=(4,), dtype=float32, numpy=array([0.04742587, 0.26894143, 0.5       , 0.8807971 ], dtype=float32)>"
            ]
          },
          "metadata": {},
          "execution_count": 18
        }
      ]
    },
    {
      "cell_type": "code",
      "source": [
        "layer = tf.keras.activations.tanh\n",
        "layer([-3.0, -1.0, 0.0, 2.0])"
      ],
      "metadata": {
        "colab": {
          "base_uri": "https://localhost:8080/"
        },
        "id": "E6H8KAZpT9q9",
        "outputId": "bb1a0612-cf10-4ad5-b049-ec059d0e2c2d"
      },
      "execution_count": 19,
      "outputs": [
        {
          "output_type": "execute_result",
          "data": {
            "text/plain": [
              "<tf.Tensor: shape=(4,), dtype=float32, numpy=array([-0.9950547, -0.7615942,  0.       ,  0.9640276], dtype=float32)>"
            ]
          },
          "metadata": {},
          "execution_count": 19
        }
      ]
    },
    {
      "cell_type": "code",
      "source": [
        "layer = tf.keras.layers.Softmax()\n",
        "layer([-3.0, -1.0, 0.0, 2.0])"
      ],
      "metadata": {
        "colab": {
          "base_uri": "https://localhost:8080/"
        },
        "id": "43tEy5jzTpbX",
        "outputId": "8b01c069-9329-4d82-a902-e6bda31a1908"
      },
      "execution_count": 20,
      "outputs": [
        {
          "output_type": "execute_result",
          "data": {
            "text/plain": [
              "<tf.Tensor: shape=(4,), dtype=float32, numpy=array([0.0056533 , 0.04177257, 0.11354961, 0.8390245 ], dtype=float32)>"
            ]
          },
          "metadata": {},
          "execution_count": 20
        }
      ]
    },
    {
      "cell_type": "markdown",
      "source": [
        "## Advanced Optimizers"
      ],
      "metadata": {
        "id": "HH4mwiOhTgD_"
      }
    },
    {
      "cell_type": "markdown",
      "source": [
        "You can change parameters such as `learning_rate` in optimizers.\n",
        "\n",
        "https://www.tensorflow.org/api_docs/python/tf/keras/optimizers"
      ],
      "metadata": {
        "id": "JuWyFki8UOmH"
      }
    },
    {
      "cell_type": "code",
      "source": [
        "opt = tf.keras.optimizers.Adam(learning_rate=0.1)"
      ],
      "metadata": {
        "id": "gIJcoSICU5HO"
      },
      "execution_count": 21,
      "outputs": []
    },
    {
      "cell_type": "code",
      "source": [
        "model1.compile(optimizer=tf.keras.optimizers.Adam(learning_rate=0.1),\n",
        "              loss=tf.keras.losses.SparseCategoricalCrossentropy(from_logits=True),\n",
        "              metrics=['accuracy'])"
      ],
      "metadata": {
        "id": "5UWSCrC-Uesw"
      },
      "execution_count": 22,
      "outputs": []
    },
    {
      "cell_type": "markdown",
      "source": [
        "## Advanced Loss Functions"
      ],
      "metadata": {
        "id": "83soF1-0Uoda"
      }
    },
    {
      "cell_type": "markdown",
      "source": [
        "We have already seen how you can customize the current loss functions (see https://www.tensorflow.org/api_docs/python/tf/keras/losses). Here is an example:"
      ],
      "metadata": {
        "id": "Ip3082LHUrON"
      }
    },
    {
      "cell_type": "code",
      "source": [
        "bce = tf.keras.losses.SparseCategoricalCrossentropy(from_logits=True)"
      ],
      "metadata": {
        "id": "H5NQuKt_Uk25"
      },
      "execution_count": 23,
      "outputs": []
    },
    {
      "cell_type": "code",
      "source": [
        "model1.compile(optimizer=tf.keras.optimizers.Adam(learning_rate=0.1),\n",
        "              loss=tf.keras.losses.SparseCategoricalCrossentropy(from_logits=True),\n",
        "              metrics=['accuracy'])"
      ],
      "metadata": {
        "id": "VvXt7XVYU6iK"
      },
      "execution_count": 24,
      "outputs": []
    }
  ]
}